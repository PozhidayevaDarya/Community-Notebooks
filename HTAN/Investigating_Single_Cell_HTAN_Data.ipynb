{
 "cells": [
  {
   "cell_type": "markdown",
   "metadata": {
    "id": "R7MOzfSOPBgL"
   },
   "source": [
    "# Investigating HTAN scRNA-seq with BigQuery"
   ]
  },
  {
   "cell_type": "markdown",
   "metadata": {
    "id": "ItAEvfONOoJv"
   },
   "source": [
    "```\n",
    "Title:   Accessing HTAN scRNA-seq with BigQuery and building Scanpy AnnData objects.\n",
    "Author:  David L Gibbs (david.gibbs@systemsbiology.org)\n",
    "Created: 2022-3-29\n",
    "Purpose: Building AnnData objects\n",
    "URL:     \n",
    "Notes:  \n",
    "```"
   ]
  },
  {
   "cell_type": "markdown",
   "metadata": {
    "tags": []
   },
   "source": [
    "# 1. Introduction & Overview\n",
    "[HTAN](https://humantumoratlas.org/) is a National Cancer Institute (NCI)-funded Cancer MoonshotSM initiative to construct 3-dimensional atlases of the dynamic cellular, morphological, and molecular features of human cancers as they evolve from precancerous lesions to advanced disease ( [Cell April 2020](https://www.sciencedirect.com/science/article/pii/S0092867420303469).\n",
    "\n",
    "This notebook shows examples of how HTAN single cell RNA sequencing data can be accessed and analyzed using Python.\n",
    "\n",
    "### 1.1 Goal\n",
    "\n",
    "The goal of this notebook is to show the user how HTAN data can queried for cells content and gene expression.\n",
    "\n",
    "### 1.2 Inputs, Outputs, & Data\n",
    "\n",
    "Inputs for this analysis include: HTAN Level 3 (gene summarized) single cell RNA sequncing results.\n",
    "\n"
   ]
  },
  {
   "cell_type": "markdown",
   "metadata": {},
   "source": [
    "# 2. Environment & Module Setup"
   ]
  },
  {
   "cell_type": "code",
   "execution_count": 2,
   "metadata": {
    "id": "H3NECZ68OlR-"
   },
   "outputs": [],
   "source": [
    "# GCP Libraries\n",
    "from google.cloud import bigquery\n",
    "#from google.colab import auth\n",
    "\n",
    "# Data Analytics\n",
    "import numpy as np\n",
    "from scipy import stats\n",
    "from scipy import sparse\n",
    "import seaborn as sns"
   ]
  },
  {
   "cell_type": "code",
   "execution_count": 3,
   "metadata": {
    "id": "bu5_CxEb72l4"
   },
   "outputs": [],
   "source": [
    "import matplotlib.pyplot as plt\n",
    "plt.rcParams['figure.figsize'] = [8, 8]"
   ]
  },
  {
   "cell_type": "markdown",
   "metadata": {},
   "source": [
    "# 3. Google Authentication\n",
    "\n",
    "Running the BigQuery cells in this notebook requires a Google Cloud Project, instructions for creating a project can be found in the [Google Documentation](https://cloud.google.com/resource-manager/docs/creating-managing-projects#console). The instance needs to be authorized to bill the project for queries. For more information on getting started in the cloud see 'Quick Start Guide to ISB-CGC' and alternative authentication methods can be found in the [Google Documentation](https://cloud.google.com/resource-manager/docs/creating-managing-projects#console)."
   ]
  },
  {
   "cell_type": "code",
   "execution_count": null,
   "metadata": {},
   "outputs": [],
   "source": [
    "# if you're using Google Colab, authenticate to gcloud with the following\n",
    "auth.authenticate_user()\n",
    "# alternatively, use the gcloud SDK\n",
    "#!gcloud auth application-default login"
   ]
  },
  {
   "cell_type": "code",
   "execution_count": 20,
   "metadata": {
    "tags": []
   },
   "outputs": [
    {
     "name": "stderr",
     "output_type": "stream",
     "text": [
      "/opt/miniconda3/envs/nb/lib/python3.10/site-packages/google/auth/_default.py:81: UserWarning: Your application has authenticated using end user credentials from Google Cloud SDK without a quota project. You might receive a \"quota exceeded\" or \"API not enabled\" error. We recommend you rerun `gcloud auth application-default login` and make sure a quota project is added. Or you can use service accounts instead. For more information about service accounts, see https://cloud.google.com/docs/authentication/\n",
      "  warnings.warn(_CLOUD_SDK_CREDENTIALS_WARNING)\n"
     ]
    }
   ],
   "source": [
    "## Setup ##\n",
    "\n",
    "# set the google project that will be billed for this notebook's computations\n",
    "google_project = 'my_project'\n",
    "\n",
    "# Create a client to access the data within BigQuery\n",
    "client = bigquery.Client(google_project)"
   ]
  },
  {
   "cell_type": "code",
   "execution_count": 21,
   "metadata": {},
   "outputs": [
    {
     "data": {
      "text/html": [
       "\n",
       "<style>\n",
       ".output_png {\n",
       "    display: table-cell;\n",
       "    text-align: center;\n",
       "    vertical-align: middle;\n",
       "}\n",
       "</style>\n"
      ],
      "text/plain": [
       "<IPython.core.display.HTML object>"
      ]
     },
     "execution_count": 21,
     "metadata": {},
     "output_type": "execute_result"
    }
   ],
   "source": [
    "# Center figures\n",
    "from IPython.core.display import HTML\n",
    "HTML(\"\"\"\n",
    "<style>\n",
    ".output_png {\n",
    "    display: table-cell;\n",
    "    text-align: center;\n",
    "    vertical-align: middle;\n",
    "}\n",
    "</style>\n",
    "\"\"\")"
   ]
  },
  {
   "cell_type": "markdown",
   "metadata": {},
   "source": [
    "# 4. Querying data from BigQuery\n",
    "\n",
    "By accessing the HTAN-joined tables, we have cell, gene, and count data combined into one table.\n",
    "\n",
    "Let's start with looking at the number of samples per patient and number of cells per patient.\n"
   ]
  },
  {
   "cell_type": "markdown",
   "metadata": {
    "tags": []
   },
   "source": [
    "### 4.1 Samples and Cells Per Participant"
   ]
  },
  {
   "cell_type": "code",
   "execution_count": 5,
   "metadata": {
    "colab": {
     "base_uri": "https://localhost:8080/",
     "height": 363
    },
    "id": "WAfI3I97tus8",
    "outputId": "b487fdc4-0751-49fb-9297-39f17eaa9bd5"
   },
   "outputs": [
    {
     "data": {
      "text/html": [
       "<div>\n",
       "<style scoped>\n",
       "    .dataframe tbody tr th:only-of-type {\n",
       "        vertical-align: middle;\n",
       "    }\n",
       "\n",
       "    .dataframe tbody tr th {\n",
       "        vertical-align: top;\n",
       "    }\n",
       "\n",
       "    .dataframe thead th {\n",
       "        text-align: right;\n",
       "    }\n",
       "</style>\n",
       "<table border=\"1\" class=\"dataframe\">\n",
       "  <thead>\n",
       "    <tr style=\"text-align: right;\">\n",
       "      <th></th>\n",
       "      <th>patient</th>\n",
       "      <th>samples</th>\n",
       "      <th>num_cells</th>\n",
       "    </tr>\n",
       "  </thead>\n",
       "  <tbody>\n",
       "    <tr>\n",
       "      <th>0</th>\n",
       "      <td>RU682</td>\n",
       "      <td>2</td>\n",
       "      <td>2554</td>\n",
       "    </tr>\n",
       "    <tr>\n",
       "      <th>1</th>\n",
       "      <td>RU675</td>\n",
       "      <td>2</td>\n",
       "      <td>2073</td>\n",
       "    </tr>\n",
       "    <tr>\n",
       "      <th>2</th>\n",
       "      <td>RU1170</td>\n",
       "      <td>3</td>\n",
       "      <td>774</td>\n",
       "    </tr>\n",
       "    <tr>\n",
       "      <th>3</th>\n",
       "      <td>RU255</td>\n",
       "      <td>1</td>\n",
       "      <td>644</td>\n",
       "    </tr>\n",
       "    <tr>\n",
       "      <th>4</th>\n",
       "      <td>RU685</td>\n",
       "      <td>1</td>\n",
       "      <td>633</td>\n",
       "    </tr>\n",
       "    <tr>\n",
       "      <th>5</th>\n",
       "      <td>RU1124</td>\n",
       "      <td>1</td>\n",
       "      <td>608</td>\n",
       "    </tr>\n",
       "    <tr>\n",
       "      <th>6</th>\n",
       "      <td>RU661</td>\n",
       "      <td>1</td>\n",
       "      <td>560</td>\n",
       "    </tr>\n",
       "    <tr>\n",
       "      <th>7</th>\n",
       "      <td>RU1134</td>\n",
       "      <td>2</td>\n",
       "      <td>487</td>\n",
       "    </tr>\n",
       "    <tr>\n",
       "      <th>8</th>\n",
       "      <td>RU1065</td>\n",
       "      <td>1</td>\n",
       "      <td>477</td>\n",
       "    </tr>\n",
       "    <tr>\n",
       "      <th>9</th>\n",
       "      <td>RU699</td>\n",
       "      <td>1</td>\n",
       "      <td>422</td>\n",
       "    </tr>\n",
       "  </tbody>\n",
       "</table>\n",
       "</div>"
      ],
      "text/plain": [
       "  patient  samples  num_cells\n",
       "0   RU682        2       2554\n",
       "1   RU675        2       2073\n",
       "2  RU1170        3        774\n",
       "3   RU255        1        644\n",
       "4   RU685        1        633\n",
       "5  RU1124        1        608\n",
       "6   RU661        1        560\n",
       "7  RU1134        2        487\n",
       "8  RU1065        1        477\n",
       "9   RU699        1        422"
      ]
     },
     "execution_count": 5,
     "metadata": {},
     "output_type": "execute_result"
    }
   ],
   "source": [
    "# first to get the number of samples per patient\n",
    "\n",
    "df1 = client.query(\"\"\"\n",
    "  SELECT\n",
    "    patient,\n",
    "    count(distinct(batch)) samples,\n",
    "    count(distinct(Cell)) num_cells\n",
    "  FROM\n",
    "    `htan-dcc.adata_myeloid_010920.X_obs_var_join`\n",
    "  GROUP BY 1\n",
    "  ORDER BY num_cells DESC # ASC # or DESC\n",
    "    \"\"\").result().to_dataframe()\n",
    "\n",
    "df1[0:10]"
   ]
  },
  {
   "cell_type": "code",
   "execution_count": 6,
   "metadata": {
    "colab": {
     "base_uri": "https://localhost:8080/",
     "height": 585
    },
    "id": "BuK42Ndk8cbP",
    "outputId": "edb15bb3-188d-45d7-cbdd-282ab63841f0"
   },
   "outputs": [
    {
     "data": {
      "image/png": "[encoded data removed]",
      "text/plain": [
       "<Figure size 432x288 with 1 Axes>"
      ]
     },
     "metadata": {
      "needs_background": "light"
     },
     "output_type": "display_data"
    }
   ],
   "source": [
    "plt.rcParams['figure.figsize'] = [12, 8]\n",
    "\n",
    "p = sns.barplot(x=df1.patient, y=df1.num_cells)\n",
    "p.set_xlabel(\"Patient Index\", fontsize = 20)\n",
    "p.set_ylabel(\"Num Cells\", fontsize = 20)\n",
    "plt.xticks(rotation=70)\n",
    "plt.tight_layout()\n"
   ]
  },
  {
   "cell_type": "markdown",
   "metadata": {
    "id": "FmYW0gugva6d"
   },
   "source": [
    "So there's a range of how many cells were sequenced in each sample and some patients have multiple samples, RU1170 has three samples (batches), let's focus on those. What kind of samples are available?"
   ]
  },
  {
   "cell_type": "code",
   "execution_count": 7,
   "metadata": {
    "colab": {
     "base_uri": "https://localhost:8080/",
     "height": 112
    },
    "id": "fid7ymfyuwkz",
    "outputId": "a53f0700-e992-4e6a-8cf5-b9c0f57f9898"
   },
   "outputs": [
    {
     "data": {
      "text/html": [
       "<div>\n",
       "<style scoped>\n",
       "    .dataframe tbody tr th:only-of-type {\n",
       "        vertical-align: middle;\n",
       "    }\n",
       "\n",
       "    .dataframe tbody tr th {\n",
       "        vertical-align: top;\n",
       "    }\n",
       "\n",
       "    .dataframe thead th {\n",
       "        text-align: right;\n",
       "    }\n",
       "</style>\n",
       "<table border=\"1\" class=\"dataframe\">\n",
       "  <thead>\n",
       "    <tr style=\"text-align: right;\">\n",
       "      <th></th>\n",
       "      <th>patient</th>\n",
       "      <th>batch</th>\n",
       "      <th>cells</th>\n",
       "    </tr>\n",
       "  </thead>\n",
       "  <tbody>\n",
       "    <tr>\n",
       "      <th>0</th>\n",
       "      <td>RU1134</td>\n",
       "      <td>RU1134-CN2</td>\n",
       "      <td>143</td>\n",
       "    </tr>\n",
       "    <tr>\n",
       "      <th>1</th>\n",
       "      <td>RU1134</td>\n",
       "      <td>RU1134_Sort-Freeze</td>\n",
       "      <td>344</td>\n",
       "    </tr>\n",
       "  </tbody>\n",
       "</table>\n",
       "</div>"
      ],
      "text/plain": [
       "  patient               batch  cells\n",
       "0  RU1134          RU1134-CN2    143\n",
       "1  RU1134  RU1134_Sort-Freeze    344"
      ]
     },
     "execution_count": 7,
     "metadata": {},
     "output_type": "execute_result"
    }
   ],
   "source": [
    "# first to get the number of samples per patient\n",
    "\n",
    "df2 = client.query(\"\"\"\n",
    "  SELECT\n",
    "    patient,\n",
    "    batch,\n",
    "    count(distinct(Cell)) cells\n",
    "  FROM\n",
    "    `htan-dcc.adata_myeloid_010920.X_obs_var_join`\n",
    "  WHERE\n",
    "    patient = 'RU1134'\n",
    "  GROUP BY patient, batch\n",
    "    \"\"\").result().to_dataframe()\n",
    "\n",
    "df2"
   ]
  },
  {
   "cell_type": "markdown",
   "metadata": {
    "id": "lXXOO2j7vyre"
   },
   "source": [
    "Interesting, so there's a number of cells per sample (batch) where it looks like protocol order was being tested. Let's see what the annotation tells us about cells within these batches."
   ]
  },
  {
   "cell_type": "code",
   "execution_count": 8,
   "metadata": {
    "colab": {
     "base_uri": "https://localhost:8080/",
     "height": 457
    },
    "id": "zvYyVQzlvvVE",
    "outputId": "2865866e-2e3e-45f6-c1fe-8e32d6472301"
   },
   "outputs": [
    {
     "data": {
      "text/html": [
       "<div>\n",
       "<style scoped>\n",
       "    .dataframe tbody tr th:only-of-type {\n",
       "        vertical-align: middle;\n",
       "    }\n",
       "\n",
       "    .dataframe tbody tr th {\n",
       "        vertical-align: top;\n",
       "    }\n",
       "\n",
       "    .dataframe thead th {\n",
       "        text-align: right;\n",
       "    }\n",
       "</style>\n",
       "<table border=\"1\" class=\"dataframe\">\n",
       "  <thead>\n",
       "    <tr style=\"text-align: right;\">\n",
       "      <th></th>\n",
       "      <th>patient</th>\n",
       "      <th>batch</th>\n",
       "      <th>tissue</th>\n",
       "      <th>treatment</th>\n",
       "      <th>procedure</th>\n",
       "      <th>cell_type</th>\n",
       "      <th>clusters</th>\n",
       "      <th>histo</th>\n",
       "      <th>num_cells</th>\n",
       "      <th>num_genes</th>\n",
       "      <th>avg_total_counts</th>\n",
       "    </tr>\n",
       "  </thead>\n",
       "  <tbody>\n",
       "    <tr>\n",
       "      <th>0</th>\n",
       "      <td>RU1134</td>\n",
       "      <td>RU1134_Sort-Freeze</td>\n",
       "      <td>lung</td>\n",
       "      <td>Platinum Doublet</td>\n",
       "      <td>Resection</td>\n",
       "      <td>cDC</td>\n",
       "      <td>14</td>\n",
       "      <td>LUAD</td>\n",
       "      <td>26</td>\n",
       "      <td>10949</td>\n",
       "      <td>23153.584763</td>\n",
       "    </tr>\n",
       "    <tr>\n",
       "      <th>1</th>\n",
       "      <td>RU1134</td>\n",
       "      <td>RU1134_Sort-Freeze</td>\n",
       "      <td>lung</td>\n",
       "      <td>Platinum Doublet</td>\n",
       "      <td>Resection</td>\n",
       "      <td>Mo/Mφ</td>\n",
       "      <td>6</td>\n",
       "      <td>LUAD</td>\n",
       "      <td>183</td>\n",
       "      <td>14002</td>\n",
       "      <td>17003.091393</td>\n",
       "    </tr>\n",
       "    <tr>\n",
       "      <th>2</th>\n",
       "      <td>RU1134</td>\n",
       "      <td>RU1134_Sort-Freeze</td>\n",
       "      <td>lung</td>\n",
       "      <td>Platinum Doublet</td>\n",
       "      <td>Resection</td>\n",
       "      <td>cDC</td>\n",
       "      <td>5</td>\n",
       "      <td>LUAD</td>\n",
       "      <td>57</td>\n",
       "      <td>12698</td>\n",
       "      <td>23814.779908</td>\n",
       "    </tr>\n",
       "    <tr>\n",
       "      <th>3</th>\n",
       "      <td>RU1134</td>\n",
       "      <td>RU1134_Sort-Freeze</td>\n",
       "      <td>lung</td>\n",
       "      <td>Platinum Doublet</td>\n",
       "      <td>Resection</td>\n",
       "      <td>Mo/Mφ</td>\n",
       "      <td>10</td>\n",
       "      <td>LUAD</td>\n",
       "      <td>6</td>\n",
       "      <td>1445</td>\n",
       "      <td>1533.993688</td>\n",
       "    </tr>\n",
       "    <tr>\n",
       "      <th>4</th>\n",
       "      <td>RU1134</td>\n",
       "      <td>RU1134_Sort-Freeze</td>\n",
       "      <td>lung</td>\n",
       "      <td>Platinum Doublet</td>\n",
       "      <td>Resection</td>\n",
       "      <td>pDC</td>\n",
       "      <td>15</td>\n",
       "      <td>LUAD</td>\n",
       "      <td>10</td>\n",
       "      <td>8086</td>\n",
       "      <td>13033.528426</td>\n",
       "    </tr>\n",
       "    <tr>\n",
       "      <th>5</th>\n",
       "      <td>RU1134</td>\n",
       "      <td>RU1134_Sort-Freeze</td>\n",
       "      <td>lung</td>\n",
       "      <td>Platinum Doublet</td>\n",
       "      <td>Resection</td>\n",
       "      <td>Mo/Mφ</td>\n",
       "      <td>16</td>\n",
       "      <td>LUAD</td>\n",
       "      <td>12</td>\n",
       "      <td>8177</td>\n",
       "      <td>12767.233968</td>\n",
       "    </tr>\n",
       "    <tr>\n",
       "      <th>6</th>\n",
       "      <td>RU1134</td>\n",
       "      <td>RU1134_Sort-Freeze</td>\n",
       "      <td>lung</td>\n",
       "      <td>Platinum Doublet</td>\n",
       "      <td>Resection</td>\n",
       "      <td>Mo/Mφ</td>\n",
       "      <td>19</td>\n",
       "      <td>LUAD</td>\n",
       "      <td>1</td>\n",
       "      <td>1687</td>\n",
       "      <td>6243.000000</td>\n",
       "    </tr>\n",
       "    <tr>\n",
       "      <th>7</th>\n",
       "      <td>RU1134</td>\n",
       "      <td>RU1134_Sort-Freeze</td>\n",
       "      <td>lung</td>\n",
       "      <td>Platinum Doublet</td>\n",
       "      <td>Resection</td>\n",
       "      <td>Mo/Mφ</td>\n",
       "      <td>1</td>\n",
       "      <td>LUAD</td>\n",
       "      <td>7</td>\n",
       "      <td>4315</td>\n",
       "      <td>4047.123993</td>\n",
       "    </tr>\n",
       "    <tr>\n",
       "      <th>8</th>\n",
       "      <td>RU1134</td>\n",
       "      <td>RU1134_Sort-Freeze</td>\n",
       "      <td>lung</td>\n",
       "      <td>Platinum Doublet</td>\n",
       "      <td>Resection</td>\n",
       "      <td>Mo/Mφ</td>\n",
       "      <td>11</td>\n",
       "      <td>LUAD</td>\n",
       "      <td>29</td>\n",
       "      <td>4179</td>\n",
       "      <td>1535.424551</td>\n",
       "    </tr>\n",
       "    <tr>\n",
       "      <th>9</th>\n",
       "      <td>RU1134</td>\n",
       "      <td>RU1134_Sort-Freeze</td>\n",
       "      <td>lung</td>\n",
       "      <td>Platinum Doublet</td>\n",
       "      <td>Resection</td>\n",
       "      <td>Mo/Mφ</td>\n",
       "      <td>8</td>\n",
       "      <td>LUAD</td>\n",
       "      <td>5</td>\n",
       "      <td>3759</td>\n",
       "      <td>5541.849234</td>\n",
       "    </tr>\n",
       "    <tr>\n",
       "      <th>10</th>\n",
       "      <td>RU1134</td>\n",
       "      <td>RU1134_Sort-Freeze</td>\n",
       "      <td>lung</td>\n",
       "      <td>Platinum Doublet</td>\n",
       "      <td>Resection</td>\n",
       "      <td>Mo/Mφ</td>\n",
       "      <td>7</td>\n",
       "      <td>LUAD</td>\n",
       "      <td>4</td>\n",
       "      <td>2160</td>\n",
       "      <td>2226.314101</td>\n",
       "    </tr>\n",
       "    <tr>\n",
       "      <th>11</th>\n",
       "      <td>RU1134</td>\n",
       "      <td>RU1134_Sort-Freeze</td>\n",
       "      <td>lung</td>\n",
       "      <td>Platinum Doublet</td>\n",
       "      <td>Resection</td>\n",
       "      <td>Mo/Mφ</td>\n",
       "      <td>18</td>\n",
       "      <td>LUAD</td>\n",
       "      <td>2</td>\n",
       "      <td>1385</td>\n",
       "      <td>2199.821705</td>\n",
       "    </tr>\n",
       "    <tr>\n",
       "      <th>12</th>\n",
       "      <td>RU1134</td>\n",
       "      <td>RU1134_Sort-Freeze</td>\n",
       "      <td>lung</td>\n",
       "      <td>Platinum Doublet</td>\n",
       "      <td>Resection</td>\n",
       "      <td>PMN</td>\n",
       "      <td>13</td>\n",
       "      <td>LUAD</td>\n",
       "      <td>2</td>\n",
       "      <td>391</td>\n",
       "      <td>471.059102</td>\n",
       "    </tr>\n",
       "  </tbody>\n",
       "</table>\n",
       "</div>"
      ],
      "text/plain": [
       "   patient               batch tissue         treatment  procedure cell_type  \\\n",
       "0   RU1134  RU1134_Sort-Freeze   lung  Platinum Doublet  Resection       cDC   \n",
       "1   RU1134  RU1134_Sort-Freeze   lung  Platinum Doublet  Resection     Mo/Mφ   \n",
       "2   RU1134  RU1134_Sort-Freeze   lung  Platinum Doublet  Resection       cDC   \n",
       "3   RU1134  RU1134_Sort-Freeze   lung  Platinum Doublet  Resection     Mo/Mφ   \n",
       "4   RU1134  RU1134_Sort-Freeze   lung  Platinum Doublet  Resection       pDC   \n",
       "5   RU1134  RU1134_Sort-Freeze   lung  Platinum Doublet  Resection     Mo/Mφ   \n",
       "6   RU1134  RU1134_Sort-Freeze   lung  Platinum Doublet  Resection     Mo/Mφ   \n",
       "7   RU1134  RU1134_Sort-Freeze   lung  Platinum Doublet  Resection     Mo/Mφ   \n",
       "8   RU1134  RU1134_Sort-Freeze   lung  Platinum Doublet  Resection     Mo/Mφ   \n",
       "9   RU1134  RU1134_Sort-Freeze   lung  Platinum Doublet  Resection     Mo/Mφ   \n",
       "10  RU1134  RU1134_Sort-Freeze   lung  Platinum Doublet  Resection     Mo/Mφ   \n",
       "11  RU1134  RU1134_Sort-Freeze   lung  Platinum Doublet  Resection     Mo/Mφ   \n",
       "12  RU1134  RU1134_Sort-Freeze   lung  Platinum Doublet  Resection       PMN   \n",
       "\n",
       "    clusters histo  num_cells  num_genes  avg_total_counts  \n",
       "0         14  LUAD         26      10949      23153.584763  \n",
       "1          6  LUAD        183      14002      17003.091393  \n",
       "2          5  LUAD         57      12698      23814.779908  \n",
       "3         10  LUAD          6       1445       1533.993688  \n",
       "4         15  LUAD         10       8086      13033.528426  \n",
       "5         16  LUAD         12       8177      12767.233968  \n",
       "6         19  LUAD          1       1687       6243.000000  \n",
       "7          1  LUAD          7       4315       4047.123993  \n",
       "8         11  LUAD         29       4179       1535.424551  \n",
       "9          8  LUAD          5       3759       5541.849234  \n",
       "10         7  LUAD          4       2160       2226.314101  \n",
       "11        18  LUAD          2       1385       2199.821705  \n",
       "12        13  LUAD          2        391        471.059102  "
      ]
     },
     "execution_count": 8,
     "metadata": {},
     "output_type": "execute_result"
    }
   ],
   "source": [
    "# first to get the number of samples per patient\n",
    "\n",
    "df3 = client.query(\"\"\"\n",
    "  SELECT\n",
    "    patient,\n",
    "    batch,\n",
    "    tissue, \n",
    "    treatment, \n",
    "    procedure, \n",
    "    cell_type,\n",
    "    clusters,\n",
    "    histo,\n",
    "    count(distinct(Cell)) num_cells,\n",
    "    count(distinct(index)) num_genes,\n",
    "    AVG(total_counts) avg_total_counts\n",
    "\n",
    "  FROM\n",
    "    `htan-dcc.adata_myeloid_010920.X_obs_var_join`\n",
    "  WHERE\n",
    "    batch = 'RU1134_Sort-Freeze' \n",
    "  GROUP BY 1,2,3,4,5,6,7,8\n",
    "    \"\"\").result().to_dataframe()\n",
    "\n",
    "df3"
   ]
  },
  {
   "cell_type": "markdown",
   "metadata": {
    "id": "kyhvNBiB2aQ4"
   },
   "source": [
    "Ok, so we see that these cells are primarily Macrophages and dendritic cells (DCs) from the lung, but they fall into a number of different clusters. There are a smaller number of clusters that contain most of the cells and all the cells have been aquired using the same procedure after treatment.  Let's make a plot!"
   ]
  },
  {
   "cell_type": "code",
   "execution_count": 9,
   "metadata": {
    "colab": {
     "base_uri": "https://localhost:8080/",
     "height": 532
    },
    "id": "7tB2PlBV_xXd",
    "outputId": "f6b5cb10-9839-4288-eabf-7cb6380d2b82"
   },
   "outputs": [
    {
     "data": {
      "text/plain": [
       "[Text(0.5, 1.0, 'RU1170g_Freeze-Sort')]"
      ]
     },
     "execution_count": 9,
     "metadata": {},
     "output_type": "execute_result"
    },
    {
     "data": {
      "image/png": "[encoded data removed]",
      "text/plain": [
       "<Figure size 432x288 with 1 Axes>"
      ]
     },
     "metadata": {
      "needs_background": "light"
     },
     "output_type": "display_data"
    }
   ],
   "source": [
    "sns.scatterplot(data=df3, x='num_cells', y='num_genes', hue='cell_type').set(title='RU1170g_Freeze-Sort')"
   ]
  },
  {
   "cell_type": "markdown",
   "metadata": {
    "tags": []
   },
   "source": [
    "### 4.2 Compare monocyte gene expression among clusters"
   ]
  },
  {
   "cell_type": "markdown",
   "metadata": {
    "id": "XjrEFRaI3pv7"
   },
   "source": [
    "To continue, let's compare the gene expression between Mo/Mφ in clusters 16 vs 6.  To start with, let's get gene expression for these cells and look at the high expressing genes."
   ]
  },
  {
   "cell_type": "code",
   "execution_count": 10,
   "metadata": {
    "colab": {
     "base_uri": "https://localhost:8080/",
     "height": 363
    },
    "id": "k8sY1lAs3JSq",
    "outputId": "f63b0dc0-311e-4f49-bff6-85968b9c0c21"
   },
   "outputs": [
    {
     "data": {
      "text/html": [
       "<div>\n",
       "<style scoped>\n",
       "    .dataframe tbody tr th:only-of-type {\n",
       "        vertical-align: middle;\n",
       "    }\n",
       "\n",
       "    .dataframe tbody tr th {\n",
       "        vertical-align: top;\n",
       "    }\n",
       "\n",
       "    .dataframe thead th {\n",
       "        text-align: right;\n",
       "    }\n",
       "</style>\n",
       "<table border=\"1\" class=\"dataframe\">\n",
       "  <thead>\n",
       "    <tr style=\"text-align: right;\">\n",
       "      <th></th>\n",
       "      <th>batch</th>\n",
       "      <th>clusters</th>\n",
       "      <th>num_cells_C6</th>\n",
       "      <th>gene</th>\n",
       "      <th>avg_counts_C6</th>\n",
       "    </tr>\n",
       "  </thead>\n",
       "  <tbody>\n",
       "    <tr>\n",
       "      <th>0</th>\n",
       "      <td>RU1134_Sort-Freeze</td>\n",
       "      <td>6</td>\n",
       "      <td>183</td>\n",
       "      <td>FTH1</td>\n",
       "      <td>8.218318</td>\n",
       "    </tr>\n",
       "    <tr>\n",
       "      <th>1</th>\n",
       "      <td>RU1134_Sort-Freeze</td>\n",
       "      <td>6</td>\n",
       "      <td>183</td>\n",
       "      <td>FTL</td>\n",
       "      <td>7.226197</td>\n",
       "    </tr>\n",
       "    <tr>\n",
       "      <th>2</th>\n",
       "      <td>RU1134_Sort-Freeze</td>\n",
       "      <td>6</td>\n",
       "      <td>183</td>\n",
       "      <td>LYZ</td>\n",
       "      <td>6.779811</td>\n",
       "    </tr>\n",
       "    <tr>\n",
       "      <th>3</th>\n",
       "      <td>RU1134_Sort-Freeze</td>\n",
       "      <td>6</td>\n",
       "      <td>183</td>\n",
       "      <td>B2M</td>\n",
       "      <td>6.725721</td>\n",
       "    </tr>\n",
       "    <tr>\n",
       "      <th>4</th>\n",
       "      <td>RU1134_Sort-Freeze</td>\n",
       "      <td>6</td>\n",
       "      <td>183</td>\n",
       "      <td>HLA-DRA</td>\n",
       "      <td>6.621716</td>\n",
       "    </tr>\n",
       "    <tr>\n",
       "      <th>5</th>\n",
       "      <td>RU1134_Sort-Freeze</td>\n",
       "      <td>6</td>\n",
       "      <td>183</td>\n",
       "      <td>ACTB</td>\n",
       "      <td>6.555078</td>\n",
       "    </tr>\n",
       "    <tr>\n",
       "      <th>6</th>\n",
       "      <td>RU1134_Sort-Freeze</td>\n",
       "      <td>6</td>\n",
       "      <td>183</td>\n",
       "      <td>TPT1</td>\n",
       "      <td>6.319609</td>\n",
       "    </tr>\n",
       "    <tr>\n",
       "      <th>7</th>\n",
       "      <td>RU1134_Sort-Freeze</td>\n",
       "      <td>6</td>\n",
       "      <td>183</td>\n",
       "      <td>SRGN</td>\n",
       "      <td>6.318309</td>\n",
       "    </tr>\n",
       "    <tr>\n",
       "      <th>8</th>\n",
       "      <td>RU1134_Sort-Freeze</td>\n",
       "      <td>6</td>\n",
       "      <td>183</td>\n",
       "      <td>CD74</td>\n",
       "      <td>6.258437</td>\n",
       "    </tr>\n",
       "    <tr>\n",
       "      <th>9</th>\n",
       "      <td>RU1134_Sort-Freeze</td>\n",
       "      <td>6</td>\n",
       "      <td>183</td>\n",
       "      <td>VIM</td>\n",
       "      <td>6.105739</td>\n",
       "    </tr>\n",
       "  </tbody>\n",
       "</table>\n",
       "</div>"
      ],
      "text/plain": [
       "                batch  clusters  num_cells_C6     gene  avg_counts_C6\n",
       "0  RU1134_Sort-Freeze         6           183     FTH1       8.218318\n",
       "1  RU1134_Sort-Freeze         6           183      FTL       7.226197\n",
       "2  RU1134_Sort-Freeze         6           183      LYZ       6.779811\n",
       "3  RU1134_Sort-Freeze         6           183      B2M       6.725721\n",
       "4  RU1134_Sort-Freeze         6           183  HLA-DRA       6.621716\n",
       "5  RU1134_Sort-Freeze         6           183     ACTB       6.555078\n",
       "6  RU1134_Sort-Freeze         6           183     TPT1       6.319609\n",
       "7  RU1134_Sort-Freeze         6           183     SRGN       6.318309\n",
       "8  RU1134_Sort-Freeze         6           183     CD74       6.258437\n",
       "9  RU1134_Sort-Freeze         6           183      VIM       6.105739"
      ]
     },
     "execution_count": 10,
     "metadata": {},
     "output_type": "execute_result"
    }
   ],
   "source": [
    "# first to get the number of samples per patient\n",
    "\n",
    "df4 = client.query(\"\"\"\n",
    "  SELECT\n",
    "    batch,\n",
    "    clusters,\n",
    "    count(distinct(Cell)) as num_cells_C6,\n",
    "    index as gene, \n",
    "    AVG(X_value) as avg_counts_C6\n",
    "  FROM\n",
    "    `htan-dcc.adata_myeloid_010920.X_obs_var_join`\n",
    "  WHERE\n",
    "    batch = 'RU1134_Sort-Freeze' and\n",
    "    tissue = 'lung' and\n",
    "    cell_type = 'Mo/Mφ' and \n",
    "    clusters = 6\n",
    "  GROUP BY 1,2,4\n",
    "  ORDER BY avg_counts_C6 DESC\n",
    "  LIMIT 10\n",
    "    \"\"\").result().to_dataframe()\n",
    "\n",
    "df4"
   ]
  },
  {
   "cell_type": "markdown",
   "metadata": {
    "id": "SnxUwwndJphW"
   },
   "source": [
    "What do the expression counts look like for one cell here?  Let's pick out one cell and look across it's expression."
   ]
  },
  {
   "cell_type": "code",
   "execution_count": 11,
   "metadata": {
    "colab": {
     "base_uri": "https://localhost:8080/",
     "height": 517
    },
    "id": "wQ1Wj18BJoy4",
    "outputId": "187b694d-f955-4d8e-8f29-e225b2048ef3"
   },
   "outputs": [
    {
     "data": {
      "text/plain": [
       "[Text(0.5, 1.0, 'RU1134_Sort-Freeze_201542926744819, Gene Counts')]"
      ]
     },
     "execution_count": 11,
     "metadata": {},
     "output_type": "execute_result"
    },
    {
     "data": {
      "image/png": "[encoded data removed]",
      "text/plain": [
       "<Figure size 432x288 with 1 Axes>"
      ]
     },
     "metadata": {
      "needs_background": "light"
     },
     "output_type": "display_data"
    }
   ],
   "source": [
    "# first to get the number of samples per patient\n",
    "\n",
    "df4_1 = client.query(\"\"\"\n",
    "  SELECT\n",
    "    batch,\n",
    "    clusters,\n",
    "    Cell,\n",
    "    index as gene, \n",
    "    X_value\n",
    "  FROM\n",
    "    `htan-dcc.adata_myeloid_010920.X_obs_var_join`\n",
    "  WHERE\n",
    "    batch = 'RU1134_Sort-Freeze' and\n",
    "    tissue = 'lung' and\n",
    "    cell_type = 'Mo/Mφ' and \n",
    "    clusters = 6 and \n",
    "    Cell = 'RU1134_Sort-Freeze_201542926744819'\n",
    "  GROUP BY 1,2,3,4,5\n",
    "  ORDER BY X_value ASC\n",
    "    \"\"\").result().to_dataframe()\n",
    "\n",
    "sns.scatterplot(data=df4_1, x=df4_1.index, y='X_value').set(title='RU1134_Sort-Freeze_201542926744819, Gene Counts')"
   ]
  },
  {
   "cell_type": "markdown",
   "metadata": {
    "id": "A7Gx199d_Azu"
   },
   "source": [
    "I think we can see that these counts are certainly log transformed, and possibly normalized."
   ]
  },
  {
   "cell_type": "markdown",
   "metadata": {
    "id": "JA45agzj-2xB"
   },
   "source": [
    "Let's see what the mean differences are between cluster 16 and 6."
   ]
  },
  {
   "cell_type": "code",
   "execution_count": 12,
   "metadata": {
    "colab": {
     "base_uri": "https://localhost:8080/",
     "height": 423
    },
    "id": "gjDcuxtl-_wS",
    "outputId": "55f97d12-5902-49bc-9577-24d5f269e9e1"
   },
   "outputs": [
    {
     "data": {
      "text/html": [
       "<div>\n",
       "<style scoped>\n",
       "    .dataframe tbody tr th:only-of-type {\n",
       "        vertical-align: middle;\n",
       "    }\n",
       "\n",
       "    .dataframe tbody tr th {\n",
       "        vertical-align: top;\n",
       "    }\n",
       "\n",
       "    .dataframe thead th {\n",
       "        text-align: right;\n",
       "    }\n",
       "</style>\n",
       "<table border=\"1\" class=\"dataframe\">\n",
       "  <thead>\n",
       "    <tr style=\"text-align: right;\">\n",
       "      <th></th>\n",
       "      <th>batch</th>\n",
       "      <th>gene</th>\n",
       "      <th>avg_counts_C16</th>\n",
       "      <th>avg_counts_C6</th>\n",
       "      <th>mean_diff</th>\n",
       "    </tr>\n",
       "  </thead>\n",
       "  <tbody>\n",
       "    <tr>\n",
       "      <th>0</th>\n",
       "      <td>RU1170g_Freeze-Sort</td>\n",
       "      <td>BMP2</td>\n",
       "      <td>3.428054</td>\n",
       "      <td>0.742353</td>\n",
       "      <td>2.685701</td>\n",
       "    </tr>\n",
       "    <tr>\n",
       "      <th>1</th>\n",
       "      <td>RU1170g_Freeze-Sort</td>\n",
       "      <td>LAMP3</td>\n",
       "      <td>2.933397</td>\n",
       "      <td>0.623930</td>\n",
       "      <td>2.309467</td>\n",
       "    </tr>\n",
       "    <tr>\n",
       "      <th>2</th>\n",
       "      <td>RU1170g_Freeze-Sort</td>\n",
       "      <td>GDF15</td>\n",
       "      <td>3.261792</td>\n",
       "      <td>1.059851</td>\n",
       "      <td>2.201941</td>\n",
       "    </tr>\n",
       "    <tr>\n",
       "      <th>3</th>\n",
       "      <td>RU1170g_Freeze-Sort</td>\n",
       "      <td>FCGR3A</td>\n",
       "      <td>4.135931</td>\n",
       "      <td>2.112109</td>\n",
       "      <td>2.023822</td>\n",
       "    </tr>\n",
       "    <tr>\n",
       "      <th>4</th>\n",
       "      <td>RU1170g_Freeze-Sort</td>\n",
       "      <td>PEBP4</td>\n",
       "      <td>2.777788</td>\n",
       "      <td>0.856318</td>\n",
       "      <td>1.921470</td>\n",
       "    </tr>\n",
       "    <tr>\n",
       "      <th>...</th>\n",
       "      <td>...</td>\n",
       "      <td>...</td>\n",
       "      <td>...</td>\n",
       "      <td>...</td>\n",
       "      <td>...</td>\n",
       "    </tr>\n",
       "    <tr>\n",
       "      <th>195</th>\n",
       "      <td>RU1170g_Freeze-Sort</td>\n",
       "      <td>TUBA1A</td>\n",
       "      <td>2.777784</td>\n",
       "      <td>2.105401</td>\n",
       "      <td>0.672383</td>\n",
       "    </tr>\n",
       "    <tr>\n",
       "      <th>196</th>\n",
       "      <td>RU1170g_Freeze-Sort</td>\n",
       "      <td>LIN52</td>\n",
       "      <td>1.226290</td>\n",
       "      <td>0.554424</td>\n",
       "      <td>0.671866</td>\n",
       "    </tr>\n",
       "    <tr>\n",
       "      <th>197</th>\n",
       "      <td>RU1170g_Freeze-Sort</td>\n",
       "      <td>WAC</td>\n",
       "      <td>2.360655</td>\n",
       "      <td>1.689191</td>\n",
       "      <td>0.671464</td>\n",
       "    </tr>\n",
       "    <tr>\n",
       "      <th>198</th>\n",
       "      <td>RU1170g_Freeze-Sort</td>\n",
       "      <td>RP11-488C13.5</td>\n",
       "      <td>1.544391</td>\n",
       "      <td>0.874343</td>\n",
       "      <td>0.670048</td>\n",
       "    </tr>\n",
       "    <tr>\n",
       "      <th>199</th>\n",
       "      <td>RU1170g_Freeze-Sort</td>\n",
       "      <td>LACE1</td>\n",
       "      <td>1.398126</td>\n",
       "      <td>0.728112</td>\n",
       "      <td>0.670014</td>\n",
       "    </tr>\n",
       "  </tbody>\n",
       "</table>\n",
       "<p>200 rows × 5 columns</p>\n",
       "</div>"
      ],
      "text/plain": [
       "                   batch           gene  avg_counts_C16  avg_counts_C6  \\\n",
       "0    RU1170g_Freeze-Sort           BMP2        3.428054       0.742353   \n",
       "1    RU1170g_Freeze-Sort          LAMP3        2.933397       0.623930   \n",
       "2    RU1170g_Freeze-Sort          GDF15        3.261792       1.059851   \n",
       "3    RU1170g_Freeze-Sort         FCGR3A        4.135931       2.112109   \n",
       "4    RU1170g_Freeze-Sort          PEBP4        2.777788       0.856318   \n",
       "..                   ...            ...             ...            ...   \n",
       "195  RU1170g_Freeze-Sort         TUBA1A        2.777784       2.105401   \n",
       "196  RU1170g_Freeze-Sort          LIN52        1.226290       0.554424   \n",
       "197  RU1170g_Freeze-Sort            WAC        2.360655       1.689191   \n",
       "198  RU1170g_Freeze-Sort  RP11-488C13.5        1.544391       0.874343   \n",
       "199  RU1170g_Freeze-Sort          LACE1        1.398126       0.728112   \n",
       "\n",
       "     mean_diff  \n",
       "0     2.685701  \n",
       "1     2.309467  \n",
       "2     2.201941  \n",
       "3     2.023822  \n",
       "4     1.921470  \n",
       "..         ...  \n",
       "195   0.672383  \n",
       "196   0.671866  \n",
       "197   0.671464  \n",
       "198   0.670048  \n",
       "199   0.670014  \n",
       "\n",
       "[200 rows x 5 columns]"
      ]
     },
     "execution_count": 12,
     "metadata": {},
     "output_type": "execute_result"
    }
   ],
   "source": [
    "# first to get the number of samples per patient\n",
    "\n",
    "df5 = client.query(\"\"\"\n",
    "\n",
    "SELECT\n",
    "  A.batch,\n",
    "  A.gene,\n",
    "  A.avg_counts_C16,\n",
    "  B.avg_counts_C6,\n",
    "  A.avg_counts_C16 - B.avg_counts_C6 as mean_diff\n",
    "FROM (\n",
    "  SELECT\n",
    "    batch,\n",
    "    INDEX AS gene,\n",
    "    AVG(X_value) AS avg_counts_C16\n",
    "  FROM\n",
    "    `htan-dcc.adata_myeloid_010920.X_obs_var_join`\n",
    "  WHERE\n",
    "    batch = 'RU1170g_Freeze-Sort'\n",
    "    AND tissue = 'lung'\n",
    "    AND cell_type = 'Mo/Mφ'\n",
    "    AND clusters = 16\n",
    "  GROUP BY\n",
    "    1,\n",
    "    2 ) AS A\n",
    "INNER JOIN (\n",
    "  SELECT\n",
    "    batch,\n",
    "    INDEX AS gene,\n",
    "    AVG(X_value) AS avg_counts_C6\n",
    "  FROM\n",
    "    `htan-dcc.adata_myeloid_010920.X_obs_var_join`\n",
    "  WHERE\n",
    "    batch = 'RU1170g_Freeze-Sort'\n",
    "    AND tissue = 'lung'\n",
    "    AND cell_type = 'Mo/Mφ'\n",
    "    AND clusters = 6\n",
    "  GROUP BY\n",
    "    1,\n",
    "    2 ) AS B\n",
    "ON\n",
    "  A.batch = B.batch\n",
    "  AND A.gene = B.gene\n",
    "\n",
    "GROUP BY 1,2,3,4\n",
    "ORDER BY mean_diff DESC\n",
    "LIMIT 200\n",
    "\n",
    "    \"\"\").result().to_dataframe()\n",
    "\n",
    "df5"
   ]
  },
  {
   "cell_type": "code",
   "execution_count": 13,
   "metadata": {
    "colab": {
     "base_uri": "https://localhost:8080/",
     "height": 501
    },
    "id": "xYdGe5cvG3lW",
    "outputId": "19797d41-37ba-4231-c2f0-729b7918a58b"
   },
   "outputs": [
    {
     "data": {
      "text/plain": [
       "<AxesSubplot:ylabel='mean_diff'>"
      ]
     },
     "execution_count": 13,
     "metadata": {},
     "output_type": "execute_result"
    },
    {
     "data": {
      "image/png": "[encoded data removed]",
      "text/plain": [
       "<Figure size 432x288 with 1 Axes>"
      ]
     },
     "metadata": {
      "needs_background": "light"
     },
     "output_type": "display_data"
    }
   ],
   "source": [
    "sns.scatterplot(data=df5, x=range(0,200), y='mean_diff')"
   ]
  },
  {
   "cell_type": "markdown",
   "metadata": {
    "id": "nrdMwq2dHq4S"
   },
   "source": [
    "\"The role of BMP2 in macrophages is unknown and remains an area of active research. BMP2 has been reported to be constitutively expressed in M1 (inflammatory) macrophages\" (https://www.nature.com/articles/s41598-018-37329-5)"
   ]
  },
  {
   "cell_type": "markdown",
   "metadata": {
    "id": "PcAe6aqVHUy1"
   },
   "source": [
    "In this notebook we explored the data, drilled down into a single sample (batch) and within that sample, compared the gene expression of macrophages that lie in the two largest macrophage clusters."
   ]
  },
  {
   "cell_type": "markdown",
   "metadata": {},
   "source": [
    "# 5. Relevant Citations and Links"
   ]
  },
  {
   "cell_type": "markdown",
   "metadata": {
    "jp-MarkdownHeadingCollapsed": true,
    "tags": []
   },
   "source": [
    "\n",
    "[HTAN Portal](https://humantumoratlas.org/)   \n",
    "\n",
    "\n",
    "[Overview paper, Cell, April 2020](https://www.sciencedirect.com/science/article/pii/S0092867420303469)\n",
    "\n"
   ]
  }
 ],
 "metadata": {
  "colab": {
   "collapsed_sections": [],
   "name": "Investigating_Single_Cell_HTAN_Data.ipynb",
   "provenance": []
  },
  "kernelspec": {
   "display_name": "Python 3 (ipykernel)",
   "language": "python",
   "name": "python3"
  },
  "language_info": {
   "codemirror_mode": {
    "name": "ipython",
    "version": 3
   },
   "file_extension": ".py",
   "mimetype": "text/x-python",
   "name": "python",
   "nbconvert_exporter": "python",
   "pygments_lexer": "ipython3",
   "version": "3.10.5"
  }
 },
 "nbformat": 4,
 "nbformat_minor": 4
}
