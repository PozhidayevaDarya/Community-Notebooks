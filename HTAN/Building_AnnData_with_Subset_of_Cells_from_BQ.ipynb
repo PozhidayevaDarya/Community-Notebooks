{
 "cells": [
  {
   "cell_type": "markdown",
   "metadata": {
    "id": "R7MOzfSOPBgL"
   },
   "source": [
    "# Accessing HTAN scRNA-seq with BQ and building Scanpy AnnData objects"
   ]
  },
  {
   "cell_type": "markdown",
   "metadata": {
    "id": "pDrXgG7gOQBF"
   },
   "source": [
    "```\n",
    "Title:   Accessing HTAN scRNA-seq with BQ and building Scanpy AnnData objects.\n",
    "Author:  David L Gibbs (david.gibbs@systemsbiology.org)\n",
    "Created: 2022-3-29\n",
    "Purpose: Building AnnData objects\n",
    "URL:     \n",
    "Notes:   \n",
    "```"
   ]
  },
  {
   "cell_type": "markdown",
   "metadata": {},
   "source": [
    "# 1. Introduction & Overview\n",
    "[HTAN](https://humantumoratlas.org/) is a National Cancer Institute (NCI)-funded Cancer MoonshotSM initiative to construct 3-dimensional atlases of the dynamic cellular, morphological, and molecular features of human cancers as they evolve from precancerous lesions to advanced disease ( [Cell April 2020](https://www.sciencedirect.com/science/article/pii/S0092867420303469) )\n",
    "\n",
    "This notebook shows how cells of a particular type can be pulled from BigQuery tables and used to construct an AnnData object\n",
    "\n",
    "### 1.1 Goal\n",
    "\n",
    "The goal of this notebook is to show the user how HTAN single cell data can be queried for a cell type and assembled for further processing. \n",
    "\n",
    "### 1.2 Inputs, Outputs, & Data\n",
    "\n",
    "Inputs for this analysis include HTAN single cell RNA sequencing data (Level 2, gene summarized)\n",
    "\n"
   ]
  },
  {
   "cell_type": "markdown",
   "metadata": {},
   "source": [
    "# 2. Environment & Module Setup"
   ]
  },
  {
   "cell_type": "code",
   "execution_count": 33,
   "metadata": {
    "id": "H3NECZ68OlR-"
   },
   "outputs": [],
   "source": [
    "# GCP Libraries\n",
    "from google.cloud import bigquery\n",
    "#from google.colab import auth\n",
    "\n",
    "# Data Analytics\n",
    "import numpy as np\n",
    "from scipy import stats\n",
    "from scipy import sparse\n",
    "import scanpy as sc"
   ]
  },
  {
   "cell_type": "code",
   "execution_count": 34,
   "metadata": {
    "id": "bu5_CxEb72l4"
   },
   "outputs": [],
   "source": [
    "import matplotlib.pyplot as plt\n",
    "plt.rcParams['figure.figsize'] = [8, 8]"
   ]
  },
  {
   "cell_type": "code",
   "execution_count": 35,
   "metadata": {},
   "outputs": [
    {
     "data": {
      "text/html": [
       "\n",
       "<style>\n",
       ".output_png {\n",
       "    display: table-cell;\n",
       "    text-align: center;\n",
       "    vertical-align: middle;\n",
       "}\n",
       "</style>\n"
      ],
      "text/plain": [
       "<IPython.core.display.HTML object>"
      ]
     },
     "execution_count": 35,
     "metadata": {},
     "output_type": "execute_result"
    }
   ],
   "source": [
    "# Center figures\n",
    "from IPython.core.display import HTML\n",
    "HTML(\"\"\"\n",
    "<style>\n",
    ".output_png {\n",
    "    display: table-cell;\n",
    "    text-align: center;\n",
    "    vertical-align: middle;\n",
    "}\n",
    "</style>\n",
    "\"\"\")"
   ]
  },
  {
   "cell_type": "markdown",
   "metadata": {},
   "source": [
    "# 3. Google Authentication\n",
    "\n",
    "Running the BigQuery cells in this notebook requires a Google Cloud Project, instructions for creating a project can be found in the [Google Documentation](https://cloud.google.com/resource-manager/docs/creating-managing-projects#console). The instance needs to be authorized to bill the project for queries. For more information on getting started in the cloud see 'Quick Start Guide to ISB-CGC' and alternative authentication methods can be found in the [Google Documentation](https://cloud.google.com/resource-manager/docs/creating-managing-projects#console)."
   ]
  },
  {
   "cell_type": "code",
   "execution_count": null,
   "metadata": {},
   "outputs": [],
   "source": [
    "# if you're using Google Colab, authenticate to gcloud with the following\n",
    "auth.authenticate_user()\n",
    "# alternatively, use the gcloud SDK\n",
    "#!gcloud auth application-default login"
   ]
  },
  {
   "cell_type": "code",
   "execution_count": null,
   "metadata": {},
   "outputs": [],
   "source": [
    "## Setup ##\n",
    "\n",
    "# set the google project that will be billed for this notebook's computations\n",
    "google_project = 'my-project'\n",
    "\n",
    "# Create a client to access the data within BigQuery\n",
    "client = bigquery.Client(google_project)"
   ]
  },
  {
   "cell_type": "markdown",
   "metadata": {
    "id": "p1fu0l1N8maJ"
   },
   "source": [
    "In this notebook, we select a subset of cells from BigQuery, \n",
    "and then construct an AnnData object, which lets us continue\n",
    "working with the Scanpy library."
   ]
  },
  {
   "cell_type": "markdown",
   "metadata": {
    "id": "TJSsoOuVO6zP"
   },
   "source": [
    "# 4. Building AnnDatas from BigQuery\n",
    "\n",
    "If the data is transfered to big query in a way that preserves the AnnData structures, with X, obs, and var tables, then it should be easy to reconstruct the data structure and use Scanpy functions."
   ]
  },
  {
   "cell_type": "markdown",
   "metadata": {
    "id": "xjcFG2apivIR"
   },
   "source": [
    "An AnnData requires three parts, the gene counts X, the gene index var, and the cell barcodes obs."
   ]
  },
  {
   "cell_type": "code",
   "execution_count": 22,
   "metadata": {
    "id": "3mbpBf1GOkxR"
   },
   "outputs": [],
   "source": [
    "# first to get the matrix of gene counts\n",
    "\n",
    "X = client.query(\"\"\"\n",
    "  SELECT\n",
    "    iObs,\n",
    "    iVar,\n",
    "    X_value    \n",
    "  FROM\n",
    "    `htan-dcc.adata_immune_SCLC_samples_only_010920.X_obs_var_join`\n",
    "  WHERE\n",
    "    iObs in (\n",
    "    SELECT \n",
    "      distinct(iObs) from \n",
    "      `htan-dcc.adata_immune_SCLC_samples_only_010920.X_obs_var_join`\n",
    "      where cell_type = 'Mast'\n",
    "    )\n",
    "    \"\"\").result().to_dataframe()"
   ]
  },
  {
   "cell_type": "code",
   "execution_count": 23,
   "metadata": {
    "id": "aNTvTNAlTZWM"
   },
   "outputs": [],
   "source": [
    "# now we're going to get the observations for each cell\n",
    "\n",
    "obs = client.query(\"\"\"\n",
    "\n",
    "SELECT \n",
    "  iObs,\n",
    "  Cell,\n",
    "  n_genes_by_counts, \n",
    "  log1p_n_genes_by_counts, \n",
    "  total_counts, \n",
    "  log1p_total_counts, \n",
    "  mito_frac, \n",
    "  RBP_frac, \n",
    "  batch, \n",
    "  patient, \n",
    "  tissue, \n",
    "  treatment, \n",
    "  procedure, \n",
    "  cell_type, \n",
    "  cell_type_broad, \n",
    "  clusters, \n",
    "  treatment_categorized, \n",
    "  subtype, \n",
    "  H_treatment, \n",
    "  H_subtype\n",
    "FROM \n",
    "  `htan-dcc.adata_immune_SCLC_samples_only_010920.X_obs_var_join` \n",
    "WHERE\n",
    "  cell_type = 'Mast'\n",
    "GROUP BY\n",
    "  1,2,3,4,5,6,7,8,9,10,11,12,13,14,15,16,17,18,19,20\n",
    "\n",
    "    \"\"\").result().to_dataframe()"
   ]
  },
  {
   "cell_type": "code",
   "execution_count": 24,
   "metadata": {
    "id": "s7OrHUjrTYpD"
   },
   "outputs": [],
   "source": [
    "# first to get the matrix of gene counts\n",
    "\n",
    "var = client.query(\"\"\"\n",
    "\n",
    "  SELECT\n",
    "    iVar,\n",
    "    Cell,\n",
    "    index as GeneSymbol\n",
    "  FROM\n",
    "    `htan-dcc.adata_immune_SCLC_samples_only_010920.X_obs_var_join`\n",
    "  WHERE\n",
    "    cell_type = 'Mast'\n",
    "  GROUP BY 1,2,3\n",
    "\n",
    "    \"\"\").result().to_dataframe()\n",
    "\n"
   ]
  },
  {
   "cell_type": "code",
   "execution_count": 17,
   "metadata": {
    "colab": {
     "base_uri": "https://localhost:8080/",
     "height": 424
    },
    "id": "yrQAzfyOw9BR",
    "outputId": "730a396b-583b-4f70-f98c-a620981194dc"
   },
   "outputs": [
    {
     "data": {
      "text/html": [
       "\n",
       "  <div id=\"df-5c4260f2-aea1-4b25-930a-cf7bb525a8cc\">\n",
       "    <div class=\"colab-df-container\">\n",
       "      <div>\n",
       "<style scoped>\n",
       "    .dataframe tbody tr th:only-of-type {\n",
       "        vertical-align: middle;\n",
       "    }\n",
       "\n",
       "    .dataframe tbody tr th {\n",
       "        vertical-align: top;\n",
       "    }\n",
       "\n",
       "    .dataframe thead th {\n",
       "        text-align: right;\n",
       "    }\n",
       "</style>\n",
       "<table border=\"1\" class=\"dataframe\">\n",
       "  <thead>\n",
       "    <tr style=\"text-align: right;\">\n",
       "      <th></th>\n",
       "      <th>iVar</th>\n",
       "      <th>Cell</th>\n",
       "      <th>GeneSymbol</th>\n",
       "    </tr>\n",
       "  </thead>\n",
       "  <tbody>\n",
       "    <tr>\n",
       "      <th>0</th>\n",
       "      <td>4238</td>\n",
       "      <td>RU1311A_T_1_240135578172829</td>\n",
       "      <td>DAD1</td>\n",
       "    </tr>\n",
       "    <tr>\n",
       "      <th>1</th>\n",
       "      <td>12403</td>\n",
       "      <td>RU1311A_T_1_240135578172829</td>\n",
       "      <td>PTRF</td>\n",
       "    </tr>\n",
       "    <tr>\n",
       "      <th>2</th>\n",
       "      <td>9562</td>\n",
       "      <td>RU1311A_T_1_240135578172829</td>\n",
       "      <td>METRN</td>\n",
       "    </tr>\n",
       "    <tr>\n",
       "      <th>3</th>\n",
       "      <td>16961</td>\n",
       "      <td>RU1311A_T_1_240135578172829</td>\n",
       "      <td>TMBIM1</td>\n",
       "    </tr>\n",
       "    <tr>\n",
       "      <th>4</th>\n",
       "      <td>8282</td>\n",
       "      <td>RU1311A_T_1_240135578172829</td>\n",
       "      <td>KMT2E</td>\n",
       "    </tr>\n",
       "    <tr>\n",
       "      <th>...</th>\n",
       "      <td>...</td>\n",
       "      <td>...</td>\n",
       "      <td>...</td>\n",
       "    </tr>\n",
       "    <tr>\n",
       "      <th>49921</th>\n",
       "      <td>2810</td>\n",
       "      <td>RU1229A_Frozen_191235005475620</td>\n",
       "      <td>CD9</td>\n",
       "    </tr>\n",
       "    <tr>\n",
       "      <th>49922</th>\n",
       "      <td>10707</td>\n",
       "      <td>RU1229A_Frozen_191235005475620</td>\n",
       "      <td>NSMCE2</td>\n",
       "    </tr>\n",
       "    <tr>\n",
       "      <th>49923</th>\n",
       "      <td>2687</td>\n",
       "      <td>RU1229A_Frozen_191235005475620</td>\n",
       "      <td>CCNI</td>\n",
       "    </tr>\n",
       "    <tr>\n",
       "      <th>49924</th>\n",
       "      <td>3525</td>\n",
       "      <td>RU1229A_Frozen_191235005475620</td>\n",
       "      <td>COMMD2</td>\n",
       "    </tr>\n",
       "    <tr>\n",
       "      <th>49925</th>\n",
       "      <td>3662</td>\n",
       "      <td>RU1229A_Frozen_191235005475620</td>\n",
       "      <td>CRBN</td>\n",
       "    </tr>\n",
       "  </tbody>\n",
       "</table>\n",
       "<p>49926 rows × 3 columns</p>\n",
       "</div>\n",
       "      <button class=\"colab-df-convert\" onclick=\"convertToInteractive('df-5c4260f2-aea1-4b25-930a-cf7bb525a8cc')\"\n",
       "              title=\"Convert this dataframe to an interactive table.\"\n",
       "              style=\"display:none;\">\n",
       "        \n",
       "  <svg xmlns=\"http://www.w3.org/2000/svg\" height=\"24px\"viewBox=\"0 0 24 24\"\n",
       "       width=\"24px\">\n",
       "    <path d=\"M0 0h24v24H0V0z\" fill=\"none\"/>\n",
       "    <path d=\"M18.56 5.44l.94 2.06.94-2.06 2.06-.94-2.06-.94-.94-2.06-.94 2.06-2.06.94zm-11 1L8.5 8.5l.94-2.06 2.06-.94-2.06-.94L8.5 2.5l-.94 2.06-2.06.94zm10 10l.94 2.06.94-2.06 2.06-.94-2.06-.94-.94-2.06-.94 2.06-2.06.94z\"/><path d=\"M17.41 7.96l-1.37-1.37c-.4-.4-.92-.59-1.43-.59-.52 0-1.04.2-1.43.59L10.3 9.45l-7.72 7.72c-.78.78-.78 2.05 0 2.83L4 21.41c.39.39.9.59 1.41.59.51 0 1.02-.2 1.41-.59l7.78-7.78 2.81-2.81c.8-.78.8-2.07 0-2.86zM5.41 20L4 18.59l7.72-7.72 1.47 1.35L5.41 20z\"/>\n",
       "  </svg>\n",
       "      </button>\n",
       "      \n",
       "  <style>\n",
       "    .colab-df-container {\n",
       "      display:flex;\n",
       "      flex-wrap:wrap;\n",
       "      gap: 12px;\n",
       "    }\n",
       "\n",
       "    .colab-df-convert {\n",
       "      background-color: #E8F0FE;\n",
       "      border: none;\n",
       "      border-radius: 50%;\n",
       "      cursor: pointer;\n",
       "      display: none;\n",
       "      fill: #1967D2;\n",
       "      height: 32px;\n",
       "      padding: 0 0 0 0;\n",
       "      width: 32px;\n",
       "    }\n",
       "\n",
       "    .colab-df-convert:hover {\n",
       "      background-color: #E2EBFA;\n",
       "      box-shadow: 0px 1px 2px rgba(60, 64, 67, 0.3), 0px 1px 3px 1px rgba(60, 64, 67, 0.15);\n",
       "      fill: #174EA6;\n",
       "    }\n",
       "\n",
       "    [theme=dark] .colab-df-convert {\n",
       "      background-color: #3B4455;\n",
       "      fill: #D2E3FC;\n",
       "    }\n",
       "\n",
       "    [theme=dark] .colab-df-convert:hover {\n",
       "      background-color: #434B5C;\n",
       "      box-shadow: 0px 1px 3px 1px rgba(0, 0, 0, 0.15);\n",
       "      filter: drop-shadow(0px 1px 2px rgba(0, 0, 0, 0.3));\n",
       "      fill: #FFFFFF;\n",
       "    }\n",
       "  </style>\n",
       "\n",
       "      <script>\n",
       "        const buttonEl =\n",
       "          document.querySelector('#df-5c4260f2-aea1-4b25-930a-cf7bb525a8cc button.colab-df-convert');\n",
       "        buttonEl.style.display =\n",
       "          google.colab.kernel.accessAllowed ? 'block' : 'none';\n",
       "\n",
       "        async function convertToInteractive(key) {\n",
       "          const element = document.querySelector('#df-5c4260f2-aea1-4b25-930a-cf7bb525a8cc');\n",
       "          const dataTable =\n",
       "            await google.colab.kernel.invokeFunction('convertToInteractive',\n",
       "                                                     [key], {});\n",
       "          if (!dataTable) return;\n",
       "\n",
       "          const docLinkHtml = 'Like what you see? Visit the ' +\n",
       "            '<a target=\"_blank\" href=https://colab.research.google.com/notebooks/data_table.ipynb>data table notebook</a>'\n",
       "            + ' to learn more about interactive tables.';\n",
       "          element.innerHTML = '';\n",
       "          dataTable['output_type'] = 'display_data';\n",
       "          await google.colab.output.renderOutput(dataTable, element);\n",
       "          const docLink = document.createElement('div');\n",
       "          docLink.innerHTML = docLinkHtml;\n",
       "          element.appendChild(docLink);\n",
       "        }\n",
       "      </script>\n",
       "    </div>\n",
       "  </div>\n",
       "  "
      ],
      "text/plain": [
       "        iVar                            Cell GeneSymbol\n",
       "0       4238     RU1311A_T_1_240135578172829       DAD1\n",
       "1      12403     RU1311A_T_1_240135578172829       PTRF\n",
       "2       9562     RU1311A_T_1_240135578172829      METRN\n",
       "3      16961     RU1311A_T_1_240135578172829     TMBIM1\n",
       "4       8282     RU1311A_T_1_240135578172829      KMT2E\n",
       "...      ...                             ...        ...\n",
       "49921   2810  RU1229A_Frozen_191235005475620        CD9\n",
       "49922  10707  RU1229A_Frozen_191235005475620     NSMCE2\n",
       "49923   2687  RU1229A_Frozen_191235005475620       CCNI\n",
       "49924   3525  RU1229A_Frozen_191235005475620     COMMD2\n",
       "49925   3662  RU1229A_Frozen_191235005475620       CRBN\n",
       "\n",
       "[49926 rows x 3 columns]"
      ]
     },
     "execution_count": 17,
     "metadata": {},
     "output_type": "execute_result"
    }
   ],
   "source": [
    "var"
   ]
  },
  {
   "cell_type": "markdown",
   "metadata": {
    "id": "Ba-iSXpwi3a_"
   },
   "source": [
    "We need to do a little bit of table index shifting."
   ]
  },
  {
   "cell_type": "code",
   "execution_count": 25,
   "metadata": {
    "id": "lLfrWPijiBqQ"
   },
   "outputs": [],
   "source": [
    "# update the BQ data for AnnData building # \n",
    "\n",
    "# shift the index to 0-index\n",
    "var.index = var['GeneSymbol']\n",
    "var.iVar = var.iVar-1\n",
    "X.iVar = X.iVar-1\n",
    "\n",
    "# fix the obs index by reindexing\n",
    "# this maps the X table to the obs table\n",
    "iObsDict = dict(zip(obs.iObs, obs.index))\n",
    "X.iObs = [iObsDict[a] for a in X.iObs]\n"
   ]
  },
  {
   "cell_type": "code",
   "execution_count": 26,
   "metadata": {
    "colab": {
     "base_uri": "https://localhost:8080/"
    },
    "id": "knJQYO8vfnnb",
    "outputId": "b2c5ea9f-cd95-4998-c76a-7cbe30b1475e"
   },
   "outputs": [
    {
     "data": {
      "text/plain": [
       "<43x49926 sparse matrix of type '<class 'numpy.float64'>'\n",
       "\twith 49926 stored elements in Compressed Sparse Row format>"
      ]
     },
     "execution_count": 26,
     "metadata": {},
     "output_type": "execute_result"
    }
   ],
   "source": [
    "# convert the pandas table to a sparse matrix\n",
    "sparseX2 = sparse.csr_matrix( (X.X_value, (X.iObs, X.iVar)), shape=(len(obs),len(var)))\n",
    "sparseX2"
   ]
  },
  {
   "cell_type": "code",
   "execution_count": 27,
   "metadata": {
    "colab": {
     "base_uri": "https://localhost:8080/"
    },
    "id": "5eZdbLHjkCUm",
    "outputId": "251e94ff-e16f-425c-8098-61f9f4575bc6"
   },
   "outputs": [
    {
     "name": "stderr",
     "output_type": "stream",
     "text": [
      "/var/folders/ls/ddlk85sd4gz0cwj3szj10rxc0000gp/T/ipykernel_72698/3927274891.py:2: FutureWarning: X.dtype being converted to np.float32 from float64. In the next version of anndata (0.9) conversion will not be automatic. Pass dtype explicitly to avoid this warning. Pass `AnnData(X, dtype=X.dtype, ...)` to get the future behavour.\n",
      "  adata = sc.AnnData(X=sparseX2, obs=obs, var=var)\n",
      "/opt/miniconda3/envs/nb/lib/python3.10/site-packages/anndata/_core/anndata.py:121: ImplicitModificationWarning: Transforming to str index.\n",
      "  warnings.warn(\"Transforming to str index.\", ImplicitModificationWarning)\n",
      "/opt/miniconda3/envs/nb/lib/python3.10/site-packages/anndata/_core/anndata.py:1830: UserWarning: Variable names are not unique. To make them unique, call `.var_names_make_unique`.\n",
      "  utils.warn_names_duplicates(\"var\")\n"
     ]
    }
   ],
   "source": [
    "# now we can build the AnnData\n",
    "adata = sc.AnnData(X=sparseX2, obs=obs, var=var)\n",
    "adata.var_names_make_unique()"
   ]
  },
  {
   "cell_type": "code",
   "execution_count": 28,
   "metadata": {
    "id": "1j9LEJSqoGXN"
   },
   "outputs": [],
   "source": [
    "# select some genes by expression level\n",
    "geneCountsSum = (np.array(adata.X.sum(axis=0))[0,:])\n",
    "highExprGenes = adata.var.iloc[ np.where(geneCountsSum > 200) ].index"
   ]
  },
  {
   "cell_type": "code",
   "execution_count": 29,
   "metadata": {
    "colab": {
     "base_uri": "https://localhost:8080/",
     "height": 300
    },
    "id": "jxOqiKKblRUm",
    "outputId": "2245ffa1-495c-445a-b9da-11c64e94c46f"
   },
   "outputs": [
    {
     "name": "stdout",
     "output_type": "stream",
     "text": [
      "WARNING: dendrogram data not found (using key=dendrogram_treatment). Running `sc.tl.dendrogram` with default parameters. For fine tuning it is recommended to run `sc.tl.dendrogram` independently.\n",
      "WARNING: You’re trying to run this on 49926 dimensions of `.X`, if you really want this, set `use_rep='X'`.\n",
      "         Falling back to preprocessing with `sc.pp.pca` and default params.\n"
     ]
    },
    {
     "data": {
      "image/png": "[encoded data removed]",
      "text/plain": [
       "<Figure size 645.12x180 with 5 Axes>"
      ]
     },
     "metadata": {
      "needs_background": "light"
     },
     "output_type": "display_data"
    }
   ],
   "source": [
    "# now we can use the plot functions of scanpy\n",
    "sc.pl.dotplot(adata, highExprGenes, 'treatment', dendrogram=True)"
   ]
  },
  {
   "cell_type": "code",
   "execution_count": 30,
   "metadata": {
    "colab": {
     "base_uri": "https://localhost:8080/"
    },
    "id": "Bv390PGimBC7",
    "outputId": "1251f4bc-db2c-4fe3-c425-0634d1ff436e"
   },
   "outputs": [
    {
     "data": {
      "text/plain": [
       "Platinum Doublet                  16\n",
       "Platinum Doublet,Immunotherapy    14\n",
       "Naive                             13\n",
       "Name: treatment, dtype: int64"
      ]
     },
     "execution_count": 30,
     "metadata": {},
     "output_type": "execute_result"
    }
   ],
   "source": [
    "adata.obs.treatment.value_counts()"
   ]
  },
  {
   "cell_type": "code",
   "execution_count": 31,
   "metadata": {
    "colab": {
     "base_uri": "https://localhost:8080/",
     "height": 417
    },
    "id": "PNZUGbehtoRz",
    "outputId": "886d969c-6bdf-4a52-f84e-759084db5dc6"
   },
   "outputs": [
    {
     "data": {
      "image/png": "[encoded data removed]",
      "text/plain": [
       "<Figure size 538.128x288 with 1 Axes>"
      ]
     },
     "metadata": {
      "needs_background": "light"
     },
     "output_type": "display_data"
    }
   ],
   "source": [
    "sc.pl.violin(adata, 'FTL', groupby='treatment', rotation=90)"
   ]
  },
  {
   "cell_type": "markdown",
   "metadata": {
    "id": "Knou1eu89pYk"
   },
   "source": [
    "Looks good that TPSB2 is one of the high expressing genes, it's \n",
    "associated with Mast cells.\n",
    "https://pubmed.ncbi.nlm.nih.gov/22235124/"
   ]
  },
  {
   "cell_type": "code",
   "execution_count": 32,
   "metadata": {
    "id": "eQZrvVxZ69cl"
   },
   "outputs": [],
   "source": [
    "# We have pulled a subset of cells outof BQ and constructed an AnnData object."
   ]
  },
  {
   "cell_type": "markdown",
   "metadata": {},
   "source": [
    "# 5. Relevant Citations and Links"
   ]
  },
  {
   "cell_type": "markdown",
   "metadata": {
    "jp-MarkdownHeadingCollapsed": true,
    "tags": []
   },
   "source": [
    "\n",
    "[HTAN Portal](https://humantumoratlas.org/)   \n",
    "\n",
    "\n",
    "[Overview paper, Cell, April 2020](https://www.sciencedirect.com/science/article/pii/S0092867420303469)\n",
    "\n"
   ]
  }
 ],
 "metadata": {
  "colab": {
   "collapsed_sections": [],
   "name": "Building_AnnData_with_Subset_of_Cells_from_BQ.ipynb",
   "provenance": []
  },
  "kernelspec": {
   "display_name": "Python 3 (ipykernel)",
   "language": "python",
   "name": "python3"
  },
  "language_info": {
   "codemirror_mode": {
    "name": "ipython",
    "version": 3
   },
   "file_extension": ".py",
   "mimetype": "text/x-python",
   "name": "python",
   "nbconvert_exporter": "python",
   "pygments_lexer": "ipython3",
   "version": "3.10.5"
  }
 },
 "nbformat": 4,
 "nbformat_minor": 4
}
