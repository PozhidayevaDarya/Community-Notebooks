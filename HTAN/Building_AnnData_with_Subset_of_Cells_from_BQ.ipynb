{
  "cells": [
    {
      "cell_type": "markdown",
      "metadata": {
        "id": "R7MOzfSOPBgL"
      },
      "source": [
        "# Accessing HTAN scRNA-seq with BQ and building Scanpy AnnData objects"
      ]
    },
    {
      "cell_type": "markdown",
      "metadata": {
        "id": "pDrXgG7gOQBF"
      },
      "source": [
        "```\n",
        "Title:   Accessing HTAN scRNA-seq with BQ and building Scanpy AnnData objects.\n",
        "Author:  David L Gibbs (david.gibbs@systemsbiology.org)\n",
        "Created: 2022-3-29\n",
        "Purpose: Building AnnData objects\n",
        "URL:    NA \n",
        "Notes:  NA\n",
        "```"
      ]
    },
    {
      "cell_type": "markdown",
      "source": [
        "\n",
        "[![Open in Colab](https://colab.research.google.com/assets/colab-badge.svg)](https://colab.research.google.com/github/ncihtan/Community-Notebooks/blob/master/HTAN/Building_AnnData_with_Subset_of_Cells_from_BQ.ipynb#scrollTo=Zfbwi-8I8Ezd)"
      ],
      "metadata": {
        "id": "Zfbwi-8I8Ezd"
      }
    },
    {
      "cell_type": "markdown",
      "metadata": {
        "id": "XWw9WmKxGfHr"
      },
      "source": [
        "# 1. Introduction & Overview\n",
        "[HTAN](https://humantumoratlas.org/) is a National Cancer Institute (NCI)-funded Cancer MoonshotSM initiative to construct 3-dimensional atlases of the dynamic cellular, morphological, and molecular features of human cancers as they evolve from precancerous lesions to advanced disease ( [Cell April 2020](https://www.sciencedirect.com/science/article/pii/S0092867420303469) )\n",
        "\n",
        "This notebook shows how cells of a particular type can be pulled from BigQuery tables and used to construct an [AnnData](https://anndata.readthedocs.io/en/latest/#:~:text=anndata%20is%20a%20Python%20package,operations%2C%20and%20a%20PyTorch%20interface.) object.\n",
        "\n",
        "### 1.1 Notebook Goal\n",
        "\n",
        "The goal of this notebook is to show users how public HTAN single cell data can be queried and assembled for further processing. The total time for executing this tutorial should be about **10 minutes**.\n",
        "\n",
        "### 1.2 Inputs, Outputs, & Data\n",
        "\n",
        "Input for this analysis is the HTAN single cell RNA sequencing data (Level 2, gene summarized). The data set is filtered according to a specific cell type and patient population. The data is pulled into this notebook a google cloud connection. More details are shown below.\n",
        "\n"
      ]
    },
    {
      "cell_type": "markdown",
      "metadata": {
        "id": "7DKL8eZ7GfHt"
      },
      "source": [
        "# 2. Environment & Module Setup\n",
        "The libraries used in this analysis fall into two categories: those needed for google cloud connection and those needed for the analysis itself."
      ]
    },
    {
      "cell_type": "code",
      "execution_count": null,
      "metadata": {
        "id": "H3NECZ68OlR-"
      },
      "outputs": [],
      "source": [
        "# GCP Libraries\n",
        "from google.cloud import bigquery\n",
        "from google.colab import auth\n",
        "\n",
        "# Data Analytics\n",
        "import numpy as np\n",
        "from scipy import stats\n",
        "from scipy import sparse\n",
        "import scanpy as sc"
      ]
    },
    {
      "cell_type": "markdown",
      "source": [
        "The following snipet controls plotting parameters."
      ],
      "metadata": {
        "id": "LDgbGub3AenA"
      }
    },
    {
      "cell_type": "code",
      "execution_count": null,
      "metadata": {
        "id": "bu5_CxEb72l4"
      },
      "outputs": [],
      "source": [
        "import matplotlib.pyplot as plt\n",
        "plt.rcParams['figure.figsize'] = [8, 8]"
      ]
    },
    {
      "cell_type": "markdown",
      "metadata": {
        "id": "rssn8rLmGfH0"
      },
      "source": [
        "# 3. Google Authentication\n",
        "\n",
        "Running the BigQuery cells in this notebook requires a Google Cloud Project, instructions for creating a project can be found in the [Google Documentation](https://cloud.google.com/resource-manager/docs/creating-managing-projects#console). The instance needs to be authorized to bill the project for queries. For more information on getting started in the cloud see [Quick Start Guide to ISB-CGC](https://nbviewer.org/github/isb-cgc/Community-Notebooks/blob/master/Notebooks/Quick_Start_Guide_to_ISB_CGC.ipynb) and alternative authentication methods can be found in the [Google Documentation](https://cloud.google.com/resource-manager/docs/creating-managing-projects#console)."
      ]
    },
    {
      "cell_type": "code",
      "execution_count": null,
      "metadata": {
        "id": "9gDzoZc6GfH2"
      },
      "outputs": [],
      "source": [
        "# if you're using Google Colab, authenticate to gcloud with the following\n",
        "auth.authenticate_user()\n",
        "# alternatively, use the gcloud SDK\n",
        "#!gcloud auth application-default login"
      ]
    },
    {
      "cell_type": "code",
      "execution_count": null,
      "metadata": {
        "id": "6AiGLpeFGfH3",
        "outputId": "816d3a71-841f-4526-db32-6fbfaa3fc678",
        "colab": {
          "base_uri": "https://localhost:8080/"
        }
      },
      "outputs": [
        {
          "output_type": "stream",
          "name": "stderr",
          "text": [
            "WARNING:google.auth._default:No project ID could be determined. Consider running `gcloud config set project` or setting the GOOGLE_CLOUD_PROJECT environment variable\n"
          ]
        }
      ],
      "source": [
        "## Setup ##\n",
        "\n",
        "# set the google project that will be referenced for this notebook's computations\n",
        "google_project = 'my-project'\n",
        "\n",
        "# Create a client to access the data within BigQuery\n",
        "client = bigquery.Client(google_project)"
      ]
    },
    {
      "cell_type": "markdown",
      "metadata": {
        "id": "p1fu0l1N8maJ"
      },
      "source": [
        "In the next sections, we select a subset of cells from BigQuery, \n",
        "and then construct an AnnData object, which lets us continue\n",
        "working with the Scanpy library."
      ]
    },
    {
      "cell_type": "markdown",
      "metadata": {
        "id": "TJSsoOuVO6zP"
      },
      "source": [
        "# 4. Building AnnDatas from BigQuery\n",
        "\n",
        "If the data is transfered to big query in a way that preserves the AnnData structures, with X, obs, and var tables, then it should be easy to reconstruct the data structure and use Scanpy functions."
      ]
    },
    {
      "cell_type": "markdown",
      "metadata": {
        "id": "xjcFG2apivIR"
      },
      "source": [
        "An AnnData requires three key parts, the gene counts X, the gene index var, and the cell barcodes obs. In the following snippet, we construct an SQL query to pull in the AnnData parts and transform them into a dataframe object. \n",
        "\n",
        "First we obtain the matrix of gene counts. These come from the CHOP scRNAseq table from HTAN in isb-cgc-bq. Specifically, this analysis will focus on mature, plasma-B-like, B cells in female individuals. "
      ]
    },
    {
      "cell_type": "code",
      "execution_count": null,
      "metadata": {
        "id": "3mbpBf1GOkxR"
      },
      "outputs": [],
      "source": [
        "X = client.query(\"\"\"\n",
        "\n",
        "  SELECT\n",
        "    iObs,\n",
        "    iVar,\n",
        "    X_value    \n",
        "  FROM\n",
        "    `isb-cgc-bq.HTAN.scRNAseq_CHOP_seurat_integrated_18MLLr_normal_final_rename_current`\n",
        "  WHERE\n",
        "    iObs in (\n",
        "    SELECT \n",
        "      distinct(iObs) from \n",
        "      `isb-cgc-bq.HTAN.scRNAseq_CHOP_seurat_integrated_18MLLr_normal_final_rename_current`\n",
        "      WHERE \n",
        "      Cell_Type = 'Mature_B' AND\n",
        "      Projected_Cell_Type = 'Plasma-B-like' AND\n",
        "      Gender = 'Female'\n",
        "          )\n",
        "\n",
        "    \"\"\").result().to_dataframe()"
      ]
    },
    {
      "cell_type": "code",
      "source": [
        "X"
      ],
      "metadata": {
        "id": "pAmrsRz2COIa"
      },
      "execution_count": null,
      "outputs": []
    },
    {
      "cell_type": "markdown",
      "source": [
        "Next, we will get the observations for each cell using the same method above in a new dataframe."
      ],
      "metadata": {
        "id": "q8MKy3_WBmvb"
      }
    },
    {
      "cell_type": "code",
      "execution_count": null,
      "metadata": {
        "id": "aNTvTNAlTZWM"
      },
      "outputs": [],
      "source": [
        "obs = client.query(\"\"\"\n",
        "\n",
        "SELECT \n",
        "  iObs,\n",
        "  Cell_Name,\n",
        "  nCount_RNA,\n",
        "  nFeature_RNA,\n",
        "  Sample,\n",
        "  Perc_mito,\n",
        "  Seurat_Clusters,\n",
        "  SpecimenType,\n",
        "  Therapy,\n",
        "  Cell_Type,\n",
        "  Phase\n",
        "FROM \n",
        "  `isb-cgc-bq.HTAN.scRNAseq_CHOP_seurat_integrated_18MLLr_normal_final_rename_current` \n",
        "WHERE\n",
        "      Cell_Type = 'Mature_B' AND\n",
        "      Projected_Cell_Type = 'Plasma-B-like' AND\n",
        "      Gender = 'Female'\n",
        "GROUP BY\n",
        "  1,2,3,4,5,6,7,8,9,10,11\n",
        "\n",
        "    \"\"\").result().to_dataframe()"
      ]
    },
    {
      "cell_type": "code",
      "source": [
        "obs"
      ],
      "metadata": {
        "id": "CsKBq1f6CPWq"
      },
      "execution_count": null,
      "outputs": []
    },
    {
      "cell_type": "markdown",
      "source": [
        "Lastly, we'll get the gene index with the following snippet in the same manner."
      ],
      "metadata": {
        "id": "YtjgP8veBuW1"
      }
    },
    {
      "cell_type": "code",
      "execution_count": null,
      "metadata": {
        "id": "s7OrHUjrTYpD"
      },
      "outputs": [],
      "source": [
        "var = client.query(\"\"\"\n",
        "\n",
        "  SELECT\n",
        "    iVar,\n",
        "    Cell_Name,\n",
        "    Gene_Name as GeneSymbol\n",
        "  FROM\n",
        "    `isb-cgc-bq.HTAN.scRNAseq_CHOP_seurat_integrated_18MLLr_normal_final_rename_current`\n",
        "  WHERE\n",
        "      Cell_Type = 'Mature_B' AND\n",
        "      Projected_Cell_Type = 'Plasma-B-like' AND\n",
        "      Gender = 'Female'\n",
        "  GROUP BY 1,2,3\n",
        "    \"\"\").result().to_dataframe()\n",
        "\n"
      ]
    },
    {
      "cell_type": "code",
      "execution_count": null,
      "metadata": {
        "colab": {
          "base_uri": "https://localhost:8080/",
          "height": 424
        },
        "id": "yrQAzfyOw9BR",
        "outputId": "d7bcf3a4-a37c-451d-e895-2163ccd13dca"
      },
      "outputs": [
        {
          "output_type": "execute_result",
          "data": {
            "text/plain": [
              "        iVar                    Cell_Name GeneSymbol\n",
              "0      15948  MLLr870684_CCTCACATCCATCACC        SON\n",
              "1      15163  MLLr870684_CCTCACATCCATCACC        FTL\n",
              "2      14631  MLLr870684_CCTCACATCCATCACC       PKN1\n",
              "3        958  MLLr870684_CCTCACATCCATCACC     ANP32E\n",
              "4       5620  MLLr870684_CCTCACATCCATCACC       CCR6\n",
              "...      ...                          ...        ...\n",
              "28726   2594  MLLr879583_TCCAGAACAAATTAGG      SP110\n",
              "28727  10459  MLLr879583_TCCAGAACAAATTAGG      HSPH1\n",
              "28728  15961  MLLr879583_TCCAGAACAAATTAGG       CBR1\n",
              "28729  12788  MLLr879583_TCCAGAACAAATTAGG      MPRIP\n",
              "28730  11238  MLLr879583_TCCAGAACAAATTAGG      HERC2\n",
              "\n",
              "[28731 rows x 3 columns]"
            ],
            "text/html": [
              "\n",
              "  <div id=\"df-7b4bc73e-e7a5-4d9a-b01f-c38e5f365e77\">\n",
              "    <div class=\"colab-df-container\">\n",
              "      <div>\n",
              "<style scoped>\n",
              "    .dataframe tbody tr th:only-of-type {\n",
              "        vertical-align: middle;\n",
              "    }\n",
              "\n",
              "    .dataframe tbody tr th {\n",
              "        vertical-align: top;\n",
              "    }\n",
              "\n",
              "    .dataframe thead th {\n",
              "        text-align: right;\n",
              "    }\n",
              "</style>\n",
              "<table border=\"1\" class=\"dataframe\">\n",
              "  <thead>\n",
              "    <tr style=\"text-align: right;\">\n",
              "      <th></th>\n",
              "      <th>iVar</th>\n",
              "      <th>Cell_Name</th>\n",
              "      <th>GeneSymbol</th>\n",
              "    </tr>\n",
              "  </thead>\n",
              "  <tbody>\n",
              "    <tr>\n",
              "      <th>0</th>\n",
              "      <td>15948</td>\n",
              "      <td>MLLr870684_CCTCACATCCATCACC</td>\n",
              "      <td>SON</td>\n",
              "    </tr>\n",
              "    <tr>\n",
              "      <th>1</th>\n",
              "      <td>15163</td>\n",
              "      <td>MLLr870684_CCTCACATCCATCACC</td>\n",
              "      <td>FTL</td>\n",
              "    </tr>\n",
              "    <tr>\n",
              "      <th>2</th>\n",
              "      <td>14631</td>\n",
              "      <td>MLLr870684_CCTCACATCCATCACC</td>\n",
              "      <td>PKN1</td>\n",
              "    </tr>\n",
              "    <tr>\n",
              "      <th>3</th>\n",
              "      <td>958</td>\n",
              "      <td>MLLr870684_CCTCACATCCATCACC</td>\n",
              "      <td>ANP32E</td>\n",
              "    </tr>\n",
              "    <tr>\n",
              "      <th>4</th>\n",
              "      <td>5620</td>\n",
              "      <td>MLLr870684_CCTCACATCCATCACC</td>\n",
              "      <td>CCR6</td>\n",
              "    </tr>\n",
              "    <tr>\n",
              "      <th>...</th>\n",
              "      <td>...</td>\n",
              "      <td>...</td>\n",
              "      <td>...</td>\n",
              "    </tr>\n",
              "    <tr>\n",
              "      <th>28726</th>\n",
              "      <td>2594</td>\n",
              "      <td>MLLr879583_TCCAGAACAAATTAGG</td>\n",
              "      <td>SP110</td>\n",
              "    </tr>\n",
              "    <tr>\n",
              "      <th>28727</th>\n",
              "      <td>10459</td>\n",
              "      <td>MLLr879583_TCCAGAACAAATTAGG</td>\n",
              "      <td>HSPH1</td>\n",
              "    </tr>\n",
              "    <tr>\n",
              "      <th>28728</th>\n",
              "      <td>15961</td>\n",
              "      <td>MLLr879583_TCCAGAACAAATTAGG</td>\n",
              "      <td>CBR1</td>\n",
              "    </tr>\n",
              "    <tr>\n",
              "      <th>28729</th>\n",
              "      <td>12788</td>\n",
              "      <td>MLLr879583_TCCAGAACAAATTAGG</td>\n",
              "      <td>MPRIP</td>\n",
              "    </tr>\n",
              "    <tr>\n",
              "      <th>28730</th>\n",
              "      <td>11238</td>\n",
              "      <td>MLLr879583_TCCAGAACAAATTAGG</td>\n",
              "      <td>HERC2</td>\n",
              "    </tr>\n",
              "  </tbody>\n",
              "</table>\n",
              "<p>28731 rows × 3 columns</p>\n",
              "</div>\n",
              "      <button class=\"colab-df-convert\" onclick=\"convertToInteractive('df-7b4bc73e-e7a5-4d9a-b01f-c38e5f365e77')\"\n",
              "              title=\"Convert this dataframe to an interactive table.\"\n",
              "              style=\"display:none;\">\n",
              "        \n",
              "  <svg xmlns=\"http://www.w3.org/2000/svg\" height=\"24px\"viewBox=\"0 0 24 24\"\n",
              "       width=\"24px\">\n",
              "    <path d=\"M0 0h24v24H0V0z\" fill=\"none\"/>\n",
              "    <path d=\"M18.56 5.44l.94 2.06.94-2.06 2.06-.94-2.06-.94-.94-2.06-.94 2.06-2.06.94zm-11 1L8.5 8.5l.94-2.06 2.06-.94-2.06-.94L8.5 2.5l-.94 2.06-2.06.94zm10 10l.94 2.06.94-2.06 2.06-.94-2.06-.94-.94-2.06-.94 2.06-2.06.94z\"/><path d=\"M17.41 7.96l-1.37-1.37c-.4-.4-.92-.59-1.43-.59-.52 0-1.04.2-1.43.59L10.3 9.45l-7.72 7.72c-.78.78-.78 2.05 0 2.83L4 21.41c.39.39.9.59 1.41.59.51 0 1.02-.2 1.41-.59l7.78-7.78 2.81-2.81c.8-.78.8-2.07 0-2.86zM5.41 20L4 18.59l7.72-7.72 1.47 1.35L5.41 20z\"/>\n",
              "  </svg>\n",
              "      </button>\n",
              "      \n",
              "  <style>\n",
              "    .colab-df-container {\n",
              "      display:flex;\n",
              "      flex-wrap:wrap;\n",
              "      gap: 12px;\n",
              "    }\n",
              "\n",
              "    .colab-df-convert {\n",
              "      background-color: #E8F0FE;\n",
              "      border: none;\n",
              "      border-radius: 50%;\n",
              "      cursor: pointer;\n",
              "      display: none;\n",
              "      fill: #1967D2;\n",
              "      height: 32px;\n",
              "      padding: 0 0 0 0;\n",
              "      width: 32px;\n",
              "    }\n",
              "\n",
              "    .colab-df-convert:hover {\n",
              "      background-color: #E2EBFA;\n",
              "      box-shadow: 0px 1px 2px rgba(60, 64, 67, 0.3), 0px 1px 3px 1px rgba(60, 64, 67, 0.15);\n",
              "      fill: #174EA6;\n",
              "    }\n",
              "\n",
              "    [theme=dark] .colab-df-convert {\n",
              "      background-color: #3B4455;\n",
              "      fill: #D2E3FC;\n",
              "    }\n",
              "\n",
              "    [theme=dark] .colab-df-convert:hover {\n",
              "      background-color: #434B5C;\n",
              "      box-shadow: 0px 1px 3px 1px rgba(0, 0, 0, 0.15);\n",
              "      filter: drop-shadow(0px 1px 2px rgba(0, 0, 0, 0.3));\n",
              "      fill: #FFFFFF;\n",
              "    }\n",
              "  </style>\n",
              "\n",
              "      <script>\n",
              "        const buttonEl =\n",
              "          document.querySelector('#df-7b4bc73e-e7a5-4d9a-b01f-c38e5f365e77 button.colab-df-convert');\n",
              "        buttonEl.style.display =\n",
              "          google.colab.kernel.accessAllowed ? 'block' : 'none';\n",
              "\n",
              "        async function convertToInteractive(key) {\n",
              "          const element = document.querySelector('#df-7b4bc73e-e7a5-4d9a-b01f-c38e5f365e77');\n",
              "          const dataTable =\n",
              "            await google.colab.kernel.invokeFunction('convertToInteractive',\n",
              "                                                     [key], {});\n",
              "          if (!dataTable) return;\n",
              "\n",
              "          const docLinkHtml = 'Like what you see? Visit the ' +\n",
              "            '<a target=\"_blank\" href=https://colab.research.google.com/notebooks/data_table.ipynb>data table notebook</a>'\n",
              "            + ' to learn more about interactive tables.';\n",
              "          element.innerHTML = '';\n",
              "          dataTable['output_type'] = 'display_data';\n",
              "          await google.colab.output.renderOutput(dataTable, element);\n",
              "          const docLink = document.createElement('div');\n",
              "          docLink.innerHTML = docLinkHtml;\n",
              "          element.appendChild(docLink);\n",
              "        }\n",
              "      </script>\n",
              "    </div>\n",
              "  </div>\n",
              "  "
            ]
          },
          "metadata": {},
          "execution_count": 21
        }
      ],
      "source": [
        "var"
      ]
    },
    {
      "cell_type": "markdown",
      "metadata": {
        "id": "Ba-iSXpwi3a_"
      },
      "source": [
        "Before continuing, we need to do a little bit of table index shifting. This will shift the index of the tables we just made to 0."
      ]
    },
    {
      "cell_type": "code",
      "source": [
        "# shift the index to 0-index\n",
        "var.index = var['GeneSymbol']\n",
        "var.iVar = var.iVar-1\n",
        "X.iVar = X.iVar-1"
      ],
      "metadata": {
        "id": "E9UHI6-mHEmU"
      },
      "execution_count": null,
      "outputs": []
    },
    {
      "cell_type": "markdown",
      "source": [
        "Then, the following lines will map the re-indexed X table we made to the obs table."
      ],
      "metadata": {
        "id": "ZgAHVM8XCjd3"
      }
    },
    {
      "cell_type": "code",
      "execution_count": null,
      "metadata": {
        "id": "lLfrWPijiBqQ"
      },
      "outputs": [],
      "source": [
        "# fix the obs index by reindexing\n",
        "iObsDict = dict(zip(obs.iObs, obs.index))\n",
        "X.iObs = [iObsDict[a] for a in X.iObs]"
      ]
    },
    {
      "cell_type": "markdown",
      "source": [
        "Next, we convert the pandas dataframe into a sparse matrix."
      ],
      "metadata": {
        "id": "L2_iY8u4Cz25"
      }
    },
    {
      "cell_type": "code",
      "execution_count": null,
      "metadata": {
        "colab": {
          "base_uri": "https://localhost:8080/"
        },
        "id": "knJQYO8vfnnb",
        "outputId": "b4911b54-437b-46d3-f246-652fa5410b60"
      },
      "outputs": [
        {
          "output_type": "execute_result",
          "data": {
            "text/plain": [
              "<15x28731 sparse matrix of type '<class 'numpy.float64'>'\n",
              "\twith 28731 stored elements in Compressed Sparse Row format>"
            ]
          },
          "metadata": {},
          "execution_count": 24
        }
      ],
      "source": [
        "sparseX2 = sparse.csr_matrix( (X.X_value, (X.iObs, X.iVar)), shape=(len(obs),len(var)))\n",
        "sparseX2"
      ]
    },
    {
      "cell_type": "markdown",
      "source": [
        "Finally, we use the sparse matrix, obs and var tables we have created in a AnnData object."
      ],
      "metadata": {
        "id": "a0ZnhZbeC8HZ"
      }
    },
    {
      "cell_type": "code",
      "execution_count": null,
      "metadata": {
        "colab": {
          "base_uri": "https://localhost:8080/"
        },
        "id": "5eZdbLHjkCUm",
        "outputId": "16254d6f-9798-4945-f5d1-0b55c33fceb9"
      },
      "outputs": [
        {
          "output_type": "stream",
          "name": "stderr",
          "text": [
            "/usr/local/lib/python3.7/dist-packages/ipykernel_launcher.py:2: FutureWarning: X.dtype being converted to np.float32 from float64. In the next version of anndata (0.9) conversion will not be automatic. Pass dtype explicitly to avoid this warning. Pass `AnnData(X, dtype=X.dtype, ...)` to get the future behavour.\n",
            "  \n",
            "/usr/local/lib/python3.7/dist-packages/anndata/_core/anndata.py:121: ImplicitModificationWarning: Transforming to str index.\n",
            "  warnings.warn(\"Transforming to str index.\", ImplicitModificationWarning)\n",
            "/usr/local/lib/python3.7/dist-packages/anndata/_core/anndata.py:1830: UserWarning: Variable names are not unique. To make them unique, call `.var_names_make_unique`.\n",
            "  utils.warn_names_duplicates(\"var\")\n"
          ]
        }
      ],
      "source": [
        "# build the AnnData\n",
        "adata = sc.AnnData(X=sparseX2, obs=obs, var=var)\n",
        "adata.var_names_make_unique()"
      ]
    },
    {
      "cell_type": "markdown",
      "source": [
        "Next, in order to plot some results using the AnnData we created, we will select genes of interest from our data that exhibit high expression levels."
      ],
      "metadata": {
        "id": "9M4v4sriDg1U"
      }
    },
    {
      "cell_type": "code",
      "execution_count": null,
      "metadata": {
        "id": "1j9LEJSqoGXN"
      },
      "outputs": [],
      "source": [
        "geneCountsSum = (np.array(adata.X.sum(axis=0))[0,:])\n",
        "highExprGenes = adata.var.iloc[ np.where(geneCountsSum > 60) ].index"
      ]
    },
    {
      "cell_type": "markdown",
      "source": [
        "Lastly, we can use scanpy plotting functions to visuialize the genes we identified above. Here, we plot their mean expression by cell phase and gene of interest. "
      ],
      "metadata": {
        "id": "vNwsqtULD2Mu"
      }
    },
    {
      "cell_type": "code",
      "execution_count": null,
      "metadata": {
        "colab": {
          "base_uri": "https://localhost:8080/",
          "height": 240
        },
        "id": "jxOqiKKblRUm",
        "outputId": "06fa3e28-e97e-4333-fb75-93a359acc298"
      },
      "outputs": [
        {
          "output_type": "stream",
          "name": "stdout",
          "text": [
            "WARNING: Dendrogram not added. Dendrogram is added only when the number of categories to plot > 2\n"
          ]
        },
        {
          "output_type": "display_data",
          "data": {
            "text/plain": [
              "<Figure size 640.8x180 with 4 Axes>"
            ],
            "image/png": "[encoded data removed]"
          },
          "metadata": {
            "needs_background": "light"
          }
        }
      ],
      "source": [
        "# now we can use the plot functions of scanpy\n",
        "sc.pl.dotplot(adata, highExprGenes, 'Phase', dendrogram=True)"
      ]
    },
    {
      "cell_type": "markdown",
      "source": [
        "We can also view the contents of the AnnData in a table format. The following table shows the counts of observations visualized above by group (cell phase)."
      ],
      "metadata": {
        "id": "OuYRNjrJELaE"
      }
    },
    {
      "cell_type": "code",
      "execution_count": null,
      "metadata": {
        "colab": {
          "base_uri": "https://localhost:8080/"
        },
        "id": "Bv390PGimBC7",
        "outputId": "8e809286-6973-4c59-c59d-9ba786c7ceac"
      },
      "outputs": [
        {
          "output_type": "execute_result",
          "data": {
            "text/plain": [
              "G1     13\n",
              "G2M     2\n",
              "Name: Phase, dtype: int64"
            ]
          },
          "metadata": {},
          "execution_count": 46
        }
      ],
      "source": [
        "adata.obs.Phase.value_counts()"
      ]
    },
    {
      "cell_type": "markdown",
      "source": [
        "Lastly, we can also plot the distribution of specific elements and group them accordingly. The following violin plot groups the FTL distribution by cell phase. "
      ],
      "metadata": {
        "id": "Ya4V3CFLEi1A"
      }
    },
    {
      "cell_type": "code",
      "execution_count": null,
      "metadata": {
        "colab": {
          "base_uri": "https://localhost:8080/",
          "height": 481
        },
        "id": "PNZUGbehtoRz",
        "outputId": "6b36cc37-4c26-47b4-a8ae-d277e20544a8"
      },
      "outputs": [
        {
          "output_type": "display_data",
          "data": {
            "text/plain": [
              "<Figure size 744.048x576 with 1 Axes>"
            ],
            "image/png": "[encoded data removed]"
          },
          "metadata": {
            "needs_background": "light"
          }
        }
      ],
      "source": [
        "sc.pl.violin(adata, 'FTL', groupby='Phase', rotation=90)"
      ]
    },
    {
      "cell_type": "markdown",
      "source": [
        "We have successfully pulled a subset of cells out of Google big query and constructed an AnnData object in Python. This notebook serves as a general guide, therefore it is best to recreate this analysis with your own questions and variables of interest.\n",
        "\n",
        "If you have further questions, please reach out to the notebook authors or visit the links mentioned above and below.\n"
      ],
      "metadata": {
        "id": "BC9lMCq-FK9W"
      }
    },
    {
      "cell_type": "markdown",
      "metadata": {
        "id": "5nipnrkZGfIE"
      },
      "source": [
        "# 5. Relevant Citations and Links"
      ]
    },
    {
      "cell_type": "markdown",
      "metadata": {
        "jp-MarkdownHeadingCollapsed": true,
        "tags": [],
        "id": "R6NO1BSMGfIF"
      },
      "source": [
        "\n",
        "[HTAN Portal](https://humantumoratlas.org/)   \n",
        "\n",
        "\n",
        "[Overview paper, Cell, April 2020](https://www.sciencedirect.com/science/article/pii/S0092867420303469)\n",
        "\n"
      ]
    }
  ],
  "metadata": {
    "colab": {
      "collapsed_sections": [],
      "name": "Building_AnnData_with_Subset_of_Cells_from_BQ.ipynb",
      "provenance": []
    },
    "kernelspec": {
      "display_name": "Python 3 (ipykernel)",
      "language": "python",
      "name": "python3"
    },
    "language_info": {
      "codemirror_mode": {
        "name": "ipython",
        "version": 3
      },
      "file_extension": ".py",
      "mimetype": "text/x-python",
      "name": "python",
      "nbconvert_exporter": "python",
      "pygments_lexer": "ipython3",
      "version": "3.10.5"
    }
  },
  "nbformat": 4,
  "nbformat_minor": 0
}