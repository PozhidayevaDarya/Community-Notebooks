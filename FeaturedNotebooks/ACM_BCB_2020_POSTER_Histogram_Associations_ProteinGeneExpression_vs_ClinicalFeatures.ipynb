{
  "nbformat": 4,
  "nbformat_minor": 0,
  "metadata": {
    "kernelspec": {
      "display_name": "Python 3.8.3 64-bit",
      "language": "python",
      "name": "python38364bit537b7389689349c297126cea58c73bfb"
    },
    "language_info": {
      "codemirror_mode": {
        "name": "ipython",
        "version": 3
      },
      "file_extension": ".py",
      "mimetype": "text/x-python",
      "name": "python",
      "nbconvert_exporter": "python",
      "pygments_lexer": "ipython3",
      "version": "3.8.3-candidate"
    },
    "colab": {
      "name": "ACM-BCB-2020-Histogram_Associations_ProteinGeneExpression_vs_ClinicalFeatures.ipynb",
      "provenance": [],
      "collapsed_sections": []
    }
  },
  "cells": [
    {
      "cell_type": "markdown",
      "metadata": {
        "id": "y_3QacO3kHRY",
        "colab_type": "text"
      },
      "source": [
        "# Poster Notebook: Histogram of associations between Protein/Gene Expression and Clinical Features\n",
        "```\n",
        "Author:  Boris Aguilar\n",
        "Created: 09-20-2020\n",
        "URL:     https://github.com/isb-cgc/Community-Notebooks/blob/master/Correlation-GeneExpression-MicroRNA\n",
        "Notes: This notebook supports the POSTER : Multi-omics Data Integration in the Cloud: Analysis \n",
        "of Statistically Significant Associations Between Clinical and Molecular Features in Breast Cancer, presented \n",
        "in the ACM Conference on Bioinformatics, Computational Biology, and Health Informatics, 2020.\n",
        "```\n",
        "***\n",
        "\n",
        "This Notebook computes statistically significant associations between Protein/Gene expression and clinical features using Kruskal Wallis (KW) test implemented as user defined function in Bigquery. Details the KW test in the implementatin can be fund in: https://github.com/jrossthomson/bigquery-utils/tree/master/udfs/statslib\n",
        "\n",
        "After the KW test we plot histograms of the number of cases with significant associations. \n"
      ]
    },
    {
      "cell_type": "markdown",
      "metadata": {
        "id": "nqdesxBuxkcG",
        "colab_type": "text"
      },
      "source": [
        "# Setup"
      ]
    },
    {
      "cell_type": "code",
      "metadata": {
        "id": "TppLwn_uF4Y1",
        "colab_type": "code",
        "colab": {
          "base_uri": "https://localhost:8080/",
          "height": 51
        },
        "outputId": "b4868a0f-b531-4ead-dd3a-bc02e566cda9"
      },
      "source": [
        "import sys\n",
        "import matplotlib.pyplot as plt\n",
        "import seaborn as sns\n",
        "import pandas_gbq\n",
        "\n",
        "#! {sys.executable} -m pip install matplotlib seaborn\n",
        "#! {sys.executable} -m pip install google-cloud\n",
        "#! {sys.executable} -m pip install google-cloud\n",
        "#! {sys.executable} -m pip install google-auth\n",
        "print({sys.executable})\n",
        "from platform import python_version\n",
        "\n",
        "print(python_version())"
      ],
      "execution_count": 18,
      "outputs": [
        {
          "output_type": "stream",
          "text": [
            "{'/usr/bin/python3'}\n",
            "3.6.9\n"
          ],
          "name": "stdout"
        }
      ]
    },
    {
      "cell_type": "markdown",
      "metadata": {
        "id": "_OeROlcGWi5-",
        "colab_type": "text"
      },
      "source": [
        "# Authentication\n",
        "The first step is to authorize access to BigQuery and the Google Cloud. For more information see ['Quick Start Guide to ISB-CGC'](https://isb-cancer-genomics-cloud.readthedocs.io/en/latest/sections/HowToGetStartedonISB-CGC.html) and alternative authentication methods can be found [here](https://googleapis.github.io/google-cloud-python/latest/core/auth.html)."
      ]
    },
    {
      "cell_type": "code",
      "metadata": {
        "id": "b-debebxHIWw",
        "colab_type": "code",
        "colab": {}
      },
      "source": [
        "from google.colab import auth\n",
        "import google.auth\n",
        "\n",
        "auth.authenticate_user()\n",
        "my_project_id = \"\" # write your project id here\n",
        "#credentials, your_project_id = google.auth.default()\n"
      ],
      "execution_count": 19,
      "outputs": []
    },
    {
      "cell_type": "markdown",
      "metadata": {
        "id": "uPBtiq2QXAu6",
        "colab_type": "text"
      },
      "source": [
        "# Kruskal Wallis over Protein dataset and Clinical features"
      ]
    },
    {
      "cell_type": "code",
      "metadata": {
        "id": "-0m6TjJtF4Y9",
        "colab_type": "code",
        "colab": {
          "base_uri": "https://localhost:8080/",
          "height": 235
        },
        "outputId": "160d26dc-57bf-4a00-b374-aaf7aeeffd84"
      },
      "source": [
        "cancer_type = 'TCGA-BRCA' # https://gdc.cancer.gov/resources-tcga-users/tcga-code-tables/tcga-study-abbreviations\n",
        "significance_level = '0.001'\n",
        "sql = '''\n",
        "with the_goods as (\n",
        "  SELECT p.project_short_name as study, gene_name as g, c.feature.key as c, `cgc-05-0042.functions.kruskal_wallis_current`(array_agg((c.feature.value,protein_expression))) as reso\n",
        "  FROM `isb-cgc.TCGA_hg19_data_v0.Protein_Expression` p\n",
        "  JOIN `isb-cgc-bq.supplementary_tables.Abdilleh_etal_ACM_BCB_2020_TCGA_bioclin_v0_Clinical_UNPIVOT` c\n",
        "  ON c.case_barcode = substr(p.sample_barcode,0,12)\n",
        "  WHERE 1=1 AND c.feature.value != \"null\" AND p.project_short_name = \"{0}\"\n",
        "  GROUP BY study, g, c\n",
        "  HAVING reso.DoF >2 and reso.DoF < 10 and reso.p <= {1}\n",
        "  ORDER BY study, reso.p, c\n",
        ") # the_goods\n",
        "select c as Clinical_feature, COUNT(g) as Protein \n",
        "from the_goods\n",
        "group by c\n",
        "order by Protein DESC\n",
        "'''.format( cancer_type , significance_level )\n",
        "df1 = pandas_gbq.read_gbq(sql,project_id=my_project_id )\n",
        "df1\n"
      ],
      "execution_count": 20,
      "outputs": [
        {
          "output_type": "execute_result",
          "data": {
            "text/html": [
              "<div>\n",
              "<style scoped>\n",
              "    .dataframe tbody tr th:only-of-type {\n",
              "        vertical-align: middle;\n",
              "    }\n",
              "\n",
              "    .dataframe tbody tr th {\n",
              "        vertical-align: top;\n",
              "    }\n",
              "\n",
              "    .dataframe thead th {\n",
              "        text-align: right;\n",
              "    }\n",
              "</style>\n",
              "<table border=\"1\" class=\"dataframe\">\n",
              "  <thead>\n",
              "    <tr style=\"text-align: right;\">\n",
              "      <th></th>\n",
              "      <th>Clinical_feature</th>\n",
              "      <th>Protein</th>\n",
              "    </tr>\n",
              "  </thead>\n",
              "  <tbody>\n",
              "    <tr>\n",
              "      <th>0</th>\n",
              "      <td>histological_type</td>\n",
              "      <td>59</td>\n",
              "    </tr>\n",
              "    <tr>\n",
              "      <th>1</th>\n",
              "      <td>race</td>\n",
              "      <td>41</td>\n",
              "    </tr>\n",
              "    <tr>\n",
              "      <th>2</th>\n",
              "      <td>menopause_status</td>\n",
              "      <td>12</td>\n",
              "    </tr>\n",
              "    <tr>\n",
              "      <th>3</th>\n",
              "      <td>anatomic_neoplasm_subdivision</td>\n",
              "      <td>1</td>\n",
              "    </tr>\n",
              "    <tr>\n",
              "      <th>4</th>\n",
              "      <td>pathologic_M</td>\n",
              "      <td>1</td>\n",
              "    </tr>\n",
              "    <tr>\n",
              "      <th>5</th>\n",
              "      <td>country</td>\n",
              "      <td>1</td>\n",
              "    </tr>\n",
              "  </tbody>\n",
              "</table>\n",
              "</div>"
            ],
            "text/plain": [
              "                Clinical_feature  Protein\n",
              "0              histological_type       59\n",
              "1                           race       41\n",
              "2               menopause_status       12\n",
              "3  anatomic_neoplasm_subdivision        1\n",
              "4                   pathologic_M        1\n",
              "5                        country        1"
            ]
          },
          "metadata": {
            "tags": []
          },
          "execution_count": 20
        }
      ]
    },
    {
      "cell_type": "markdown",
      "metadata": {
        "id": "mC3oX5xbBnBU",
        "colab_type": "text"
      },
      "source": [
        "# Kruskal Wallis over Gene expresion and Clinical features"
      ]
    },
    {
      "cell_type": "code",
      "metadata": {
        "id": "Mcq77dM7BsXx",
        "colab_type": "code",
        "colab": {
          "base_uri": "https://localhost:8080/",
          "height": 204
        },
        "outputId": "d17f3aac-d379-45ea-aaba-030d1a01599d"
      },
      "source": [
        "sql = '''\n",
        "with the_goods as (\n",
        "  SELECT p.project_short_name as study, p.HGNC_gene_symbol as g, c.feature.key as c, `cgc-05-0042.functions.kruskal_wallis_current`(array_agg((c.feature.value,normalized_count))) as reso\n",
        "  FROM `isb-cgc.TCGA_hg19_data_v0.RNAseq_Gene_Expression_UNC_RSEM` p\n",
        "  JOIN `isb-cgc-bq.supplementary_tables.Abdilleh_etal_ACM_BCB_2020_TCGA_bioclin_v0_Clinical_UNPIVOT` c\n",
        "  ON c.case_barcode = substr(p.sample_barcode,0,12)\n",
        "  WHERE 1=1 AND c.feature.value != \"null\" AND p.project_short_name = \"{0}\"\n",
        "        and HGNC_gene_symbol in ( SELECT gene_name FROM `isb-cgc.TCGA_hg19_data_v0.Protein_Expression` GROUP BY 1 )\n",
        "  GROUP BY study, g, c\n",
        "  HAVING reso.DoF >2 and reso.DoF < 10 and reso.p <= {1}\n",
        "  ORDER BY study, reso.p, c\n",
        ") # the_goods\n",
        "select c as Clinical_feature, COUNT(g) as Gene_expression \n",
        "from the_goods\n",
        "group by c\n",
        "order by Gene_expression DESC\n",
        "'''.format( cancer_type , significance_level )\n",
        "df2 = pandas_gbq.read_gbq(sql, project_id=my_project_id)\n",
        "df2\n"
      ],
      "execution_count": 15,
      "outputs": [
        {
          "output_type": "execute_result",
          "data": {
            "text/html": [
              "<div>\n",
              "<style scoped>\n",
              "    .dataframe tbody tr th:only-of-type {\n",
              "        vertical-align: middle;\n",
              "    }\n",
              "\n",
              "    .dataframe tbody tr th {\n",
              "        vertical-align: top;\n",
              "    }\n",
              "\n",
              "    .dataframe thead th {\n",
              "        text-align: right;\n",
              "    }\n",
              "</style>\n",
              "<table border=\"1\" class=\"dataframe\">\n",
              "  <thead>\n",
              "    <tr style=\"text-align: right;\">\n",
              "      <th></th>\n",
              "      <th>Clinical_feature</th>\n",
              "      <th>Gene_expression</th>\n",
              "    </tr>\n",
              "  </thead>\n",
              "  <tbody>\n",
              "    <tr>\n",
              "      <th>0</th>\n",
              "      <td>histological_type</td>\n",
              "      <td>159</td>\n",
              "    </tr>\n",
              "    <tr>\n",
              "      <th>1</th>\n",
              "      <td>race</td>\n",
              "      <td>126</td>\n",
              "    </tr>\n",
              "    <tr>\n",
              "      <th>2</th>\n",
              "      <td>pathologic_M</td>\n",
              "      <td>50</td>\n",
              "    </tr>\n",
              "    <tr>\n",
              "      <th>3</th>\n",
              "      <td>menopause_status</td>\n",
              "      <td>23</td>\n",
              "    </tr>\n",
              "    <tr>\n",
              "      <th>4</th>\n",
              "      <td>anatomic_neoplasm_subdivision</td>\n",
              "      <td>2</td>\n",
              "    </tr>\n",
              "  </tbody>\n",
              "</table>\n",
              "</div>"
            ],
            "text/plain": [
              "                Clinical_feature  Gene_expression\n",
              "0              histological_type              159\n",
              "1                           race              126\n",
              "2                   pathologic_M               50\n",
              "3               menopause_status               23\n",
              "4  anatomic_neoplasm_subdivision                2"
            ]
          },
          "metadata": {
            "tags": []
          },
          "execution_count": 15
        }
      ]
    },
    {
      "cell_type": "markdown",
      "metadata": {
        "id": "RawwNakAHlQ5",
        "colab_type": "text"
      },
      "source": [
        "# Plot histogram"
      ]
    },
    {
      "cell_type": "code",
      "metadata": {
        "id": "49nQ4olTizDo",
        "colab_type": "code",
        "colab": {
          "base_uri": "https://localhost:8080/",
          "height": 408
        },
        "outputId": "20357788-2a33-488a-aa82-a7004bb1287f"
      },
      "source": [
        "# join tables\n",
        "df = df1.set_index('Clinical_feature').join(df2.set_index('Clinical_feature'), how='inner')\n",
        "# Generate plot\n",
        "ax = df.plot.bar(rot=45)\n",
        "plt.ylabel('Count', fontweight='bold')\n",
        "plt.xlabel('Clinical feature', fontweight='bold')"
      ],
      "execution_count": 17,
      "outputs": [
        {
          "output_type": "execute_result",
          "data": {
            "text/plain": [
              "Text(0.5, 0, 'Clinical feature')"
            ]
          },
          "metadata": {
            "tags": []
          },
          "execution_count": 17
        },
        {
          "output_type": "display_data",
          "data": {
            "image/png": "[encoded data removed]",
            "text/plain": [
              "<Figure size 432x288 with 1 Axes>"
            ]
          },
          "metadata": {
            "tags": [],
            "needs_background": "light"
          }
        }
      ]
    }
  ]
}