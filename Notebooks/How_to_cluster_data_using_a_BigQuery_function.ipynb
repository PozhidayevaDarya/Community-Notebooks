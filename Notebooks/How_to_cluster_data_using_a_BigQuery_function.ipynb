{
  "nbformat": 4,
  "nbformat_minor": 0,
  "metadata": {
    "colab": {
      "name": "How_to_cluster_data_using_a_BigQuery_function.ipynb",
      "provenance": []
    },
    "kernelspec": {
      "name": "python3",
      "display_name": "Python 3"
    }
  },
  "cells": [
    {
      "cell_type": "markdown",
      "metadata": {
        "id": "JHF3M6vz6K3k"
      },
      "source": [
        "# ISB-CGC Community Notebooks\n",
        "Check out more notebooks at our [Community Notebooks Repository](https://github.com/isb-cgc/Community-Notebooks)!\n",
        "\n",
        "- **Title:**   How to cluster data using a BigQuery user defined function\n",
        "- **Author:**  Boris Aguilar\n",
        "- **Created:** 2020-11-19\n",
        "- **Purpose:** Demostrate how to cluster gene expression data using the k-mean method implemented as a BigQuery user defined function.\n",
        "- **URL:**     https://github.com/isb-cgc/Community-Notebooks/blob/master/Notebooks/How_to_cluster_data_using_a_BigQuery_function.ipynb\n",
        "- **Note1:**   This notebook was adapted from the Query of the month of February 2017, developed by David Gibbs: ['Using BigQuery, define K-means clustering as a user defined (javascript) function'](https://isb-cancer-genomics-cloud.readthedocs.io/en/latest/sections/QueryOfTheMonthClub.html#february2017).\n",
        "- **Note2:** Works in Google Colaboratory notebooks\n",
        "\n",
        "This notebook demostrates how to use the ```kmeans_current``` function available in the ```isb-cgc-bq.functions``` dataset for clustering numerical data. This notebook uses Breast cancer gene expression data of two user defined genes in the BigQuery table ```isb-cgc.tcga_201607_beta.mRNA_UNC_RSEM```, but this example should also work on other numerical BigQuery table."
      ]
    },
    {
      "cell_type": "markdown",
      "metadata": {
        "id": "f-OP7iiNqSmI"
      },
      "source": [
        "## Software and libraries"
      ]
    },
    {
      "cell_type": "code",
      "metadata": {
        "id": "UfkfwLCqqcbM"
      },
      "source": [
        "#pip install --upgrade google-cloud-bigquery"
      ],
      "execution_count": 11,
      "outputs": []
    },
    {
      "cell_type": "code",
      "metadata": {
        "id": "zYsyVR-TtzG5"
      },
      "source": [
        "from google.cloud import bigquery\n",
        "from google.colab import auth\n",
        "import google.auth\n",
        "import pandas as pd\n",
        "import seaborn as sns"
      ],
      "execution_count": 2,
      "outputs": []
    },
    {
      "cell_type": "markdown",
      "metadata": {
        "id": "BHStC7WwucK1"
      },
      "source": [
        "## Authentication\n",
        "Before using BigQuery we need to authorize access to BigQuery and the Google Cloud. For more information see ['Quick Start Guide to ISB-CGC'](https://isb-cancer-genomics-cloud.readthedocs.io/en/latest/sections/HowToGetStartedonISB-CGC.html) and alternative authentication methods can be found [here](https://googleapis.dev/python/google-api-core/latest/auth.html)."
      ]
    },
    {
      "cell_type": "code",
      "metadata": {
        "id": "XvxPBWDNufvm"
      },
      "source": [
        "auth.authenticate_user()\n",
        "my_project_id = \"my_google_project\" # write your project id here\n",
        "bqclient = bigquery.Client( my_project_id )"
      ],
      "execution_count": 3,
      "outputs": []
    },
    {
      "cell_type": "markdown",
      "metadata": {
        "id": "qpH84AQpuxRT"
      },
      "source": [
        "## Parameters\n",
        "In this experiment we use the gene expression of two genes (```gene1``` and ```gene2```) in Breast cancer. The clustering of the data is performed by using the ```k-means``` method implemented as BigQuery function, ```isb-cgc-bq.function.kmeans_current```. In addition to the gene expression data, the function requires two additional parameteres, the number of iterations and the number of cluster."
      ]
    },
    {
      "cell_type": "code",
      "metadata": {
        "id": "Nq6oUa0Au0BC"
      },
      "source": [
        "gene1 = 'ESR1' \n",
        "gene2 = 'EGFR'\n",
        "study = 'BRCA'\n",
        "niterations = 200\n",
        "nclusters = 2"
      ],
      "execution_count": 4,
      "outputs": []
    },
    {
      "cell_type": "markdown",
      "metadata": {
        "id": "ektDFDTsvMob"
      },
      "source": [
        "## Queries\n",
        "The following code generates a sub query to access the gene expression data of a gene. This subquery requires the table name(```{0}```), the cancer type (```{1}```), and the gene symbol (```{2}```). "
      ]
    },
    {
      "cell_type": "code",
      "metadata": {
        "id": "TXe-gzyzvN-p"
      },
      "source": [
        "gequery = \"\"\"{0} AS (\n",
        "  SELECT\n",
        "    AliquotBarcode AS barcode,\n",
        "    AVG(LOG(normalized_count+1, 2)) AS count\n",
        "  FROM\n",
        "    `isb-cgc.tcga_201607_beta.mRNA_UNC_RSEM`\n",
        "  WHERE\n",
        "    Study = '{1}'\n",
        "    AND SampleTypeLetterCode = 'TP'\n",
        "    AND HGNC_gene_symbol = '{2}'\n",
        "    AND normalized_count >= 0\n",
        "  GROUP BY\n",
        "    AliquotBarcode, gene_id )\n",
        " \"\"\""
      ],
      "execution_count": 5,
      "outputs": []
    },
    {
      "cell_type": "markdown",
      "metadata": {
        "id": "2ilgGG-w58u9"
      },
      "source": [
        "The folowing query first combines the gene expression of the two genes using the ```JOIN``` command, and then calls the ```isb-cgc-bq.functions.kmeans_current``` on the gene expression (```m1.count``` and ```m2.count```) data. "
      ]
    },
    {
      "cell_type": "code",
      "metadata": {
        "id": "d1-qkEfyCxTw"
      },
      "source": [
        "clustering = \"\"\"results AS (\n",
        "SELECT\n",
        "    ARRAY_AGG(m1.count ORDER BY m1.barcode) AS esr1_a,\n",
        "    ARRAY_AGG(m2.count ORDER BY m1.barcode) AS egfr_a,\n",
        "    `isb-cgc-bq.functions.kmeans_current`( ARRAY_AGG( STRUCT([m1.count,m2.count]) ORDER BY m1.barcode ), {0},{1} ) AS cluster \n",
        "  FROM\n",
        "    gene1 AS m1\n",
        "  JOIN\n",
        "    gene2 AS m2\n",
        "  ON\n",
        "    m1.barcode = m2.barcode \n",
        ")\"\"\".format( str(niterations), str(nclusters)  )"
      ],
      "execution_count": 6,
      "outputs": []
    },
    {
      "cell_type": "markdown",
      "metadata": {
        "id": "mFIqxPk6VuGW"
      },
      "source": [
        "Finally we generate the query that will perform the clustering on genexpression data."
      ]
    },
    {
      "cell_type": "code",
      "metadata": {
        "id": "uns25_sxVnp1"
      },
      "source": [
        "query = \"WITH \" + \\\n",
        "        gequery.format('gene1',study,gene1) + \",\" + \\\n",
        "        gequery.format('gene2',study,gene2) + \",\" + \\\n",
        "        clustering +  \"\"\"\n",
        "SELECT  cluster, \n",
        "        esr1_a[OFFSET(myoffset)] AS ESR1,\n",
        "        egfr_a[OFFSET(myoffset)] AS EGFR\n",
        "FROM results, \n",
        "     results.cluster as cluster WITH OFFSET AS myoffset\n",
        "\"\"\"\n",
        "# print(query)"
      ],
      "execution_count": 7,
      "outputs": []
    },
    {
      "cell_type": "markdown",
      "metadata": {
        "id": "EyczkC-SX8s_"
      },
      "source": [
        "## Run BigQuery\n",
        "The following commands run the generated query in google BigQuery. The results are saved in a pandas dataframe where the first column represents the cluster id and the second and third columns represent the gene expression of gene1 and gene2 respectively."
      ]
    },
    {
      "cell_type": "code",
      "metadata": {
        "id": "UHVLtUbqq6db"
      },
      "source": [
        "try:\n",
        "    query_job = bqclient.query ( query )\n",
        "except:\n",
        "    print ( \"  FATAL ERROR: query execution failed \" )"
      ],
      "execution_count": 8,
      "outputs": []
    },
    {
      "cell_type": "code",
      "metadata": {
        "id": "4ChkzNKjViRO",
        "outputId": "01271bde-9c23-4b9d-f887-13ebba98e98f",
        "colab": {
          "base_uri": "https://localhost:8080/",
          "height": 419
        }
      },
      "source": [
        "df = query_job.to_dataframe()\n",
        "df"
      ],
      "execution_count": 9,
      "outputs": [
        {
          "output_type": "execute_result",
          "data": {
            "text/html": [
              "<div>\n",
              "<style scoped>\n",
              "    .dataframe tbody tr th:only-of-type {\n",
              "        vertical-align: middle;\n",
              "    }\n",
              "\n",
              "    .dataframe tbody tr th {\n",
              "        vertical-align: top;\n",
              "    }\n",
              "\n",
              "    .dataframe thead th {\n",
              "        text-align: right;\n",
              "    }\n",
              "</style>\n",
              "<table border=\"1\" class=\"dataframe\">\n",
              "  <thead>\n",
              "    <tr style=\"text-align: right;\">\n",
              "      <th></th>\n",
              "      <th>cluster</th>\n",
              "      <th>ESR1</th>\n",
              "      <th>EGFR</th>\n",
              "    </tr>\n",
              "  </thead>\n",
              "  <tbody>\n",
              "    <tr>\n",
              "      <th>0</th>\n",
              "      <td>0</td>\n",
              "      <td>11.756123</td>\n",
              "      <td>5.756957</td>\n",
              "    </tr>\n",
              "    <tr>\n",
              "      <th>1</th>\n",
              "      <td>1</td>\n",
              "      <td>6.119263</td>\n",
              "      <td>6.227918</td>\n",
              "    </tr>\n",
              "    <tr>\n",
              "      <th>2</th>\n",
              "      <td>0</td>\n",
              "      <td>12.869463</td>\n",
              "      <td>5.533903</td>\n",
              "    </tr>\n",
              "    <tr>\n",
              "      <th>3</th>\n",
              "      <td>0</td>\n",
              "      <td>11.279792</td>\n",
              "      <td>7.994499</td>\n",
              "    </tr>\n",
              "    <tr>\n",
              "      <th>4</th>\n",
              "      <td>0</td>\n",
              "      <td>12.430269</td>\n",
              "      <td>7.368516</td>\n",
              "    </tr>\n",
              "    <tr>\n",
              "      <th>...</th>\n",
              "      <td>...</td>\n",
              "      <td>...</td>\n",
              "      <td>...</td>\n",
              "    </tr>\n",
              "    <tr>\n",
              "      <th>1090</th>\n",
              "      <td>0</td>\n",
              "      <td>12.154738</td>\n",
              "      <td>5.616340</td>\n",
              "    </tr>\n",
              "    <tr>\n",
              "      <th>1091</th>\n",
              "      <td>0</td>\n",
              "      <td>11.416004</td>\n",
              "      <td>8.697556</td>\n",
              "    </tr>\n",
              "    <tr>\n",
              "      <th>1092</th>\n",
              "      <td>0</td>\n",
              "      <td>11.288153</td>\n",
              "      <td>8.435642</td>\n",
              "    </tr>\n",
              "    <tr>\n",
              "      <th>1093</th>\n",
              "      <td>0</td>\n",
              "      <td>11.689289</td>\n",
              "      <td>6.584566</td>\n",
              "    </tr>\n",
              "    <tr>\n",
              "      <th>1094</th>\n",
              "      <td>0</td>\n",
              "      <td>12.650811</td>\n",
              "      <td>5.045002</td>\n",
              "    </tr>\n",
              "  </tbody>\n",
              "</table>\n",
              "<p>1095 rows × 3 columns</p>\n",
              "</div>"
            ],
            "text/plain": [
              "      cluster       ESR1      EGFR\n",
              "0           0  11.756123  5.756957\n",
              "1           1   6.119263  6.227918\n",
              "2           0  12.869463  5.533903\n",
              "3           0  11.279792  7.994499\n",
              "4           0  12.430269  7.368516\n",
              "...       ...        ...       ...\n",
              "1090        0  12.154738  5.616340\n",
              "1091        0  11.416004  8.697556\n",
              "1092        0  11.288153  8.435642\n",
              "1093        0  11.689289  6.584566\n",
              "1094        0  12.650811  5.045002\n",
              "\n",
              "[1095 rows x 3 columns]"
            ]
          },
          "metadata": {
            "tags": []
          },
          "execution_count": 9
        }
      ]
    },
    {
      "cell_type": "markdown",
      "metadata": {
        "id": "V1Tfy75RLVbk"
      },
      "source": [
        "## Plot the results\n",
        "Finally we can generate a scatter plot coloring the gene expression data by the cluster id."
      ]
    },
    {
      "cell_type": "code",
      "metadata": {
        "id": "G8uZTE7Bxx5Z",
        "outputId": "8e71bdf5-283a-4adf-c773-6fd82740d519",
        "colab": {
          "base_uri": "https://localhost:8080/",
          "height": 400
        }
      },
      "source": [
        "sns.lmplot( x=\"EGFR\", y=\"ESR1\", data=df, fit_reg=False, hue='cluster')"
      ],
      "execution_count": 10,
      "outputs": [
        {
          "output_type": "execute_result",
          "data": {
            "text/plain": [
              "<seaborn.axisgrid.FacetGrid at 0x7fd1d14bc0f0>"
            ]
          },
          "metadata": {
            "tags": []
          },
          "execution_count": 10
        },
        {
          "output_type": "display_data",
          "data": {
            "image/png": "[encoded data removed]",
            "text/plain": [
              "<Figure size 402.375x360 with 1 Axes>"
            ]
          },
          "metadata": {
            "tags": [],
            "needs_background": "light"
          }
        }
      ]
    }
  ]
}
