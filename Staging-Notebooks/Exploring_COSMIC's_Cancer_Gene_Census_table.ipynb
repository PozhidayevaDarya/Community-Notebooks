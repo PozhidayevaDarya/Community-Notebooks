{
  "nbformat": 4,
  "nbformat_minor": 0,
  "metadata": {
    "colab": {
      "name": "Exploring COSMIC's Cancer Gene Census table",
      "provenance": [],
      "collapsed_sections": [],
      "include_colab_link": true
    },
    "kernelspec": {
      "name": "python3",
      "display_name": "Python 3"
    },
    "widgets": {
      "application/vnd.jupyter.widget-state+json": {
        "8b8d6533f8144fc4b3aa92d304bdc901": {
          "model_module": "@jupyter-widgets/controls",
          "model_name": "VBoxModel",
          "state": {
            "_view_name": "VBoxView",
            "_dom_classes": [
              "widget-interact"
            ],
            "_model_name": "VBoxModel",
            "_view_module": "@jupyter-widgets/controls",
            "_model_module_version": "1.5.0",
            "_view_count": null,
            "_view_module_version": "1.5.0",
            "box_style": "",
            "layout": "IPY_MODEL_82b4599d30984a83a894c7ce6bf46bf3",
            "_model_module": "@jupyter-widgets/controls",
            "children": [
              "IPY_MODEL_094032a70040453d916eea81e59af5b2",
              "IPY_MODEL_fd8f2e94e5694d96b02ce1b51c83d486",
              "IPY_MODEL_0a028fab628f434dae4a8867b545b2ec",
              "IPY_MODEL_2dc712afcac84328ab90a70b63c6a654"
            ]
          }
        },
        "82b4599d30984a83a894c7ce6bf46bf3": {
          "model_module": "@jupyter-widgets/base",
          "model_name": "LayoutModel",
          "state": {
            "_view_name": "LayoutView",
            "grid_template_rows": null,
            "right": null,
            "justify_content": null,
            "_view_module": "@jupyter-widgets/base",
            "overflow": null,
            "_model_module_version": "1.2.0",
            "_view_count": null,
            "flex_flow": null,
            "width": null,
            "min_width": null,
            "border": null,
            "align_items": null,
            "bottom": null,
            "_model_module": "@jupyter-widgets/base",
            "top": null,
            "grid_column": null,
            "overflow_y": null,
            "overflow_x": null,
            "grid_auto_flow": null,
            "grid_area": null,
            "grid_template_columns": null,
            "flex": null,
            "_model_name": "LayoutModel",
            "justify_items": null,
            "grid_row": null,
            "max_height": null,
            "align_content": null,
            "visibility": null,
            "align_self": null,
            "height": null,
            "min_height": null,
            "padding": null,
            "grid_auto_rows": null,
            "grid_gap": null,
            "max_width": null,
            "order": null,
            "_view_module_version": "1.2.0",
            "grid_template_areas": null,
            "object_position": null,
            "object_fit": null,
            "grid_auto_columns": null,
            "margin": null,
            "display": null,
            "left": null
          }
        },
        "094032a70040453d916eea81e59af5b2": {
          "model_module": "@jupyter-widgets/controls",
          "model_name": "DropdownModel",
          "state": {
            "_options_labels": [
              "1",
              "2",
              "3",
              "4",
              "5",
              "6",
              "7",
              "8",
              "9",
              "10",
              "11",
              "12",
              "13",
              "14",
              "15",
              "16",
              "17",
              "18",
              "19",
              "20",
              "21",
              "22",
              "X"
            ],
            "_view_name": "DropdownView",
            "style": "IPY_MODEL_fe531b5d99fb4df192ee7b6a1e451aea",
            "_dom_classes": [],
            "description": "Chromosome:",
            "_model_name": "DropdownModel",
            "index": 0,
            "_view_module": "@jupyter-widgets/controls",
            "_model_module_version": "1.5.0",
            "_view_count": null,
            "disabled": false,
            "_view_module_version": "1.5.0",
            "description_tooltip": null,
            "_model_module": "@jupyter-widgets/controls",
            "layout": "IPY_MODEL_cd36f0eb3c21427fa046b5492836beba"
          }
        },
        "fd8f2e94e5694d96b02ce1b51c83d486": {
          "model_module": "@jupyter-widgets/controls",
          "model_name": "DropdownModel",
          "state": {
            "_options_labels": [
              "Yes",
              "No, show all"
            ],
            "_view_name": "DropdownView",
            "style": "IPY_MODEL_9748f8cd9210485baed4fe9d63ecae3b",
            "_dom_classes": [],
            "description": "Select hallmark genes?",
            "_model_name": "DropdownModel",
            "index": 1,
            "_view_module": "@jupyter-widgets/controls",
            "_model_module_version": "1.5.0",
            "_view_count": null,
            "disabled": false,
            "_view_module_version": "1.5.0",
            "description_tooltip": null,
            "_model_module": "@jupyter-widgets/controls",
            "layout": "IPY_MODEL_44873af9894c4e85901f9682a5066bc3"
          }
        },
        "0a028fab628f434dae4a8867b545b2ec": {
          "model_module": "@jupyter-widgets/controls",
          "model_name": "TextModel",
          "state": {
            "_view_name": "TextView",
            "style": "IPY_MODEL_9c504123f4dc4c2db1ec6b1efda3e7e0",
            "_dom_classes": [],
            "description": "Show how many rows:",
            "_model_name": "TextModel",
            "placeholder": "Enter number of rows",
            "_view_module": "@jupyter-widgets/controls",
            "_model_module_version": "1.5.0",
            "value": "10",
            "_view_count": null,
            "disabled": false,
            "_view_module_version": "1.5.0",
            "continuous_update": true,
            "description_tooltip": null,
            "_model_module": "@jupyter-widgets/controls",
            "layout": "IPY_MODEL_7461d9da6cd945f6aa691f1a32594fb7"
          }
        },
        "2dc712afcac84328ab90a70b63c6a654": {
          "model_module": "@jupyter-widgets/output",
          "model_name": "OutputModel",
          "state": {
            "_view_name": "OutputView",
            "msg_id": "",
            "_dom_classes": [],
            "_model_name": "OutputModel",
            "outputs": [
              {
                "output_type": "pyerr",
                "metadata": {
                  "tags": []
                },
                "ename": "NameError",
                "evalue": "ignored",
                "traceback": [
                  "\u001b[0;31m---------------------------------------------------------------------------\u001b[0m",
                  "\u001b[0;31mNameError\u001b[0m                                 Traceback (most recent call last)",
                  "\u001b[0;32m/usr/local/lib/python3.6/dist-packages/ipywidgets/widgets/interaction.py\u001b[0m in \u001b[0;36mupdate\u001b[0;34m(self, *args)\u001b[0m\n\u001b[1;32m    254\u001b[0m                     \u001b[0mvalue\u001b[0m \u001b[0;34m=\u001b[0m \u001b[0mwidget\u001b[0m\u001b[0;34m.\u001b[0m\u001b[0mget_interact_value\u001b[0m\u001b[0;34m(\u001b[0m\u001b[0;34m)\u001b[0m\u001b[0;34m\u001b[0m\u001b[0;34m\u001b[0m\u001b[0m\n\u001b[1;32m    255\u001b[0m                     \u001b[0mself\u001b[0m\u001b[0;34m.\u001b[0m\u001b[0mkwargs\u001b[0m\u001b[0;34m[\u001b[0m\u001b[0mwidget\u001b[0m\u001b[0;34m.\u001b[0m\u001b[0m_kwarg\u001b[0m\u001b[0;34m]\u001b[0m \u001b[0;34m=\u001b[0m \u001b[0mvalue\u001b[0m\u001b[0;34m\u001b[0m\u001b[0;34m\u001b[0m\u001b[0m\n\u001b[0;32m--> 256\u001b[0;31m                 \u001b[0mself\u001b[0m\u001b[0;34m.\u001b[0m\u001b[0mresult\u001b[0m \u001b[0;34m=\u001b[0m \u001b[0mself\u001b[0m\u001b[0;34m.\u001b[0m\u001b[0mf\u001b[0m\u001b[0;34m(\u001b[0m\u001b[0;34m**\u001b[0m\u001b[0mself\u001b[0m\u001b[0;34m.\u001b[0m\u001b[0mkwargs\u001b[0m\u001b[0;34m)\u001b[0m\u001b[0;34m\u001b[0m\u001b[0;34m\u001b[0m\u001b[0m\n\u001b[0m\u001b[1;32m    257\u001b[0m                 \u001b[0mshow_inline_matplotlib_plots\u001b[0m\u001b[0;34m(\u001b[0m\u001b[0;34m)\u001b[0m\u001b[0;34m\u001b[0m\u001b[0;34m\u001b[0m\u001b[0m\n\u001b[1;32m    258\u001b[0m                 \u001b[0;32mif\u001b[0m \u001b[0mself\u001b[0m\u001b[0;34m.\u001b[0m\u001b[0mauto_display\u001b[0m \u001b[0;32mand\u001b[0m \u001b[0mself\u001b[0m\u001b[0;34m.\u001b[0m\u001b[0mresult\u001b[0m \u001b[0;32mis\u001b[0m \u001b[0;32mnot\u001b[0m \u001b[0;32mNone\u001b[0m\u001b[0;34m:\u001b[0m\u001b[0;34m\u001b[0m\u001b[0;34m\u001b[0m\u001b[0m\n",
                  "\u001b[0;32m<ipython-input-1-399c7bcebddf>\u001b[0m in \u001b[0;36mget_genes\u001b[0;34m(chr_of_interest, hallmark, view_num)\u001b[0m\n\u001b[1;32m     48\u001b[0m \u001b[0;34m\u001b[0m\u001b[0m\n\u001b[1;32m     49\u001b[0m \u001b[0;34m\u001b[0m\u001b[0m\n\u001b[0;32m---> 50\u001b[0;31m   \u001b[0mgenes_in_chr\u001b[0m \u001b[0;34m=\u001b[0m \u001b[0mclient\u001b[0m\u001b[0;34m.\u001b[0m\u001b[0mquery\u001b[0m\u001b[0;34m(\u001b[0m\u001b[0mQUERY\u001b[0m\u001b[0;34m)\u001b[0m\u001b[0;34m.\u001b[0m\u001b[0mresult\u001b[0m\u001b[0;34m(\u001b[0m\u001b[0;34m)\u001b[0m\u001b[0;34m.\u001b[0m\u001b[0mto_dataframe\u001b[0m\u001b[0;34m(\u001b[0m\u001b[0;34m)\u001b[0m\u001b[0;34m\u001b[0m\u001b[0;34m\u001b[0m\u001b[0m\n\u001b[0m\u001b[1;32m     51\u001b[0m   \u001b[0;32mtry\u001b[0m\u001b[0;34m:\u001b[0m  \u001b[0;31m# we display using try-except in case view_num happens to be NULL\u001b[0m\u001b[0;34m\u001b[0m\u001b[0;34m\u001b[0m\u001b[0m\n\u001b[1;32m     52\u001b[0m     \u001b[0mdisplay\u001b[0m\u001b[0;34m(\u001b[0m\u001b[0mgenes_in_chr\u001b[0m\u001b[0;34m.\u001b[0m\u001b[0mhead\u001b[0m\u001b[0;34m(\u001b[0m\u001b[0mint\u001b[0m\u001b[0;34m(\u001b[0m\u001b[0mview_num\u001b[0m\u001b[0;34m)\u001b[0m\u001b[0;34m)\u001b[0m\u001b[0;34m)\u001b[0m\u001b[0;34m\u001b[0m\u001b[0;34m\u001b[0m\u001b[0m\n",
                  "\u001b[0;31mNameError\u001b[0m: name 'client' is not defined"
                ]
              }
            ],
            "_view_module": "@jupyter-widgets/output",
            "_model_module_version": "1.0.0",
            "_view_count": null,
            "_view_module_version": "1.0.0",
            "layout": "IPY_MODEL_e085e4eb9421417ea1789e430cf83355",
            "_model_module": "@jupyter-widgets/output"
          }
        },
        "fe531b5d99fb4df192ee7b6a1e451aea": {
          "model_module": "@jupyter-widgets/controls",
          "model_name": "DescriptionStyleModel",
          "state": {
            "_view_name": "StyleView",
            "_model_name": "DescriptionStyleModel",
            "description_width": "initial",
            "_view_module": "@jupyter-widgets/base",
            "_model_module_version": "1.5.0",
            "_view_count": null,
            "_view_module_version": "1.2.0",
            "_model_module": "@jupyter-widgets/controls"
          }
        },
        "cd36f0eb3c21427fa046b5492836beba": {
          "model_module": "@jupyter-widgets/base",
          "model_name": "LayoutModel",
          "state": {
            "_view_name": "LayoutView",
            "grid_template_rows": null,
            "right": null,
            "justify_content": null,
            "_view_module": "@jupyter-widgets/base",
            "overflow": null,
            "_model_module_version": "1.2.0",
            "_view_count": null,
            "flex_flow": null,
            "width": null,
            "min_width": null,
            "border": null,
            "align_items": null,
            "bottom": null,
            "_model_module": "@jupyter-widgets/base",
            "top": null,
            "grid_column": null,
            "overflow_y": null,
            "overflow_x": null,
            "grid_auto_flow": null,
            "grid_area": null,
            "grid_template_columns": null,
            "flex": null,
            "_model_name": "LayoutModel",
            "justify_items": null,
            "grid_row": null,
            "max_height": null,
            "align_content": null,
            "visibility": null,
            "align_self": null,
            "height": null,
            "min_height": null,
            "padding": null,
            "grid_auto_rows": null,
            "grid_gap": null,
            "max_width": null,
            "order": null,
            "_view_module_version": "1.2.0",
            "grid_template_areas": null,
            "object_position": null,
            "object_fit": null,
            "grid_auto_columns": null,
            "margin": null,
            "display": null,
            "left": null
          }
        },
        "9748f8cd9210485baed4fe9d63ecae3b": {
          "model_module": "@jupyter-widgets/controls",
          "model_name": "DescriptionStyleModel",
          "state": {
            "_view_name": "StyleView",
            "_model_name": "DescriptionStyleModel",
            "description_width": "initial",
            "_view_module": "@jupyter-widgets/base",
            "_model_module_version": "1.5.0",
            "_view_count": null,
            "_view_module_version": "1.2.0",
            "_model_module": "@jupyter-widgets/controls"
          }
        },
        "44873af9894c4e85901f9682a5066bc3": {
          "model_module": "@jupyter-widgets/base",
          "model_name": "LayoutModel",
          "state": {
            "_view_name": "LayoutView",
            "grid_template_rows": null,
            "right": null,
            "justify_content": null,
            "_view_module": "@jupyter-widgets/base",
            "overflow": null,
            "_model_module_version": "1.2.0",
            "_view_count": null,
            "flex_flow": null,
            "width": null,
            "min_width": null,
            "border": null,
            "align_items": null,
            "bottom": null,
            "_model_module": "@jupyter-widgets/base",
            "top": null,
            "grid_column": null,
            "overflow_y": null,
            "overflow_x": null,
            "grid_auto_flow": null,
            "grid_area": null,
            "grid_template_columns": null,
            "flex": null,
            "_model_name": "LayoutModel",
            "justify_items": null,
            "grid_row": null,
            "max_height": null,
            "align_content": null,
            "visibility": null,
            "align_self": null,
            "height": null,
            "min_height": null,
            "padding": null,
            "grid_auto_rows": null,
            "grid_gap": null,
            "max_width": null,
            "order": null,
            "_view_module_version": "1.2.0",
            "grid_template_areas": null,
            "object_position": null,
            "object_fit": null,
            "grid_auto_columns": null,
            "margin": null,
            "display": null,
            "left": null
          }
        },
        "9c504123f4dc4c2db1ec6b1efda3e7e0": {
          "model_module": "@jupyter-widgets/controls",
          "model_name": "DescriptionStyleModel",
          "state": {
            "_view_name": "StyleView",
            "_model_name": "DescriptionStyleModel",
            "description_width": "initial",
            "_view_module": "@jupyter-widgets/base",
            "_model_module_version": "1.5.0",
            "_view_count": null,
            "_view_module_version": "1.2.0",
            "_model_module": "@jupyter-widgets/controls"
          }
        },
        "7461d9da6cd945f6aa691f1a32594fb7": {
          "model_module": "@jupyter-widgets/base",
          "model_name": "LayoutModel",
          "state": {
            "_view_name": "LayoutView",
            "grid_template_rows": null,
            "right": null,
            "justify_content": null,
            "_view_module": "@jupyter-widgets/base",
            "overflow": null,
            "_model_module_version": "1.2.0",
            "_view_count": null,
            "flex_flow": null,
            "width": null,
            "min_width": null,
            "border": null,
            "align_items": null,
            "bottom": null,
            "_model_module": "@jupyter-widgets/base",
            "top": null,
            "grid_column": null,
            "overflow_y": null,
            "overflow_x": null,
            "grid_auto_flow": null,
            "grid_area": null,
            "grid_template_columns": null,
            "flex": null,
            "_model_name": "LayoutModel",
            "justify_items": null,
            "grid_row": null,
            "max_height": null,
            "align_content": null,
            "visibility": null,
            "align_self": null,
            "height": null,
            "min_height": null,
            "padding": null,
            "grid_auto_rows": null,
            "grid_gap": null,
            "max_width": null,
            "order": null,
            "_view_module_version": "1.2.0",
            "grid_template_areas": null,
            "object_position": null,
            "object_fit": null,
            "grid_auto_columns": null,
            "margin": null,
            "display": null,
            "left": null
          }
        },
        "e085e4eb9421417ea1789e430cf83355": {
          "model_module": "@jupyter-widgets/base",
          "model_name": "LayoutModel",
          "state": {
            "_view_name": "LayoutView",
            "grid_template_rows": null,
            "right": null,
            "justify_content": null,
            "_view_module": "@jupyter-widgets/base",
            "overflow": null,
            "_model_module_version": "1.2.0",
            "_view_count": null,
            "flex_flow": null,
            "width": null,
            "min_width": null,
            "border": null,
            "align_items": null,
            "bottom": null,
            "_model_module": "@jupyter-widgets/base",
            "top": null,
            "grid_column": null,
            "overflow_y": null,
            "overflow_x": null,
            "grid_auto_flow": null,
            "grid_area": null,
            "grid_template_columns": null,
            "flex": null,
            "_model_name": "LayoutModel",
            "justify_items": null,
            "grid_row": null,
            "max_height": null,
            "align_content": null,
            "visibility": null,
            "align_self": null,
            "height": null,
            "min_height": null,
            "padding": null,
            "grid_auto_rows": null,
            "grid_gap": null,
            "max_width": null,
            "order": null,
            "_view_module_version": "1.2.0",
            "grid_template_areas": null,
            "object_position": null,
            "object_fit": null,
            "grid_auto_columns": null,
            "margin": null,
            "display": null,
            "left": null
          }
        }
      }
    }
  },
  "cells": [
    {
      "cell_type": "markdown",
      "metadata": {
        "id": "view-in-github",
        "colab_type": "text"
      },
      "source": [
        "<a href=\"https://colab.research.google.com/github/isb-cgc/Community-Notebooks/blob/Staging-Notebooks/Staging-Notebooks/Exploring_COSMIC's_Cancer_Gene_Census_table.ipynb\" target=\"_parent\"><img src=\"https://colab.research.google.com/assets/colab-badge.svg\" alt=\"Open In Colab\"/></a>"
      ]
    },
    {
      "cell_type": "markdown",
      "metadata": {
        "id": "5xcPThAfMVfu",
        "colab_type": "text"
      },
      "source": [
        "# ISB-CGC Community Notebooks\n",
        "\n",
        "Check out more notebooks at our [Community Notebooks Repository](https://github.com/isb-cgc/Community-Notebooks)!\n",
        "\n",
        "```\n",
        "Title:   Exploring the COSMIC Cancer Gene Census\n",
        "Author:  Akshay Balaji\n",
        "Created: 2020-07-08\n",
        "Purpose: Understand the information stored in COSMIC's Cancer Gene Census dataset and ways it can be analyzed.\n",
        "URL:     **UPDATE WITH URL**\n",
        "Notes:   \n",
        "```\n",
        "***"
      ]
    },
    {
      "cell_type": "markdown",
      "metadata": {
        "id": "yY0QWdiUhmjd",
        "colab_type": "text"
      },
      "source": [
        "# **Exploring COSMIC's Cancer Gene Census table**\n",
        "\n",
        "This notebook introduces users to the `Cancer_Gene_Census` table within the COSMIC dataset in the ISB Cancer Genomics Cloud resource. \n",
        "\n",
        "Goals: \n",
        "* Understand the table's *schema* - its fields (columns) and the types of data they hold\n",
        "* Answer interesting questions about the data by performing analyses in SQL & Python \n",
        "* Produce visualizations of our analyses\n",
        "\n",
        "> *Note*: Because our cloud resource is often abbreviated to \"CGC\", we will avoid using such an abbreviation for the Cancer Gene Census, which is COSMIC's product. \n",
        "\n",
        "\n"
      ]
    },
    {
      "cell_type": "markdown",
      "metadata": {
        "id": "5a_qdnTHyd6p",
        "colab_type": "text"
      },
      "source": [
        "### Login to Google Cloud and create notebook client to BigQuery\n",
        "As usual, we'll start by authenticating ourselves in the Google Cloud. Then, we'll load the BigQuery API, import the Pandas library to work with dataframes, and create our client on the query-only project, `isb-cgc-02-0001`.\n",
        "\n"
      ]
    },
    {
      "cell_type": "code",
      "metadata": {
        "id": "_YnVlTlEfHny",
        "colab_type": "code",
        "colab": {
          "base_uri": "https://localhost:8080/",
          "height": 34
        },
        "outputId": "f87d52f3-33b7-4a95-d6c7-764c529fac8a"
      },
      "source": [
        "from google.colab import auth\n",
        "try:\n",
        "  auth.authenticate_user()\n",
        "  print('You have been successfully authenticated!')\n",
        "except:\n",
        "  print('You have not been authenticated.')"
      ],
      "execution_count": null,
      "outputs": [
        {
          "output_type": "stream",
          "text": [
            "You have been successfully authenticated!\n"
          ],
          "name": "stdout"
        }
      ]
    },
    {
      "cell_type": "code",
      "metadata": {
        "id": "QBTx7endNpo3",
        "colab_type": "code",
        "colab": {}
      },
      "source": [
        "from google.cloud import bigquery\n",
        "import pandas as pd\n",
        "from IPython.display import display, display_pretty\n",
        "\n",
        "client = bigquery.Client('isb-cgc-02-0001')"
      ],
      "execution_count": null,
      "outputs": []
    },
    {
      "cell_type": "markdown",
      "metadata": {
        "id": "NdwSTEB7sFCE",
        "colab_type": "text"
      },
      "source": [
        "## Viewing the Cancer Gene Census table schema\n",
        "Next, we'll introduce ourselves to the `Cancer_Gene_Census` table by taking a look at its **schema** -- information about the names and data types of its fields. To do this, we'll actually pull the table directly into Python using the BigQuery client function `get_table()`. Next, we'll obtain the field names and types from the `schema` attribute of the `table` object using Python's `lambda` and `map()` functions.\n",
        "> `lambda` creates a mini function of our own choosing using the format \n",
        "```\n",
        "lambda <INPUT>: <OUTPUT>\n",
        "```\n",
        "For example,\n",
        "```\n",
        "lambda str: len(str) \n",
        "```\n",
        "takes a string and outputs its length.\n",
        "\n",
        "> `map()` takes a function and applies it to a list of inputs using the format\n",
        "```\n",
        "map(<FUNCTION>, <LIST OF INPUTS>)\n",
        "```\n",
        "Building on the previous example,\n",
        "```\n",
        "map(lambda str: len(str), str_list[])\n",
        "```\n",
        "takes the string function we defined above and applies it to a list of strings, returning the lengths of every string in the list.\n",
        ">\n",
        "Similarly, we can apply a function that fetches name and field type to every element of the table schema, which consists of `field` objects:"
      ]
    },
    {
      "cell_type": "code",
      "metadata": {
        "id": "FtK74qOxPLdL",
        "colab_type": "code",
        "colab": {
          "base_uri": "https://localhost:8080/",
          "height": 255
        },
        "outputId": "c78ad868-1675-4acc-d12a-1bd44f0111a8"
      },
      "source": [
        "table_ref = 'isb-cgc.COSMIC_v91_grch38.Cancer_Gene_Census'\n",
        "table = client.get_table(table_ref)\n",
        "\n",
        "print('The current table is {}'.format(table.table_id))\n",
        "print('-------------------------------------')\n",
        "\n",
        "# investigate the table\n",
        "fieldNames = list(map(lambda tsf: tsf.name, table.schema))\n",
        "fieldTypes = list(map(lambda tsf: tsf.field_type, table.schema))\n",
        "\n",
        "view_num = 10 # view the first 10 fields of the table\n",
        "print(\"This table has {} fields. \".format(len(fieldNames)))\n",
        "print(\"The first {} field names and types are: \".format(view_num))\n",
        "for i in range(view_num):\n",
        "  print(\"{} - {}\".format(fieldNames[i], fieldTypes[i]))"
      ],
      "execution_count": null,
      "outputs": [
        {
          "output_type": "stream",
          "text": [
            "The current table is Cancer_Gene_Census\n",
            "-------------------------------------\n",
            "This table has 20 fields. \n",
            "The first 10 field names and types are: \n",
            "Gene_Symbol - STRING\n",
            "Name - STRING\n",
            "Entrez_GeneId - INTEGER\n",
            "Genome_Location - STRING\n",
            "Tier - INTEGER\n",
            "Hallmark - STRING\n",
            "Chr_Band - FLOAT\n",
            "Somatic - STRING\n",
            "Germline - STRING\n",
            "Tumour_Types_Somatic - STRING\n"
          ],
          "name": "stdout"
        }
      ]
    },
    {
      "cell_type": "markdown",
      "metadata": {
        "id": "5VoyrUa17Y4G",
        "colab_type": "text"
      },
      "source": [
        "## Investigating the tumor type column `Tumour_Types_Somatic`\n",
        "\n",
        "\n",
        "\n",
        "First, let's visualize the actual table data to see what the `Tumour_Types_Somatic` column looks like."
      ]
    },
    {
      "cell_type": "code",
      "metadata": {
        "id": "uvUXfzPo-FSp",
        "colab_type": "code",
        "colab": {
          "base_uri": "https://localhost:8080/",
          "height": 204
        },
        "outputId": "d262d672-1459-47dd-a4da-dcc8ff489510"
      },
      "source": [
        "%%bigquery --project isb-cgc-02-0001\n",
        "\n",
        "SELECT \n",
        "  Gene_Symbol,\n",
        "  Tumour_Types_Somatic\n",
        "FROM\n",
        "  `isb-cgc.COSMIC_v91_grch38.Cancer_Gene_Census`\n",
        "LIMIT 5;"
      ],
      "execution_count": null,
      "outputs": [
        {
          "output_type": "execute_result",
          "data": {
            "text/html": [
              "<div>\n",
              "<style scoped>\n",
              "    .dataframe tbody tr th:only-of-type {\n",
              "        vertical-align: middle;\n",
              "    }\n",
              "\n",
              "    .dataframe tbody tr th {\n",
              "        vertical-align: top;\n",
              "    }\n",
              "\n",
              "    .dataframe thead th {\n",
              "        text-align: right;\n",
              "    }\n",
              "</style>\n",
              "<table border=\"1\" class=\"dataframe\">\n",
              "  <thead>\n",
              "    <tr style=\"text-align: right;\">\n",
              "      <th></th>\n",
              "      <th>Gene_Symbol</th>\n",
              "      <th>Tumour_Types_Somatic</th>\n",
              "    </tr>\n",
              "  </thead>\n",
              "  <tbody>\n",
              "    <tr>\n",
              "      <th>0</th>\n",
              "      <td>ANK1</td>\n",
              "      <td>CCRCC</td>\n",
              "    </tr>\n",
              "    <tr>\n",
              "      <th>1</th>\n",
              "      <td>BCLAF1</td>\n",
              "      <td>melanoma, SCC</td>\n",
              "    </tr>\n",
              "    <tr>\n",
              "      <th>2</th>\n",
              "      <td>CD209</td>\n",
              "      <td>prostate carcinoma</td>\n",
              "    </tr>\n",
              "    <tr>\n",
              "      <th>3</th>\n",
              "      <td>CNBD1</td>\n",
              "      <td>gastric cancer, colon cancer</td>\n",
              "    </tr>\n",
              "    <tr>\n",
              "      <th>4</th>\n",
              "      <td>CRNKL1</td>\n",
              "      <td>base cell carcinoma</td>\n",
              "    </tr>\n",
              "  </tbody>\n",
              "</table>\n",
              "</div>"
            ],
            "text/plain": [
              "  Gene_Symbol          Tumour_Types_Somatic\n",
              "0        ANK1                         CCRCC\n",
              "1      BCLAF1                 melanoma, SCC\n",
              "2       CD209            prostate carcinoma\n",
              "3       CNBD1  gastric cancer, colon cancer\n",
              "4      CRNKL1           base cell carcinoma"
            ]
          },
          "metadata": {
            "tags": []
          },
          "execution_count": 5
        }
      ]
    },
    {
      "cell_type": "markdown",
      "metadata": {
        "id": "pvtGOkUMAD3P",
        "colab_type": "text"
      },
      "source": [
        "\n",
        "As we can see, each gene gets a single entry containing all of its somatic tumor associations. For example, the 5 rows above tell us that the gene BCLAF1 is associated with melanoma and SCC, squamous cell carcinoma."
      ]
    },
    {
      "cell_type": "markdown",
      "metadata": {
        "id": "_6ChCnp4F2ZW",
        "colab_type": "text"
      },
      "source": [
        "### Selecting all genes for a specific tumor type\n",
        "\n",
        "* Selecting for values *within* string data "
      ]
    },
    {
      "cell_type": "markdown",
      "metadata": {
        "id": "kkjmTBVa-zbE",
        "colab_type": "text"
      },
      "source": [
        "A basic first search might be to identify all the genes in the Cancer Gene Census that are associated with a specific tumor type. For example, if we wanted to know all the genes that have been linked to gliomas, we could view the table to see that gliomas are represented in the column as `'glioma'`, and search on that. The challenge is that in this table, like future tables you may encounter, the tumor associations for a single gene are all written out in a single table cell as one long string. How do we search for specifically `'glioma'` within each gene's string in SQL? The trick is to use SQL's `LIKE` operator, which can match strings within other strings using the `%` symbol as a wildcard for other characters.\n",
        "\n",
        "```\n",
        "WHERE string1 LIKE \"%pattern%\"\n",
        "```\n",
        "will identify all strings in the `string1` column which contain `pattern`, since the first `%` means that any characters can come before `pattern`, and the last `%` means that any characters can come after `pattern`.\n",
        "\n",
        "We have to be careful using this on `Tumour_Types_Somatic`, however, because some tumor types could be found in the names of other more specific tumor types. For example, there's SCC, and then there's *oral* SCC. If we do `\"%SCC%\"`, we'll match the oral SCC rows as well, which we don't want to do. So instead, we need to match for individual list entries, which will be delineated by either a following comma, if the type is at the end of the list, a leading space. We use this logic to produce the following query for `'glioma'`, and turn the tumor type into a variable so that users can simply change the variable name to search for other tumors. \n",
        "\n",
        "> Since we use a variable to represent the tumor type, we have to write the query as a string in Python and format the string afterwards, rather than writing a direct SQL script. \n",
        "\n"
      ]
    },
    {
      "cell_type": "code",
      "metadata": {
        "id": "S8zYaXQFWjSc",
        "colab_type": "code",
        "colab": {
          "base_uri": "https://localhost:8080/",
          "height": 275
        },
        "outputId": "90182d6a-de31-4635-c4c5-ed8c4a92a712"
      },
      "source": [
        "# Select all genes for a specific tumor type\n",
        "# Take user input for what kind of tumor type interested in\n",
        "\n",
        "from tabulate import tabulate # import tabulate for compact table output\n",
        "\n",
        "tumor_type = 'glioma' # this variable can be changed to the tumor type you want to search for!\n",
        "\n",
        "QUERY = '''\n",
        "    SELECT Gene_Symbol, Name \n",
        "    FROM `isb-cgc.COSMIC_v91_grch38.Cancer_Gene_Census` \n",
        "    WHERE Tumour_Types_Somatic LIKE \"% {}%\"\n",
        "    OR Tumour_Types_Somatic LIKE \"%{},%\" \n",
        "'''.format(tumor_type, tumor_type)\n",
        "\n",
        "df = client.query(QUERY).result().to_dataframe()\n",
        "\n",
        "print(tabulate(df.head(10), headers=\"keys\", tablefmt = 'simple'))\n",
        "print(\"\\n ({} more rows)\".format(df.size-10))"
      ],
      "execution_count": null,
      "outputs": [
        {
          "output_type": "stream",
          "text": [
            "    Gene_Symbol    Name\n",
            "--  -------------  --------------------------------------------------------------------------------------------------\n",
            " 0  APC            adenomatous polyposis of the colon gene\n",
            " 1  CDKN2C         cyclin-dependent kinase inhibitor 2C (p18, inhibits CDK4)\n",
            " 2  CNTNAP2        contactin associated protein like 2\n",
            " 3  KLF6           Kruppel-like factor 6\n",
            " 4  LARP4B         La ribonucleoprotein domain family member 4B\n",
            " 5  PRDM2          PR/SET domain 2\n",
            " 6  PTEN           phosphatase and tensin homolog gene\n",
            " 7  ARHGAP5        Rho GTPase activating protein 5\n",
            " 8  EGFR           epidermal growth factor receptor (erythroblastic leukemia viral (v-erb-b) oncogene homolog, avian)\n",
            " 9  MDM2           Mdm2 p53 binding protein homolog\n",
            "\n",
            " (24 more rows)\n"
          ],
          "name": "stdout"
        }
      ]
    },
    {
      "cell_type": "markdown",
      "metadata": {
        "id": "0CWLBZ3NF_r-",
        "colab_type": "text"
      },
      "source": [
        "This is nice, but you might have thought to yourself -- \"I wish I could see a list of all the tumor type options in the column so I'd know exactly what to search for!\" In other words, we wish that we could obtain a list of all the unique tumor types in the column, which leads us to our next section."
      ]
    },
    {
      "cell_type": "markdown",
      "metadata": {
        "id": "PYySdfavJRmr",
        "colab_type": "text"
      },
      "source": [
        "### Isolating the unique tumor types and counting their associations in the table\n",
        "\n",
        "* Splitting a list-like string entry into its individual items\n",
        "* Working with table entries that are arrays"
      ]
    },
    {
      "cell_type": "markdown",
      "metadata": {
        "id": "qR_8ngZT8J9r",
        "colab_type": "text"
      },
      "source": [
        "The significance of seeing the unique tumor types is not only logistical, it's clinical. When we isolate the tumor types, we should also be able to count the number of times they appear in the Cancer Gene Census -- in other words, count the number of associations they have to high-confidence cancer genes. This can give us an indication of **which kinds of tumors are most thoroughly linked to specific genetic causes thus far.**\n",
        "\n",
        "The fact that the tumor types are all listed out together in strings makes obtaining a unique set of them complicated. We can't simply use `GROUP BY` or even `DISTINCT()` on the column, because two entries like \"Melanoma, SCC\" and \"SCC, Melanoma\" will show up as different values, when in reality they both contain two tumor types: \"Melanoma\" and \"SCC\". Instead, we have split each string entry into the individual tumors, and then group on these.\n",
        "\n",
        "BigQuery SQL has two functions that can help us out here: [**`SPLIT()`**](https://cloud.google.com/bigquery/docs/reference/standard-sql/string_functions#split) and [**`UNNEST()`**](https://cloud.google.com/bigquery/docs/reference/standard-sql/query-syntax#unnest).\n",
        "\n",
        "> `SPLIT(string, delimiter)` will take a string and split it into an array of smaller strings, splitting by whatever character(s) you provide as the delimiter. For example, if you have a list `\"A, B, C\"`, you would want to use `\", \"` as your delimiter to obtain `[\"A\",\"B\",\"C\"]`. Using just `\",\"` with no space will result in `[\"A\",\" B\",\" C\"]`, which has those extra white spaces that we don't want.\n",
        "\n",
        "> `UNNEST(array)` will take an array and return a table containing one row for each element in the array. Thus, if a column `test` contains entries that are arrays of strings, running `UNNEST(test)` will return a table with one column containing every single string from every single array, each in its own row. \n",
        "\n",
        "So the idea here is that we run `SPLIT()` on the tumor type column, and then `UNNEST()` this column to obtain a single column with every individual tumor type listed in the Cancer Gene Census. From here, we can `GROUP BY` to obtain a unique set of all the tumor types, and in the process we can run `COUNT()` as well to get counts of how many times each tumor type appears, i.e. how many gene associations each tumor type has! This leads us to the following script:"
      ]
    },
    {
      "cell_type": "code",
      "metadata": {
        "id": "oWyRgM7PqDOI",
        "colab_type": "code",
        "colab": {}
      },
      "source": [
        "%%bigquery unique_tumor_types --project isb-cgc-02-0001\n",
        "\n",
        "-- Getting the unique somatic tumor types and the number of genes each is associated with\n",
        "-- the Tumor_Types_Somatic column\n",
        "\n",
        "WITH\n",
        "split_tb AS (\n",
        "  SELECT SPLIT(Tumour_Types_Somatic, \", \") AS tts # MUST have delimiter as \", \"\n",
        "  FROM `isb-cgc.COSMIC_v91_grch38.Cancer_Gene_Census` \n",
        ") \n",
        "# Even though we don't have a column named'tumor_type' yet, we're going to create it \n",
        "#   in the 'FROM' statement and select directly from it\n",
        "# To use UNNEST properly, we have to also select the data table that we're unnesting from\n",
        "SELECT tumor_type, COUNT(*) AS gene_count \n",
        "FROM split_tb, UNNEST(split_tb.tts) AS tumor_type\n",
        "GROUP BY tumor_type\n",
        "ORDER BY gene_count DESC; # order the table from most gene associations to least"
      ],
      "execution_count": null,
      "outputs": []
    },
    {
      "cell_type": "markdown",
      "metadata": {
        "id": "cYotybyiNrxu",
        "colab_type": "text"
      },
      "source": [
        "And now, we display the table of results with the option to view any number of rows you want:"
      ]
    },
    {
      "cell_type": "code",
      "metadata": {
        "id": "GEeV1opdTu-8",
        "colab_type": "code",
        "colab": {
          "base_uri": "https://localhost:8080/",
          "height": 340
        },
        "outputId": "eeb3c37d-f1b7-434c-9800-541d9b251a15"
      },
      "source": [
        "# Displaying the first 15 tumor types and their gene counts\n",
        "\n",
        "view_num = 15;  # set how many rows you want to view\n",
        "print(tabulate(unique_tumor_types.head(view_num), headers='keys', tablefmt='simple'))\n",
        "if len(unique_tumor_types) <= view_num: \n",
        "  print(\"\\n Showing all rows\")\n",
        "else:\n",
        "  print(\"\\n ({} more rows)\".format(len(unique_tumor_types.index) - view_num)) # display no. of unseen rows"
      ],
      "execution_count": null,
      "outputs": [
        {
          "output_type": "stream",
          "text": [
            "    tumor_type           gene_count\n",
            "--  -----------------  ------------\n",
            " 0  AML                          75\n",
            " 1  melanoma                     46\n",
            " 2  NSCLC                        36\n",
            " 3  colorectal                   30\n",
            " 4  T-ALL                        30\n",
            " 5  ALL                          26\n",
            " 6  breast                       24\n",
            " 7  prostate                     24\n",
            " 8  Spitzoid tumour              21\n",
            " 9  MDS                          20\n",
            "10  NHL                          20\n",
            "11  glioma                       19\n",
            "12  papillary thyroid            18\n",
            "13  CLL                          17\n",
            "14  DLBCL                        14\n",
            "\n",
            " (314 more rows)\n"
          ],
          "name": "stdout"
        }
      ]
    },
    {
      "cell_type": "markdown",
      "metadata": {
        "id": "0kNTIeFTN_mo",
        "colab_type": "text"
      },
      "source": [
        "And voila! We have now isolated the unique set of tumor types and have counts for their numbers of associations as well. We might want to plot this data to visualize how the gene associations are distributed across tumor types, leading us to our next section."
      ]
    },
    {
      "cell_type": "markdown",
      "metadata": {
        "id": "1P_p7doq8rg5",
        "colab_type": "text"
      },
      "source": [
        "### Visualizing the gene association counts for the different tumor types\n",
        "\n",
        "* Using Plotly to create a barplot from a Pandas dataframe"
      ]
    },
    {
      "cell_type": "markdown",
      "metadata": {
        "id": "FmJpvs9xOVdS",
        "colab_type": "text"
      },
      "source": [
        "This last step is fairly straightforward, in comparison to the last two sections. We can use the Plotly module `plotly.express` to create clean, beautiful barplot of our table of tumor type association results above."
      ]
    },
    {
      "cell_type": "code",
      "metadata": {
        "id": "DmADa4-MgE7m",
        "colab_type": "code",
        "colab": {
          "base_uri": "https://localhost:8080/",
          "height": 542
        },
        "outputId": "e0b2a372-fb3a-4c6f-ed14-dcbde8ba0ebe"
      },
      "source": [
        "# Plotting the above results as a bar plot, using Plotly\n",
        "import plotly.express as px # Plotly Express module within Plotly is good for \n",
        "\n",
        "view_num=15\n",
        "fig1 = px.bar(unique_tumor_types.head(view_num), x='tumor_type', y='gene_count', \n",
        "              labels={'tumor_type':'Tumor Type', 'gene_count':'Number of Genes'}, \n",
        "              text='gene_count')\n",
        "fig1.update_layout(title_text='Number of Gene Associations for Different Types of \\\n",
        "Tumors in the Cancer Gene Census') # title of the plot\n",
        "fig1.update_traces(marker_color='rgb(0, 92, 215)', marker_line_color='rgb(0, 92, 215)',\n",
        "                  marker_line_width=1.5, opacity=1)\n",
        "fig1.show() # command to display plot"
      ],
      "execution_count": null,
      "outputs": [
        {
          "output_type": "display_data",
          "data": {
            "text/html": [
              "<html>\n",
              "<head><meta charset=\"utf-8\" /></head>\n",
              "<body>\n",
              "    <div>\n",
              "            <script src=\"https://cdnjs.cloudflare.com/ajax/libs/mathjax/2.7.5/MathJax.js?config=TeX-AMS-MML_SVG\"></script><script type=\"text/javascript\">if (window.MathJax) {MathJax.Hub.Config({SVG: {font: \"STIX-Web\"}});}</script>\n",
              "                <script type=\"text/javascript\">window.PlotlyConfig = {MathJaxConfig: 'local'};</script>\n",
              "        <script src=\"https://cdn.plot.ly/plotly-latest.min.js\"></script>    \n",
              "            <div id=\"2ca61e70-7622-4f57-8b0b-c087dd3b403e\" class=\"plotly-graph-div\" style=\"height:525px; width:100%;\"></div>\n",
              "            <script type=\"text/javascript\">\n",
              "                \n",
              "                    window.PLOTLYENV=window.PLOTLYENV || {};\n",
              "                    \n",
              "                if (document.getElementById(\"2ca61e70-7622-4f57-8b0b-c087dd3b403e\")) {\n",
              "                    Plotly.newPlot(\n",
              "                        '2ca61e70-7622-4f57-8b0b-c087dd3b403e',\n",
              "                        [{\"alignmentgroup\": \"True\", \"hoverlabel\": {\"namelength\": 0}, \"hovertemplate\": \"Tumor Type=%{x}<br>Number of Genes=%{text}\", \"legendgroup\": \"\", \"marker\": {\"color\": \"rgb(0, 92, 215)\", \"line\": {\"color\": \"rgb(0, 92, 215)\", \"width\": 1.5}}, \"name\": \"\", \"offsetgroup\": \"\", \"opacity\": 1, \"orientation\": \"v\", \"showlegend\": false, \"text\": [75.0, 46.0, 36.0, 30.0, 30.0, 26.0, 24.0, 24.0, 21.0, 20.0, 20.0, 19.0, 18.0, 17.0, 14.0], \"textposition\": \"auto\", \"type\": \"bar\", \"x\": [\"AML\", \"melanoma\", \"NSCLC\", \"colorectal\", \"T-ALL\", \"ALL\", \"breast\", \"prostate\", \"Spitzoid tumour\", \"MDS\", \"NHL\", \"glioma\", \"papillary thyroid\", \"CLL\", \"DLBCL\"], \"xaxis\": \"x\", \"y\": [75, 46, 36, 30, 30, 26, 24, 24, 21, 20, 20, 19, 18, 17, 14], \"yaxis\": \"y\"}],\n",
              "                        {\"barmode\": \"relative\", \"legend\": {\"tracegroupgap\": 0}, \"margin\": {\"t\": 60}, \"template\": {\"data\": {\"bar\": [{\"error_x\": {\"color\": \"#2a3f5f\"}, \"error_y\": {\"color\": \"#2a3f5f\"}, \"marker\": {\"line\": {\"color\": \"#E5ECF6\", \"width\": 0.5}}, \"type\": \"bar\"}], \"barpolar\": [{\"marker\": {\"line\": {\"color\": \"#E5ECF6\", \"width\": 0.5}}, \"type\": \"barpolar\"}], \"carpet\": [{\"aaxis\": {\"endlinecolor\": \"#2a3f5f\", \"gridcolor\": \"white\", \"linecolor\": \"white\", \"minorgridcolor\": \"white\", \"startlinecolor\": \"#2a3f5f\"}, \"baxis\": {\"endlinecolor\": \"#2a3f5f\", \"gridcolor\": \"white\", \"linecolor\": \"white\", \"minorgridcolor\": \"white\", \"startlinecolor\": \"#2a3f5f\"}, \"type\": \"carpet\"}], \"choropleth\": [{\"colorbar\": {\"outlinewidth\": 0, \"ticks\": \"\"}, \"type\": \"choropleth\"}], \"contour\": [{\"colorbar\": {\"outlinewidth\": 0, \"ticks\": \"\"}, \"colorscale\": [[0.0, \"#0d0887\"], [0.1111111111111111, \"#46039f\"], [0.2222222222222222, \"#7201a8\"], [0.3333333333333333, \"#9c179e\"], [0.4444444444444444, \"#bd3786\"], [0.5555555555555556, \"#d8576b\"], [0.6666666666666666, \"#ed7953\"], [0.7777777777777778, \"#fb9f3a\"], [0.8888888888888888, \"#fdca26\"], [1.0, \"#f0f921\"]], \"type\": \"contour\"}], \"contourcarpet\": [{\"colorbar\": {\"outlinewidth\": 0, \"ticks\": \"\"}, \"type\": \"contourcarpet\"}], \"heatmap\": [{\"colorbar\": {\"outlinewidth\": 0, \"ticks\": \"\"}, \"colorscale\": [[0.0, \"#0d0887\"], [0.1111111111111111, \"#46039f\"], [0.2222222222222222, \"#7201a8\"], [0.3333333333333333, \"#9c179e\"], [0.4444444444444444, \"#bd3786\"], [0.5555555555555556, \"#d8576b\"], [0.6666666666666666, \"#ed7953\"], [0.7777777777777778, \"#fb9f3a\"], [0.8888888888888888, \"#fdca26\"], [1.0, \"#f0f921\"]], \"type\": \"heatmap\"}], \"heatmapgl\": [{\"colorbar\": {\"outlinewidth\": 0, \"ticks\": \"\"}, \"colorscale\": [[0.0, \"#0d0887\"], [0.1111111111111111, \"#46039f\"], [0.2222222222222222, \"#7201a8\"], [0.3333333333333333, \"#9c179e\"], [0.4444444444444444, \"#bd3786\"], [0.5555555555555556, \"#d8576b\"], [0.6666666666666666, \"#ed7953\"], [0.7777777777777778, \"#fb9f3a\"], [0.8888888888888888, \"#fdca26\"], [1.0, \"#f0f921\"]], \"type\": \"heatmapgl\"}], \"histogram\": [{\"marker\": {\"colorbar\": {\"outlinewidth\": 0, \"ticks\": \"\"}}, \"type\": \"histogram\"}], \"histogram2d\": [{\"colorbar\": {\"outlinewidth\": 0, \"ticks\": \"\"}, \"colorscale\": [[0.0, \"#0d0887\"], [0.1111111111111111, \"#46039f\"], [0.2222222222222222, \"#7201a8\"], [0.3333333333333333, \"#9c179e\"], [0.4444444444444444, \"#bd3786\"], [0.5555555555555556, \"#d8576b\"], [0.6666666666666666, \"#ed7953\"], [0.7777777777777778, \"#fb9f3a\"], [0.8888888888888888, \"#fdca26\"], [1.0, \"#f0f921\"]], \"type\": \"histogram2d\"}], \"histogram2dcontour\": [{\"colorbar\": {\"outlinewidth\": 0, \"ticks\": \"\"}, \"colorscale\": [[0.0, \"#0d0887\"], [0.1111111111111111, \"#46039f\"], [0.2222222222222222, \"#7201a8\"], [0.3333333333333333, \"#9c179e\"], [0.4444444444444444, \"#bd3786\"], [0.5555555555555556, \"#d8576b\"], [0.6666666666666666, \"#ed7953\"], [0.7777777777777778, \"#fb9f3a\"], [0.8888888888888888, \"#fdca26\"], [1.0, \"#f0f921\"]], \"type\": \"histogram2dcontour\"}], \"mesh3d\": [{\"colorbar\": {\"outlinewidth\": 0, \"ticks\": \"\"}, \"type\": \"mesh3d\"}], \"parcoords\": [{\"line\": {\"colorbar\": {\"outlinewidth\": 0, \"ticks\": \"\"}}, \"type\": \"parcoords\"}], \"pie\": [{\"automargin\": true, \"type\": \"pie\"}], \"scatter\": [{\"marker\": {\"colorbar\": {\"outlinewidth\": 0, \"ticks\": \"\"}}, \"type\": \"scatter\"}], \"scatter3d\": [{\"line\": {\"colorbar\": {\"outlinewidth\": 0, \"ticks\": \"\"}}, \"marker\": {\"colorbar\": {\"outlinewidth\": 0, \"ticks\": \"\"}}, \"type\": \"scatter3d\"}], \"scattercarpet\": [{\"marker\": {\"colorbar\": {\"outlinewidth\": 0, \"ticks\": \"\"}}, \"type\": \"scattercarpet\"}], \"scattergeo\": [{\"marker\": {\"colorbar\": {\"outlinewidth\": 0, \"ticks\": \"\"}}, \"type\": \"scattergeo\"}], \"scattergl\": [{\"marker\": {\"colorbar\": {\"outlinewidth\": 0, \"ticks\": \"\"}}, \"type\": \"scattergl\"}], \"scattermapbox\": [{\"marker\": {\"colorbar\": {\"outlinewidth\": 0, \"ticks\": \"\"}}, \"type\": \"scattermapbox\"}], \"scatterpolar\": [{\"marker\": {\"colorbar\": {\"outlinewidth\": 0, \"ticks\": \"\"}}, \"type\": \"scatterpolar\"}], \"scatterpolargl\": [{\"marker\": {\"colorbar\": {\"outlinewidth\": 0, \"ticks\": \"\"}}, \"type\": \"scatterpolargl\"}], \"scatterternary\": [{\"marker\": {\"colorbar\": {\"outlinewidth\": 0, \"ticks\": \"\"}}, \"type\": \"scatterternary\"}], \"surface\": [{\"colorbar\": {\"outlinewidth\": 0, \"ticks\": \"\"}, \"colorscale\": [[0.0, \"#0d0887\"], [0.1111111111111111, \"#46039f\"], [0.2222222222222222, \"#7201a8\"], [0.3333333333333333, \"#9c179e\"], [0.4444444444444444, \"#bd3786\"], [0.5555555555555556, \"#d8576b\"], [0.6666666666666666, \"#ed7953\"], [0.7777777777777778, \"#fb9f3a\"], [0.8888888888888888, \"#fdca26\"], [1.0, \"#f0f921\"]], \"type\": \"surface\"}], \"table\": [{\"cells\": {\"fill\": {\"color\": \"#EBF0F8\"}, \"line\": {\"color\": \"white\"}}, \"header\": {\"fill\": {\"color\": \"#C8D4E3\"}, \"line\": {\"color\": \"white\"}}, \"type\": \"table\"}]}, \"layout\": {\"annotationdefaults\": {\"arrowcolor\": \"#2a3f5f\", \"arrowhead\": 0, \"arrowwidth\": 1}, \"coloraxis\": {\"colorbar\": {\"outlinewidth\": 0, \"ticks\": \"\"}}, \"colorscale\": {\"diverging\": [[0, \"#8e0152\"], [0.1, \"#c51b7d\"], [0.2, \"#de77ae\"], [0.3, \"#f1b6da\"], [0.4, \"#fde0ef\"], [0.5, \"#f7f7f7\"], [0.6, \"#e6f5d0\"], [0.7, \"#b8e186\"], [0.8, \"#7fbc41\"], [0.9, \"#4d9221\"], [1, \"#276419\"]], \"sequential\": [[0.0, \"#0d0887\"], [0.1111111111111111, \"#46039f\"], [0.2222222222222222, \"#7201a8\"], [0.3333333333333333, \"#9c179e\"], [0.4444444444444444, \"#bd3786\"], [0.5555555555555556, \"#d8576b\"], [0.6666666666666666, \"#ed7953\"], [0.7777777777777778, \"#fb9f3a\"], [0.8888888888888888, \"#fdca26\"], [1.0, \"#f0f921\"]], \"sequentialminus\": [[0.0, \"#0d0887\"], [0.1111111111111111, \"#46039f\"], [0.2222222222222222, \"#7201a8\"], [0.3333333333333333, \"#9c179e\"], [0.4444444444444444, \"#bd3786\"], [0.5555555555555556, \"#d8576b\"], [0.6666666666666666, \"#ed7953\"], [0.7777777777777778, \"#fb9f3a\"], [0.8888888888888888, \"#fdca26\"], [1.0, \"#f0f921\"]]}, \"colorway\": [\"#636efa\", \"#EF553B\", \"#00cc96\", \"#ab63fa\", \"#FFA15A\", \"#19d3f3\", \"#FF6692\", \"#B6E880\", \"#FF97FF\", \"#FECB52\"], \"font\": {\"color\": \"#2a3f5f\"}, \"geo\": {\"bgcolor\": \"white\", \"lakecolor\": \"white\", \"landcolor\": \"#E5ECF6\", \"showlakes\": true, \"showland\": true, \"subunitcolor\": \"white\"}, \"hoverlabel\": {\"align\": \"left\"}, \"hovermode\": \"closest\", \"mapbox\": {\"style\": \"light\"}, \"paper_bgcolor\": \"white\", \"plot_bgcolor\": \"#E5ECF6\", \"polar\": {\"angularaxis\": {\"gridcolor\": \"white\", \"linecolor\": \"white\", \"ticks\": \"\"}, \"bgcolor\": \"#E5ECF6\", \"radialaxis\": {\"gridcolor\": \"white\", \"linecolor\": \"white\", \"ticks\": \"\"}}, \"scene\": {\"xaxis\": {\"backgroundcolor\": \"#E5ECF6\", \"gridcolor\": \"white\", \"gridwidth\": 2, \"linecolor\": \"white\", \"showbackground\": true, \"ticks\": \"\", \"zerolinecolor\": \"white\"}, \"yaxis\": {\"backgroundcolor\": \"#E5ECF6\", \"gridcolor\": \"white\", \"gridwidth\": 2, \"linecolor\": \"white\", \"showbackground\": true, \"ticks\": \"\", \"zerolinecolor\": \"white\"}, \"zaxis\": {\"backgroundcolor\": \"#E5ECF6\", \"gridcolor\": \"white\", \"gridwidth\": 2, \"linecolor\": \"white\", \"showbackground\": true, \"ticks\": \"\", \"zerolinecolor\": \"white\"}}, \"shapedefaults\": {\"line\": {\"color\": \"#2a3f5f\"}}, \"ternary\": {\"aaxis\": {\"gridcolor\": \"white\", \"linecolor\": \"white\", \"ticks\": \"\"}, \"baxis\": {\"gridcolor\": \"white\", \"linecolor\": \"white\", \"ticks\": \"\"}, \"bgcolor\": \"#E5ECF6\", \"caxis\": {\"gridcolor\": \"white\", \"linecolor\": \"white\", \"ticks\": \"\"}}, \"title\": {\"x\": 0.05}, \"xaxis\": {\"automargin\": true, \"gridcolor\": \"white\", \"linecolor\": \"white\", \"ticks\": \"\", \"title\": {\"standoff\": 15}, \"zerolinecolor\": \"white\", \"zerolinewidth\": 2}, \"yaxis\": {\"automargin\": true, \"gridcolor\": \"white\", \"linecolor\": \"white\", \"ticks\": \"\", \"title\": {\"standoff\": 15}, \"zerolinecolor\": \"white\", \"zerolinewidth\": 2}}}, \"title\": {\"text\": \"Number of Gene Associations for Different Types of Tumors in the Cancer Gene Census\"}, \"xaxis\": {\"anchor\": \"y\", \"domain\": [0.0, 1.0], \"title\": {\"text\": \"Tumor Type\"}}, \"yaxis\": {\"anchor\": \"x\", \"domain\": [0.0, 1.0], \"title\": {\"text\": \"Number of Genes\"}}},\n",
              "                        {\"responsive\": true}\n",
              "                    ).then(function(){\n",
              "                            \n",
              "var gd = document.getElementById('2ca61e70-7622-4f57-8b0b-c087dd3b403e');\n",
              "var x = new MutationObserver(function (mutations, observer) {{\n",
              "        var display = window.getComputedStyle(gd).display;\n",
              "        if (!display || display === 'none') {{\n",
              "            console.log([gd, 'removed!']);\n",
              "            Plotly.purge(gd);\n",
              "            observer.disconnect();\n",
              "        }}\n",
              "}});\n",
              "\n",
              "// Listen for the removal of the full notebook cells\n",
              "var notebookContainer = gd.closest('#notebook-container');\n",
              "if (notebookContainer) {{\n",
              "    x.observe(notebookContainer, {childList: true});\n",
              "}}\n",
              "\n",
              "// Listen for the clearing of the current output cell\n",
              "var outputEl = gd.closest('.output');\n",
              "if (outputEl) {{\n",
              "    x.observe(outputEl, {childList: true});\n",
              "}}\n",
              "\n",
              "                        })\n",
              "                };\n",
              "                \n",
              "            </script>\n",
              "        </div>\n",
              "</body>\n",
              "</html>"
            ]
          },
          "metadata": {
            "tags": []
          }
        }
      ]
    },
    {
      "cell_type": "markdown",
      "metadata": {
        "id": "lkjQIsydkcV8",
        "colab_type": "text"
      },
      "source": [
        "### Clinical Discussion\n",
        "\n",
        "The barplot above shows the 15 most associated types of tumors in the Cancer Gene Census. AML, *acute myeloid leukemias*, are the most associated by a significant margin. There's a steep drop until NSCLC, *non-squamous cell lung cancer*, and then a more gradual decline from there. This could possibly be due to the many kinds of acute myeloid leukemias that are known, allowing it more thoroughly researched and associated with genes. In addition, there's significant overlap between these top 15 tumor types and [this list of common cancer types](https://www.cancer.gov/types/common-cancers), as reported by the NCI. What this graph probably shows, then, is **how research resources are distributed across different kinds of tumors**. \n",
        "\n",
        "Some other tumors in the barplot:\n",
        "* T-ALL: T-cell acute lymphoblastic leukemia\n",
        "* ALL: Acute lymphoblastic leukemia\n",
        "* Spitzoid tumor: a type of rare skin growth that typically impacts young patients\n",
        "* MDS: Myelodysplastic syndrome, a form of bone marrow cancer\n",
        "* NHL: Non-Hodgkin lymphoma\n",
        "* CLL: Chronic lymphocytic leukemia\n",
        "* DLBCL: Diffuse large B-Cell lymphoma"
      ]
    },
    {
      "cell_type": "markdown",
      "metadata": {
        "id": "AedC6u2e86tE",
        "colab_type": "text"
      },
      "source": [
        "## Investigating the mutation type column `Mutation_Types`\n",
        "\n",
        "Like with the last exploration, let's first see what `Mutation_Types` actually looks like. \n"
      ]
    },
    {
      "cell_type": "code",
      "metadata": {
        "id": "g6qAAE3vSP2Z",
        "colab_type": "code",
        "colab": {
          "base_uri": "https://localhost:8080/",
          "height": 359
        },
        "outputId": "936d7bc5-9569-4ab2-86b7-d5c0e687004a"
      },
      "source": [
        "%%bigquery --project isb-cgc-02-0001\n",
        "\n",
        "SELECT \n",
        "  Gene_Symbol,\n",
        "  Mutation_Types\n",
        "FROM\n",
        "  `isb-cgc.COSMIC_v91_grch38.Cancer_Gene_Census`\n",
        "LIMIT 10;"
      ],
      "execution_count": null,
      "outputs": [
        {
          "output_type": "execute_result",
          "data": {
            "text/html": [
              "<div>\n",
              "<style scoped>\n",
              "    .dataframe tbody tr th:only-of-type {\n",
              "        vertical-align: middle;\n",
              "    }\n",
              "\n",
              "    .dataframe tbody tr th {\n",
              "        vertical-align: top;\n",
              "    }\n",
              "\n",
              "    .dataframe thead th {\n",
              "        text-align: right;\n",
              "    }\n",
              "</style>\n",
              "<table border=\"1\" class=\"dataframe\">\n",
              "  <thead>\n",
              "    <tr style=\"text-align: right;\">\n",
              "      <th></th>\n",
              "      <th>Gene_Symbol</th>\n",
              "      <th>Mutation_Types</th>\n",
              "    </tr>\n",
              "  </thead>\n",
              "  <tbody>\n",
              "    <tr>\n",
              "      <th>0</th>\n",
              "      <td>ANK1</td>\n",
              "      <td>Mis</td>\n",
              "    </tr>\n",
              "    <tr>\n",
              "      <th>1</th>\n",
              "      <td>BCLAF1</td>\n",
              "      <td>Mis</td>\n",
              "    </tr>\n",
              "    <tr>\n",
              "      <th>2</th>\n",
              "      <td>CD209</td>\n",
              "      <td>Mis</td>\n",
              "    </tr>\n",
              "    <tr>\n",
              "      <th>3</th>\n",
              "      <td>CNBD1</td>\n",
              "      <td>Mis</td>\n",
              "    </tr>\n",
              "    <tr>\n",
              "      <th>4</th>\n",
              "      <td>CRNKL1</td>\n",
              "      <td>Mis</td>\n",
              "    </tr>\n",
              "    <tr>\n",
              "      <th>5</th>\n",
              "      <td>CTNND1</td>\n",
              "      <td>N</td>\n",
              "    </tr>\n",
              "    <tr>\n",
              "      <th>6</th>\n",
              "      <td>DCC</td>\n",
              "      <td>Mis, N, D</td>\n",
              "    </tr>\n",
              "    <tr>\n",
              "      <th>7</th>\n",
              "      <td>ECT2L</td>\n",
              "      <td>N, S, Mis</td>\n",
              "    </tr>\n",
              "    <tr>\n",
              "      <th>8</th>\n",
              "      <td>EIF1AX</td>\n",
              "      <td>Mis, S</td>\n",
              "    </tr>\n",
              "    <tr>\n",
              "      <th>9</th>\n",
              "      <td>EPHA3</td>\n",
              "      <td>Mis</td>\n",
              "    </tr>\n",
              "  </tbody>\n",
              "</table>\n",
              "</div>"
            ],
            "text/plain": [
              "  Gene_Symbol Mutation_Types\n",
              "0        ANK1            Mis\n",
              "1      BCLAF1            Mis\n",
              "2       CD209            Mis\n",
              "3       CNBD1            Mis\n",
              "4      CRNKL1            Mis\n",
              "5      CTNND1              N\n",
              "6         DCC      Mis, N, D\n",
              "7       ECT2L      N, S, Mis\n",
              "8      EIF1AX         Mis, S\n",
              "9       EPHA3            Mis"
            ]
          },
          "metadata": {
            "tags": []
          },
          "execution_count": 10
        }
      ]
    },
    {
      "cell_type": "markdown",
      "metadata": {
        "id": "AtRQyz25Stpi",
        "colab_type": "text"
      },
      "source": [
        "As we can see, once again the mutation types associated with each gene are listed out as longer strings, so working with this data is going to be very similar to working with `Tumour_Types_Somatic`. The one catch is that `Mutation_Types` is not consistent in separating each of its mutations with `\", \"`, perhaps because of how the data was entered during the curation process. We have to still be able to deal with this data effectively, so we'll attempt to repeat the unique value analysis we did last time with this mutation datat."
      ]
    },
    {
      "cell_type": "markdown",
      "metadata": {
        "id": "X0yaYdGQQDr8",
        "colab_type": "text"
      },
      "source": [
        "### Isolating the unique mutation types and counting their associations in the table\n",
        "\n",
        "* Using **regular expressions** to split string lists"
      ]
    },
    {
      "cell_type": "markdown",
      "metadata": {
        "id": "bEQHa-PXY8M8",
        "colab_type": "text"
      },
      "source": [
        "We know the `Mutation_Types` data isn't consistent with its delimiters because in the creation of this notebook, we tried to perform the exact same analysis as we did with `Tumour_Types_Somatic`, and we failed. This is what happens: "
      ]
    },
    {
      "cell_type": "code",
      "metadata": {
        "id": "9ondhobCZewK",
        "colab_type": "code",
        "colab": {
          "base_uri": "https://localhost:8080/",
          "height": 607
        },
        "outputId": "8ba37cc8-5d33-4dfe-d55c-ab9270e01936"
      },
      "source": [
        "%%bigquery --project isb-cgc-02-0001\n",
        "\n",
        "WITH\n",
        "split_tb AS (\n",
        "  SELECT SPLIT(Mutation_Types, \", \") AS mt\n",
        "  FROM `isb-cgc.COSMIC_v91_grch38.Cancer_Gene_Census` \n",
        ") \n",
        "\n",
        "SELECT mutation_type, COUNT(*) AS gene_count \n",
        "FROM split_tb, UNNEST(split_tb.mt) AS mutation_type\n",
        "GROUP BY mutation_type\n",
        "ORDER BY gene_count DESC; "
      ],
      "execution_count": null,
      "outputs": [
        {
          "output_type": "execute_result",
          "data": {
            "text/html": [
              "<div>\n",
              "<style scoped>\n",
              "    .dataframe tbody tr th:only-of-type {\n",
              "        vertical-align: middle;\n",
              "    }\n",
              "\n",
              "    .dataframe tbody tr th {\n",
              "        vertical-align: top;\n",
              "    }\n",
              "\n",
              "    .dataframe thead th {\n",
              "        text-align: right;\n",
              "    }\n",
              "</style>\n",
              "<table border=\"1\" class=\"dataframe\">\n",
              "  <thead>\n",
              "    <tr style=\"text-align: right;\">\n",
              "      <th></th>\n",
              "      <th>mutation_type</th>\n",
              "      <th>gene_count</th>\n",
              "    </tr>\n",
              "  </thead>\n",
              "  <tbody>\n",
              "    <tr>\n",
              "      <th>0</th>\n",
              "      <td>T</td>\n",
              "      <td>359</td>\n",
              "    </tr>\n",
              "    <tr>\n",
              "      <th>1</th>\n",
              "      <td>Mis</td>\n",
              "      <td>315</td>\n",
              "    </tr>\n",
              "    <tr>\n",
              "      <th>2</th>\n",
              "      <td>F</td>\n",
              "      <td>174</td>\n",
              "    </tr>\n",
              "    <tr>\n",
              "      <th>3</th>\n",
              "      <td>N</td>\n",
              "      <td>172</td>\n",
              "    </tr>\n",
              "    <tr>\n",
              "      <th>4</th>\n",
              "      <td>S</td>\n",
              "      <td>76</td>\n",
              "    </tr>\n",
              "    <tr>\n",
              "      <th>5</th>\n",
              "      <td>D</td>\n",
              "      <td>60</td>\n",
              "    </tr>\n",
              "    <tr>\n",
              "      <th>6</th>\n",
              "      <td>O</td>\n",
              "      <td>41</td>\n",
              "    </tr>\n",
              "    <tr>\n",
              "      <th>7</th>\n",
              "      <td>A</td>\n",
              "      <td>26</td>\n",
              "    </tr>\n",
              "    <tr>\n",
              "      <th>8</th>\n",
              "      <td>M</td>\n",
              "      <td>3</td>\n",
              "    </tr>\n",
              "    <tr>\n",
              "      <th>9</th>\n",
              "      <td>O,N</td>\n",
              "      <td>1</td>\n",
              "    </tr>\n",
              "    <tr>\n",
              "      <th>10</th>\n",
              "      <td>F; Mis</td>\n",
              "      <td>1</td>\n",
              "    </tr>\n",
              "    <tr>\n",
              "      <th>11</th>\n",
              "      <td>Mis,O</td>\n",
              "      <td>1</td>\n",
              "    </tr>\n",
              "    <tr>\n",
              "      <th>12</th>\n",
              "      <td>N</td>\n",
              "      <td>1</td>\n",
              "    </tr>\n",
              "    <tr>\n",
              "      <th>13</th>\n",
              "      <td>D,T</td>\n",
              "      <td>1</td>\n",
              "    </tr>\n",
              "    <tr>\n",
              "      <th>14</th>\n",
              "      <td>N,F,S,Mis,O,T</td>\n",
              "      <td>1</td>\n",
              "    </tr>\n",
              "    <tr>\n",
              "      <th>15</th>\n",
              "      <td>Promoter Mis</td>\n",
              "      <td>1</td>\n",
              "    </tr>\n",
              "    <tr>\n",
              "      <th>16</th>\n",
              "      <td>S,T</td>\n",
              "      <td>1</td>\n",
              "    </tr>\n",
              "    <tr>\n",
              "      <th>17</th>\n",
              "      <td>Mis. N</td>\n",
              "      <td>1</td>\n",
              "    </tr>\n",
              "  </tbody>\n",
              "</table>\n",
              "</div>"
            ],
            "text/plain": [
              "    mutation_type  gene_count\n",
              "0               T         359\n",
              "1             Mis         315\n",
              "2               F         174\n",
              "3               N         172\n",
              "4               S          76\n",
              "5               D          60\n",
              "6               O          41\n",
              "7               A          26\n",
              "8               M           3\n",
              "9             O,N           1\n",
              "10         F; Mis           1\n",
              "11          Mis,O           1\n",
              "12              N           1\n",
              "13            D,T           1\n",
              "14  N,F,S,Mis,O,T           1\n",
              "15   Promoter Mis           1\n",
              "16            S,T           1\n",
              "17         Mis. N           1"
            ]
          },
          "metadata": {
            "tags": []
          },
          "execution_count": 11
        }
      ]
    },
    {
      "cell_type": "markdown",
      "metadata": {
        "id": "4f3OKUJbazqM",
        "colab_type": "text"
      },
      "source": [
        "You can see that some of the entries have been separated by `,` with no space, or `; `, or even `. `. What this means is we can't rely on using a delimiter to extract the individual mutation types. Instead, we have to select them using a more advanced string-matching technique: **regular expressions (regexes)**. Once you learn regexes, they're an incredibly powerful tool for working with strings. Until then, however, they can be quite confusing and frustrating. We don't want to turn this into a regex tutorial, but a great website to learn quickly and thoroughly about using regexes is [RegExr](https://regexr.com/), which allows you to even run regex code on your own text in real-time. It was even used to test the regex used in the script that you'll see shortly!\n",
        "\n",
        "BigQuery SQL has a function called `REGEXP_EXTRACT_ALL()` which allows you to search for specific strings within other strings, sans-delimiter.\n",
        "> `REGEXP_EXTRACT_ALL(string, regex)` takes a string and returns an array containing all the matches in that string to the regex.\n",
        "\n",
        "Hence, if we can write a regex that will identify specifically the mutation names, which are alphabetical, and leave out the separating characters between the names, which are non-alphabetical, then we can continue with our analysis successfully!\n",
        "\n",
        "The appropriate regex to extract just the words, i.e. the alphabetical parts, of a string is:\n",
        "```\n",
        "r'[A-Za-z]+'\n",
        "\n",
        "# r -- indicates that the regex string is raw, so every \n",
        "#   character is just that - a raw character\n",
        "# [] -- indicate that we're searching for characters \n",
        "#    meeting the criteria in the brackets\n",
        "# A-Za-z -- indicates that our criteria is any character \n",
        "#        that is alphabetical, uppercase or lowercase\n",
        "# + -- indicates we want to group several consecutive \n",
        "#   matches, i.e. letters, together into a single string \n",
        "#   to retrieve the whole word\n",
        "```\n",
        "So running `REGEXP_EXTRACT_ALL(Mutation_Types, r'[A-Za-z]+')`, will return the `Mutation_Types` column with every entry converted into an array of the individual mutations, just as `SPLIT()` did, and then we can perform the same `UNNEST()` function with a `GROUP BY` to get the unique values and their counts:"
      ]
    },
    {
      "cell_type": "code",
      "metadata": {
        "id": "1nnBCnWnCNlJ",
        "colab_type": "code",
        "colab": {}
      },
      "source": [
        "# Frequencies of mutation types + what these mutations mean (same thing like with tumor types)\n",
        "\n",
        "%%bigquery unique_mutation_types --project isb-cgc-02-0001\n",
        "WITH\n",
        "split_tb AS (\n",
        "  SELECT REGEXP_EXTRACT_ALL(Mutation_Types, r'[A-Za-z]+') AS mt \n",
        "  FROM `isb-cgc.COSMIC_v91_grch38.Cancer_Gene_Census` \n",
        ") \n",
        "SELECT mutation_type, COUNT(*) AS gene_count\n",
        "FROM split_tb, UNNEST(split_tb.mt) AS mutation_type\n",
        "GROUP BY mutation_type\n",
        "ORDER BY gene_count DESC;"
      ],
      "execution_count": null,
      "outputs": []
    },
    {
      "cell_type": "code",
      "metadata": {
        "id": "1hyJztmwh9b3",
        "colab_type": "code",
        "colab": {
          "base_uri": "https://localhost:8080/",
          "height": 255
        },
        "outputId": "4b738535-bccd-41c6-892c-b3c4bddfbdcd"
      },
      "source": [
        "view_num = 15;  # set how many rows you want to view\n",
        "print(tabulate(unique_mutation_types.head(view_num), headers='keys', tablefmt='simple'))\n",
        "if len(unique_mutation_types) <= view_num: \n",
        "  print(\"\\n Showing all rows\")\n",
        "else:\n",
        "  print(\"\\n ({} more rows)\".format(len(unique_mutation_types.index) - view_num))"
      ],
      "execution_count": null,
      "outputs": [
        {
          "output_type": "stream",
          "text": [
            "    mutation_type      gene_count\n",
            "--  ---------------  ------------\n",
            " 0  T                         362\n",
            " 1  Mis                       320\n",
            " 2  N                         176\n",
            " 3  F                         176\n",
            " 4  S                          78\n",
            " 5  D                          61\n",
            " 6  O                          44\n",
            " 7  A                          26\n",
            " 8  M                           3\n",
            " 9  Promoter                    1\n",
            "\n",
            " Showing all rows\n"
          ],
          "name": "stdout"
        }
      ]
    },
    {
      "cell_type": "markdown",
      "metadata": {
        "id": "I5y4UqBniuRY",
        "colab_type": "text"
      },
      "source": [
        "There we go! We've successfully dealt with the inconsistencies in the database, which may be useful for future data you work with, especially if it is manually curated and naturally prone to some human error. The next step is to visualize the results."
      ]
    },
    {
      "cell_type": "markdown",
      "metadata": {
        "id": "7KlaUYUHjLxp",
        "colab_type": "text"
      },
      "source": [
        "### Visualizing the gene association counts for the different mutation types"
      ]
    },
    {
      "cell_type": "code",
      "metadata": {
        "id": "zWmYxxNocFIV",
        "colab_type": "code",
        "colab": {
          "base_uri": "https://localhost:8080/",
          "height": 559
        },
        "outputId": "30d69df5-4257-47c6-c7ee-35c44d778826"
      },
      "source": [
        "view_num=15\n",
        "if view_num > len(unique_mutation_types.index):\n",
        "  print(\"Fewer than {} categories; showing all\".format(view_num))\n",
        "\n",
        "fig2 = px.bar(unique_mutation_types.head(view_num), x='mutation_type', y='gene_count', \n",
        "              labels={'mutation_type':'Mutation Type', 'gene_count':'Number of Genes'}, \n",
        "              text='gene_count')\n",
        "fig2.update_layout(title_text='Number of Gene Associations for Each Mutation Type in the Cancer Gene Census') # title of the plot\n",
        "fig2.update_traces(marker_color='rgb(0, 92, 215)', marker_line_color='rgb(0, 92, 215)',\n",
        "                  marker_line_width=1.5, opacity=1)\n",
        "fig2.show() # command to display plot"
      ],
      "execution_count": null,
      "outputs": [
        {
          "output_type": "stream",
          "text": [
            "Fewer than 15 categories; showing all\n"
          ],
          "name": "stdout"
        },
        {
          "output_type": "display_data",
          "data": {
            "text/html": [
              "<html>\n",
              "<head><meta charset=\"utf-8\" /></head>\n",
              "<body>\n",
              "    <div>\n",
              "            <script src=\"https://cdnjs.cloudflare.com/ajax/libs/mathjax/2.7.5/MathJax.js?config=TeX-AMS-MML_SVG\"></script><script type=\"text/javascript\">if (window.MathJax) {MathJax.Hub.Config({SVG: {font: \"STIX-Web\"}});}</script>\n",
              "                <script type=\"text/javascript\">window.PlotlyConfig = {MathJaxConfig: 'local'};</script>\n",
              "        <script src=\"https://cdn.plot.ly/plotly-latest.min.js\"></script>    \n",
              "            <div id=\"0d48f532-6847-4f91-ba62-2c7f362ee0c0\" class=\"plotly-graph-div\" style=\"height:525px; width:100%;\"></div>\n",
              "            <script type=\"text/javascript\">\n",
              "                \n",
              "                    window.PLOTLYENV=window.PLOTLYENV || {};\n",
              "                    \n",
              "                if (document.getElementById(\"0d48f532-6847-4f91-ba62-2c7f362ee0c0\")) {\n",
              "                    Plotly.newPlot(\n",
              "                        '0d48f532-6847-4f91-ba62-2c7f362ee0c0',\n",
              "                        [{\"alignmentgroup\": \"True\", \"hoverlabel\": {\"namelength\": 0}, \"hovertemplate\": \"Mutation Type=%{x}<br>Number of Genes=%{text}\", \"legendgroup\": \"\", \"marker\": {\"color\": \"rgb(0, 92, 215)\", \"line\": {\"color\": \"rgb(0, 92, 215)\", \"width\": 1.5}}, \"name\": \"\", \"offsetgroup\": \"\", \"opacity\": 1, \"orientation\": \"v\", \"showlegend\": false, \"text\": [362.0, 320.0, 176.0, 176.0, 78.0, 61.0, 44.0, 26.0, 3.0, 1.0], \"textposition\": \"auto\", \"type\": \"bar\", \"x\": [\"T\", \"Mis\", \"N\", \"F\", \"S\", \"D\", \"O\", \"A\", \"M\", \"Promoter\"], \"xaxis\": \"x\", \"y\": [362, 320, 176, 176, 78, 61, 44, 26, 3, 1], \"yaxis\": \"y\"}],\n",
              "                        {\"barmode\": \"relative\", \"legend\": {\"tracegroupgap\": 0}, \"margin\": {\"t\": 60}, \"template\": {\"data\": {\"bar\": [{\"error_x\": {\"color\": \"#2a3f5f\"}, \"error_y\": {\"color\": \"#2a3f5f\"}, \"marker\": {\"line\": {\"color\": \"#E5ECF6\", \"width\": 0.5}}, \"type\": \"bar\"}], \"barpolar\": [{\"marker\": {\"line\": {\"color\": \"#E5ECF6\", \"width\": 0.5}}, \"type\": \"barpolar\"}], \"carpet\": [{\"aaxis\": {\"endlinecolor\": \"#2a3f5f\", \"gridcolor\": \"white\", \"linecolor\": \"white\", \"minorgridcolor\": \"white\", \"startlinecolor\": \"#2a3f5f\"}, \"baxis\": {\"endlinecolor\": \"#2a3f5f\", \"gridcolor\": \"white\", \"linecolor\": \"white\", \"minorgridcolor\": \"white\", \"startlinecolor\": \"#2a3f5f\"}, \"type\": \"carpet\"}], \"choropleth\": [{\"colorbar\": {\"outlinewidth\": 0, \"ticks\": \"\"}, \"type\": \"choropleth\"}], \"contour\": [{\"colorbar\": {\"outlinewidth\": 0, \"ticks\": \"\"}, \"colorscale\": [[0.0, \"#0d0887\"], [0.1111111111111111, \"#46039f\"], [0.2222222222222222, \"#7201a8\"], [0.3333333333333333, \"#9c179e\"], [0.4444444444444444, \"#bd3786\"], [0.5555555555555556, \"#d8576b\"], [0.6666666666666666, \"#ed7953\"], [0.7777777777777778, \"#fb9f3a\"], [0.8888888888888888, \"#fdca26\"], [1.0, \"#f0f921\"]], \"type\": \"contour\"}], \"contourcarpet\": [{\"colorbar\": {\"outlinewidth\": 0, \"ticks\": \"\"}, \"type\": \"contourcarpet\"}], \"heatmap\": [{\"colorbar\": {\"outlinewidth\": 0, \"ticks\": \"\"}, \"colorscale\": [[0.0, \"#0d0887\"], [0.1111111111111111, \"#46039f\"], [0.2222222222222222, \"#7201a8\"], [0.3333333333333333, \"#9c179e\"], [0.4444444444444444, \"#bd3786\"], [0.5555555555555556, \"#d8576b\"], [0.6666666666666666, \"#ed7953\"], [0.7777777777777778, \"#fb9f3a\"], [0.8888888888888888, \"#fdca26\"], [1.0, \"#f0f921\"]], \"type\": \"heatmap\"}], \"heatmapgl\": [{\"colorbar\": {\"outlinewidth\": 0, \"ticks\": \"\"}, \"colorscale\": [[0.0, \"#0d0887\"], [0.1111111111111111, \"#46039f\"], [0.2222222222222222, \"#7201a8\"], [0.3333333333333333, \"#9c179e\"], [0.4444444444444444, \"#bd3786\"], [0.5555555555555556, \"#d8576b\"], [0.6666666666666666, \"#ed7953\"], [0.7777777777777778, \"#fb9f3a\"], [0.8888888888888888, \"#fdca26\"], [1.0, \"#f0f921\"]], \"type\": \"heatmapgl\"}], \"histogram\": [{\"marker\": {\"colorbar\": {\"outlinewidth\": 0, \"ticks\": \"\"}}, \"type\": \"histogram\"}], \"histogram2d\": [{\"colorbar\": {\"outlinewidth\": 0, \"ticks\": \"\"}, \"colorscale\": [[0.0, \"#0d0887\"], [0.1111111111111111, \"#46039f\"], [0.2222222222222222, \"#7201a8\"], [0.3333333333333333, \"#9c179e\"], [0.4444444444444444, \"#bd3786\"], [0.5555555555555556, \"#d8576b\"], [0.6666666666666666, \"#ed7953\"], [0.7777777777777778, \"#fb9f3a\"], [0.8888888888888888, \"#fdca26\"], [1.0, \"#f0f921\"]], \"type\": \"histogram2d\"}], \"histogram2dcontour\": [{\"colorbar\": {\"outlinewidth\": 0, \"ticks\": \"\"}, \"colorscale\": [[0.0, \"#0d0887\"], [0.1111111111111111, \"#46039f\"], [0.2222222222222222, \"#7201a8\"], [0.3333333333333333, \"#9c179e\"], [0.4444444444444444, \"#bd3786\"], [0.5555555555555556, \"#d8576b\"], [0.6666666666666666, \"#ed7953\"], [0.7777777777777778, \"#fb9f3a\"], [0.8888888888888888, \"#fdca26\"], [1.0, \"#f0f921\"]], \"type\": \"histogram2dcontour\"}], \"mesh3d\": [{\"colorbar\": {\"outlinewidth\": 0, \"ticks\": \"\"}, \"type\": \"mesh3d\"}], \"parcoords\": [{\"line\": {\"colorbar\": {\"outlinewidth\": 0, \"ticks\": \"\"}}, \"type\": \"parcoords\"}], \"pie\": [{\"automargin\": true, \"type\": \"pie\"}], \"scatter\": [{\"marker\": {\"colorbar\": {\"outlinewidth\": 0, \"ticks\": \"\"}}, \"type\": \"scatter\"}], \"scatter3d\": [{\"line\": {\"colorbar\": {\"outlinewidth\": 0, \"ticks\": \"\"}}, \"marker\": {\"colorbar\": {\"outlinewidth\": 0, \"ticks\": \"\"}}, \"type\": \"scatter3d\"}], \"scattercarpet\": [{\"marker\": {\"colorbar\": {\"outlinewidth\": 0, \"ticks\": \"\"}}, \"type\": \"scattercarpet\"}], \"scattergeo\": [{\"marker\": {\"colorbar\": {\"outlinewidth\": 0, \"ticks\": \"\"}}, \"type\": \"scattergeo\"}], \"scattergl\": [{\"marker\": {\"colorbar\": {\"outlinewidth\": 0, \"ticks\": \"\"}}, \"type\": \"scattergl\"}], \"scattermapbox\": [{\"marker\": {\"colorbar\": {\"outlinewidth\": 0, \"ticks\": \"\"}}, \"type\": \"scattermapbox\"}], \"scatterpolar\": [{\"marker\": {\"colorbar\": {\"outlinewidth\": 0, \"ticks\": \"\"}}, \"type\": \"scatterpolar\"}], \"scatterpolargl\": [{\"marker\": {\"colorbar\": {\"outlinewidth\": 0, \"ticks\": \"\"}}, \"type\": \"scatterpolargl\"}], \"scatterternary\": [{\"marker\": {\"colorbar\": {\"outlinewidth\": 0, \"ticks\": \"\"}}, \"type\": \"scatterternary\"}], \"surface\": [{\"colorbar\": {\"outlinewidth\": 0, \"ticks\": \"\"}, \"colorscale\": [[0.0, \"#0d0887\"], [0.1111111111111111, \"#46039f\"], [0.2222222222222222, \"#7201a8\"], [0.3333333333333333, \"#9c179e\"], [0.4444444444444444, \"#bd3786\"], [0.5555555555555556, \"#d8576b\"], [0.6666666666666666, \"#ed7953\"], [0.7777777777777778, \"#fb9f3a\"], [0.8888888888888888, \"#fdca26\"], [1.0, \"#f0f921\"]], \"type\": \"surface\"}], \"table\": [{\"cells\": {\"fill\": {\"color\": \"#EBF0F8\"}, \"line\": {\"color\": \"white\"}}, \"header\": {\"fill\": {\"color\": \"#C8D4E3\"}, \"line\": {\"color\": \"white\"}}, \"type\": \"table\"}]}, \"layout\": {\"annotationdefaults\": {\"arrowcolor\": \"#2a3f5f\", \"arrowhead\": 0, \"arrowwidth\": 1}, \"coloraxis\": {\"colorbar\": {\"outlinewidth\": 0, \"ticks\": \"\"}}, \"colorscale\": {\"diverging\": [[0, \"#8e0152\"], [0.1, \"#c51b7d\"], [0.2, \"#de77ae\"], [0.3, \"#f1b6da\"], [0.4, \"#fde0ef\"], [0.5, \"#f7f7f7\"], [0.6, \"#e6f5d0\"], [0.7, \"#b8e186\"], [0.8, \"#7fbc41\"], [0.9, \"#4d9221\"], [1, \"#276419\"]], \"sequential\": [[0.0, \"#0d0887\"], [0.1111111111111111, \"#46039f\"], [0.2222222222222222, \"#7201a8\"], [0.3333333333333333, \"#9c179e\"], [0.4444444444444444, \"#bd3786\"], [0.5555555555555556, \"#d8576b\"], [0.6666666666666666, \"#ed7953\"], [0.7777777777777778, \"#fb9f3a\"], [0.8888888888888888, \"#fdca26\"], [1.0, \"#f0f921\"]], \"sequentialminus\": [[0.0, \"#0d0887\"], [0.1111111111111111, \"#46039f\"], [0.2222222222222222, \"#7201a8\"], [0.3333333333333333, \"#9c179e\"], [0.4444444444444444, \"#bd3786\"], [0.5555555555555556, \"#d8576b\"], [0.6666666666666666, \"#ed7953\"], [0.7777777777777778, \"#fb9f3a\"], [0.8888888888888888, \"#fdca26\"], [1.0, \"#f0f921\"]]}, \"colorway\": [\"#636efa\", \"#EF553B\", \"#00cc96\", \"#ab63fa\", \"#FFA15A\", \"#19d3f3\", \"#FF6692\", \"#B6E880\", \"#FF97FF\", \"#FECB52\"], \"font\": {\"color\": \"#2a3f5f\"}, \"geo\": {\"bgcolor\": \"white\", \"lakecolor\": \"white\", \"landcolor\": \"#E5ECF6\", \"showlakes\": true, \"showland\": true, \"subunitcolor\": \"white\"}, \"hoverlabel\": {\"align\": \"left\"}, \"hovermode\": \"closest\", \"mapbox\": {\"style\": \"light\"}, \"paper_bgcolor\": \"white\", \"plot_bgcolor\": \"#E5ECF6\", \"polar\": {\"angularaxis\": {\"gridcolor\": \"white\", \"linecolor\": \"white\", \"ticks\": \"\"}, \"bgcolor\": \"#E5ECF6\", \"radialaxis\": {\"gridcolor\": \"white\", \"linecolor\": \"white\", \"ticks\": \"\"}}, \"scene\": {\"xaxis\": {\"backgroundcolor\": \"#E5ECF6\", \"gridcolor\": \"white\", \"gridwidth\": 2, \"linecolor\": \"white\", \"showbackground\": true, \"ticks\": \"\", \"zerolinecolor\": \"white\"}, \"yaxis\": {\"backgroundcolor\": \"#E5ECF6\", \"gridcolor\": \"white\", \"gridwidth\": 2, \"linecolor\": \"white\", \"showbackground\": true, \"ticks\": \"\", \"zerolinecolor\": \"white\"}, \"zaxis\": {\"backgroundcolor\": \"#E5ECF6\", \"gridcolor\": \"white\", \"gridwidth\": 2, \"linecolor\": \"white\", \"showbackground\": true, \"ticks\": \"\", \"zerolinecolor\": \"white\"}}, \"shapedefaults\": {\"line\": {\"color\": \"#2a3f5f\"}}, \"ternary\": {\"aaxis\": {\"gridcolor\": \"white\", \"linecolor\": \"white\", \"ticks\": \"\"}, \"baxis\": {\"gridcolor\": \"white\", \"linecolor\": \"white\", \"ticks\": \"\"}, \"bgcolor\": \"#E5ECF6\", \"caxis\": {\"gridcolor\": \"white\", \"linecolor\": \"white\", \"ticks\": \"\"}}, \"title\": {\"x\": 0.05}, \"xaxis\": {\"automargin\": true, \"gridcolor\": \"white\", \"linecolor\": \"white\", \"ticks\": \"\", \"title\": {\"standoff\": 15}, \"zerolinecolor\": \"white\", \"zerolinewidth\": 2}, \"yaxis\": {\"automargin\": true, \"gridcolor\": \"white\", \"linecolor\": \"white\", \"ticks\": \"\", \"title\": {\"standoff\": 15}, \"zerolinecolor\": \"white\", \"zerolinewidth\": 2}}}, \"title\": {\"text\": \"Number of Gene Associations for Each Mutation Type in the Cancer Gene Census\"}, \"xaxis\": {\"anchor\": \"y\", \"domain\": [0.0, 1.0], \"title\": {\"text\": \"Mutation Type\"}}, \"yaxis\": {\"anchor\": \"x\", \"domain\": [0.0, 1.0], \"title\": {\"text\": \"Number of Genes\"}}},\n",
              "                        {\"responsive\": true}\n",
              "                    ).then(function(){\n",
              "                            \n",
              "var gd = document.getElementById('0d48f532-6847-4f91-ba62-2c7f362ee0c0');\n",
              "var x = new MutationObserver(function (mutations, observer) {{\n",
              "        var display = window.getComputedStyle(gd).display;\n",
              "        if (!display || display === 'none') {{\n",
              "            console.log([gd, 'removed!']);\n",
              "            Plotly.purge(gd);\n",
              "            observer.disconnect();\n",
              "        }}\n",
              "}});\n",
              "\n",
              "// Listen for the removal of the full notebook cells\n",
              "var notebookContainer = gd.closest('#notebook-container');\n",
              "if (notebookContainer) {{\n",
              "    x.observe(notebookContainer, {childList: true});\n",
              "}}\n",
              "\n",
              "// Listen for the clearing of the current output cell\n",
              "var outputEl = gd.closest('.output');\n",
              "if (outputEl) {{\n",
              "    x.observe(outputEl, {childList: true});\n",
              "}}\n",
              "\n",
              "                        })\n",
              "                };\n",
              "                \n",
              "            </script>\n",
              "        </div>\n",
              "</body>\n",
              "</html>"
            ]
          },
          "metadata": {
            "tags": []
          }
        }
      ]
    },
    {
      "cell_type": "markdown",
      "metadata": {
        "id": "aOkGZaIYjQ8_",
        "colab_type": "text"
      },
      "source": [
        "### Clinical Discussion\n",
        "\n",
        "Before discussing the clinical implications of the plot above, it would probably be helpful to know what each of these mutation abbreviations means! \n",
        "\n",
        ">Abbreviation | Mutation Type\n",
        ">--- | ---\n",
        ">T | Translocation\n",
        ">Mis | Missense\n",
        ">N | Nonsense\n",
        ">F | Frameshift\n",
        ">S | Splice site\n",
        ">D | *Large* deletion\n",
        ">O | Other\n",
        ">A | Amplification\n",
        ">M | Mesenchymal\n",
        ">(Promoter) | Mutation in promoter site\n",
        "\n",
        "The large number of missense mutations might be expected, since those are the most likely deleterious mutation to occur. However, it's interesting that so many of the genes also have been observed to have translocation mutations causing certain cancers, and perhaps this makes sense, since translocation mutations move entire sections of DNA around and thus tend to be quite serious. \n",
        "\n",
        "> For further reference, COSMIC's documentation explains all of its acronyms [here](https://cancer.sanger.ac.uk/cosmic/help/census#abbrev). \n",
        "\n",
        "The presence of 3 \"mesenchymal\" mutations is surprising, since that's not a typical mutation classification. After checking the COSMIC `Mutant` table, we found that the census genes which had these mesenchymal mutations -- CBLC, PRF1, and SDHAF2 -- actually had a majority missense mutations but no documented mesenchymal ones, meaning that the \"M\" could have been an accidental mistypying of \"Mis\". Hence, it's useful to know how to identify a gene's specific mutations recorded in COSMIC, a skill we'll go over in our notebook about the `Mutant` data table!\n",
        "\n",
        "\n",
        "\n",
        "\n",
        "\n"
      ]
    },
    {
      "cell_type": "markdown",
      "metadata": {
        "id": "3oBzgWXLm7up",
        "colab_type": "text"
      },
      "source": [
        "## Filtering census genes by location using the `Genome_Location` column\n",
        "\n",
        "> *Note*: This skill is explained in much more detail in the \"Working with Genomic Coordinates\" notebook!\n",
        "\n",
        "As always, let's first see what `Genome_Location` looks like. "
      ]
    },
    {
      "cell_type": "code",
      "metadata": {
        "id": "gTGgLgeGatZN",
        "colab_type": "code",
        "colab": {
          "base_uri": "https://localhost:8080/",
          "height": 204
        },
        "outputId": "c379b280-5dc9-4647-f45c-bf0e7daec744"
      },
      "source": [
        "%%bigquery --project isb-cgc-02-0001\n",
        "\n",
        "SELECT\n",
        "  Gene_Symbol,\n",
        "  Genome_Location\n",
        "FROM\n",
        "  `isb-cgc.COSMIC_v91_grch38.Cancer_Gene_Census`\n",
        "LIMIT\n",
        "  5;"
      ],
      "execution_count": null,
      "outputs": [
        {
          "output_type": "execute_result",
          "data": {
            "text/html": [
              "<div>\n",
              "<style scoped>\n",
              "    .dataframe tbody tr th:only-of-type {\n",
              "        vertical-align: middle;\n",
              "    }\n",
              "\n",
              "    .dataframe tbody tr th {\n",
              "        vertical-align: top;\n",
              "    }\n",
              "\n",
              "    .dataframe thead th {\n",
              "        text-align: right;\n",
              "    }\n",
              "</style>\n",
              "<table border=\"1\" class=\"dataframe\">\n",
              "  <thead>\n",
              "    <tr style=\"text-align: right;\">\n",
              "      <th></th>\n",
              "      <th>Gene_Symbol</th>\n",
              "      <th>Genome_Location</th>\n",
              "    </tr>\n",
              "  </thead>\n",
              "  <tbody>\n",
              "    <tr>\n",
              "      <th>0</th>\n",
              "      <td>ANK1</td>\n",
              "      <td>8:41653225-41896762</td>\n",
              "    </tr>\n",
              "    <tr>\n",
              "      <th>1</th>\n",
              "      <td>BCLAF1</td>\n",
              "      <td>6:136256863-136289851</td>\n",
              "    </tr>\n",
              "    <tr>\n",
              "      <th>2</th>\n",
              "      <td>CD209</td>\n",
              "      <td>19:7739994-7747534</td>\n",
              "    </tr>\n",
              "    <tr>\n",
              "      <th>3</th>\n",
              "      <td>CNBD1</td>\n",
              "      <td>8:86866445-87382859</td>\n",
              "    </tr>\n",
              "    <tr>\n",
              "      <th>4</th>\n",
              "      <td>CRNKL1</td>\n",
              "      <td>20:20034368-20056046</td>\n",
              "    </tr>\n",
              "  </tbody>\n",
              "</table>\n",
              "</div>"
            ],
            "text/plain": [
              "  Gene_Symbol        Genome_Location\n",
              "0        ANK1    8:41653225-41896762\n",
              "1      BCLAF1  6:136256863-136289851\n",
              "2       CD209     19:7739994-7747534\n",
              "3       CNBD1    8:86866445-87382859\n",
              "4      CRNKL1   20:20034368-20056046"
            ]
          },
          "metadata": {
            "tags": []
          },
          "execution_count": 15
        }
      ]
    },
    {
      "cell_type": "markdown",
      "metadata": {
        "id": "Qbdm1_zZkB8z",
        "colab_type": "text"
      },
      "source": [
        "### Extracting the location data from the `Genomic Location` string  "
      ]
    },
    {
      "cell_type": "markdown",
      "metadata": {
        "id": "5ty1ciKWRNbv",
        "colab_type": "text"
      },
      "source": [
        "As we can see, the genomic location is stored as a `string` containing \"chromosome:start base-stop base\". If we want to be able to filter for location, it will be helpful to break this string up into its chromosome, start, and stop components as separate columns that can be queried. To do that, we use two SQL functions: `SUBSTR`, which substrings the string to extract the information which is separated by either `:` or `-`; and `STRPOS`, which helps `SUBSTR` identify the location of the `;` and `-` so it can count the appropriate number of characters to extract. \n",
        "\n",
        "The following code gets the chromosome, which is everything before the `:`; start, which is everything between `:` and `-`; and stop, which is everything after `-`.\n",
        "\n",
        "After that, the chr, start, and stop columns will be almost useable -- the only issue is that start and stop are still `string` types, since `SUBSTR` only creates a smaller string. It's fine for chr to be a string, since we'd want to search for a coordinate range within a single chromosome and can simply match on the chromosome string. However, if we want to compare start and stop coordinates, they have to be integer type, `int64`, so that the numeric comparisons can be performed correctly (e.g. the string `\"200\"` would come after the string `\"10000\"`). Hence, we have to also cast the start and stop columns as `int64` using `CAST` and filter out any `NULL` or blank string rows first.\n",
        "\n",
        "Once we've casted, we can then filter the genes first based on their chromosome, then on the range that either their start or stop coordinate fall between. In this strategy, we include genes that have any overlap with our region of interest, not exclusively genes with complete overlap. \n",
        "\n",
        "Here, we have a script which does all of the above and searches for genes within the region of chromosome 1, base pairs 0 to 3,000,000 (i.e. 1:0-3000000):"
      ]
    },
    {
      "cell_type": "code",
      "metadata": {
        "id": "iG2T-zNyKqDa",
        "colab_type": "code",
        "colab": {
          "base_uri": "https://localhost:8080/",
          "height": 111
        },
        "outputId": "772bafc1-4da9-47b5-e649-99f9bb65f6f7"
      },
      "source": [
        "%%bigquery --project isb-cgc-02-0001\n",
        "\n",
        "# searching for all genes within predefined range, such as 1:0-3000000\n",
        "WITH loc_split AS(\n",
        "    SELECT Gene_Symbol, \n",
        "      Genome_Location, \n",
        "      SUBSTR(Genome_Location, 1, STRPOS(Genome_Location, \":\")-1) as chr,  # subtring from the first char to the char before the \":\"\n",
        "      # substring from char after \":\" to the char right before \"-\" as the first, or 'start', coordinate\n",
        "      SUBSTR(Genome_Location, STRPOS(Genome_Location, \":\")+1, STRPOS(Genome_Location, \"-\")-STRPOS(Genome_Location, \":\")-1) as start,\n",
        "      # substring from char after \"-\" to the very end as the second, or 'stop', coordinate\n",
        "      SUBSTR(Genome_Location, STRPOS(Genome_Location, \"-\")+1, LENGTH(Genome_Location)-STRPOS(Genome_Location, \"-\")) as stop\n",
        "    FROM `isb-cgc.COSMIC_v91_grch38.Cancer_Gene_Census`\n",
        "  ),\n",
        "\n",
        "  loc_split_final AS(\n",
        "      SELECT Gene_Symbol, Genome_Location as Genome_Loc_str, chr, \n",
        "        SAFE_CAST(start as int64) as start, SAFE_CAST(stop as int64) as stop  # cast values as appropriate data types\n",
        "      FROM loc_split \n",
        "      WHERE SAFE_CAST(start as int64) IS NOT NULL and SAFE_CAST(stop as int64) IS NOT NULL  # select rows where cast works properly\n",
        "  )\n",
        "\n",
        "SELECT Gene_Symbol, Genome_Loc_str, chr, start, stop\n",
        "FROM loc_split_final \n",
        "WHERE (chr LIKE \"1\")  # chr column matches chromosome 1\n",
        "    AND ((0 <= start AND start <= 3000000) OR (0 <= stop AND stop <= 3000000)); # start or stop values fall within region of interest\n",
        "\n"
      ],
      "execution_count": null,
      "outputs": [
        {
          "output_type": "execute_result",
          "data": {
            "text/html": [
              "<div>\n",
              "<style scoped>\n",
              "    .dataframe tbody tr th:only-of-type {\n",
              "        vertical-align: middle;\n",
              "    }\n",
              "\n",
              "    .dataframe tbody tr th {\n",
              "        vertical-align: top;\n",
              "    }\n",
              "\n",
              "    .dataframe thead th {\n",
              "        text-align: right;\n",
              "    }\n",
              "</style>\n",
              "<table border=\"1\" class=\"dataframe\">\n",
              "  <thead>\n",
              "    <tr style=\"text-align: right;\">\n",
              "      <th></th>\n",
              "      <th>Gene_Symbol</th>\n",
              "      <th>Genome_Loc_str</th>\n",
              "      <th>chr</th>\n",
              "      <th>start</th>\n",
              "      <th>stop</th>\n",
              "    </tr>\n",
              "  </thead>\n",
              "  <tbody>\n",
              "    <tr>\n",
              "      <th>0</th>\n",
              "      <td>TNFRSF14</td>\n",
              "      <td>1:2556366-2563829</td>\n",
              "      <td>1</td>\n",
              "      <td>2556366</td>\n",
              "      <td>2563829</td>\n",
              "    </tr>\n",
              "    <tr>\n",
              "      <th>1</th>\n",
              "      <td>SKI</td>\n",
              "      <td>1:2228695-2310119</td>\n",
              "      <td>1</td>\n",
              "      <td>2228695</td>\n",
              "      <td>2310119</td>\n",
              "    </tr>\n",
              "  </tbody>\n",
              "</table>\n",
              "</div>"
            ],
            "text/plain": [
              "  Gene_Symbol     Genome_Loc_str chr    start     stop\n",
              "0    TNFRSF14  1:2556366-2563829   1  2556366  2563829\n",
              "1         SKI  1:2228695-2310119   1  2228695  2310119"
            ]
          },
          "metadata": {
            "tags": []
          },
          "execution_count": 16
        }
      ]
    },
    {
      "cell_type": "markdown",
      "metadata": {
        "id": "oAb5FyuJkQnw",
        "colab_type": "text"
      },
      "source": [
        "### Allowing user input to search by custom location "
      ]
    },
    {
      "cell_type": "markdown",
      "metadata": {
        "id": "mOLUMFyISW1d",
        "colab_type": "text"
      },
      "source": [
        "We can see that we've successfully filtered for the genes within this region, returning two census genes, TNFRSF14 and SKI. But what if we didn't want to have to keep manually editing the script to select for different regions? What if we could enter in our region of interest as user input instead?\n",
        "\n",
        "We can incorporate user input into our filtering process by working in Python. After using `input()` to request a region of interest, we can separate this \"region of interest\" string into its own chr, start, and stop components using `String.split()`. \n",
        "\n",
        "Once we have this information, we can use `String.format()` to insert these values into a SQL query string of the exact same form as the one above, just with placeholders for the chr and the start/stop range. This yields the following script: "
      ]
    },
    {
      "cell_type": "code",
      "metadata": {
        "colab_type": "code",
        "id": "Yz-CAjmMuH7v",
        "colab": {
          "base_uri": "https://localhost:8080/",
          "height": 269
        },
        "outputId": "c0c2996a-4f80-4c9b-ef72-50791f05659b"
      },
      "source": [
        "# Genomic coordiantes must be in format chr:base_pair\n",
        "# Eg. 1:1000-1:2000\n",
        "\n",
        "# Ask for user input\n",
        "roi = input(\"Region of interest (must be in the format chr:start_basepair-stop_basepair): \\n\")\n",
        "region = roi.split(sep=\":\") # split input into chromosome and start-stop sections\n",
        "\n",
        "try:\n",
        "  chr_interest = str(region[0]) # extract chromosome from the split\n",
        "  # take the start-stop portion of split and split further by the \"-\" character to separate start and stop values\n",
        "  start_interest = int(region[1].split(sep=\"-\")[0])\n",
        "  stop_interest = int(region[1].split(sep=\"-\")[1])  \n",
        "\n",
        "  QUERY = '''\n",
        "    with loc_split as(\n",
        "      SELECT Gene_Symbol, \n",
        "        Genome_Location, \n",
        "        SUBSTR(Genome_Location, 1, STRPOS(Genome_Location, \":\")-1) as chr,\n",
        "        SUBSTR(Genome_Location, STRPOS(Genome_Location, \":\")+1, STRPOS(Genome_Location, \"-\")-STRPOS(Genome_Location, \":\")-1) as start,\n",
        "        SUBSTR(Genome_Location, STRPOS(Genome_Location, \"-\")+1, LENGTH(Genome_Location)-STRPOS(Genome_Location, \"-\")) as stop\n",
        "      FROM `isb-cgc.COSMIC_v91_grch38.Cancer_Gene_Census`\n",
        "    ),\n",
        "\n",
        "    loc_final as(\n",
        "      SELECT Gene_Symbol, Genome_Location as Genome_Loc_str, chr, \n",
        "        SAFE_CAST(start as int64) as start, SAFE_CAST(stop as int64) as stop \n",
        "      FROM loc_split \n",
        "      WHERE SAFE_CAST(start as int64) IS NOT NULL and SAFE_CAST(stop as int64) IS NOT NULL\n",
        "    )\n",
        "\n",
        "    SELECT Gene_Symbol, Genome_Loc_str, chr, start, stop\n",
        "    FROM loc_final \n",
        "    WHERE (chr LIKE \"{}\") AND (({} <= start AND start <= {}) OR ({} <= stop AND stop <= {}));\n",
        "\n",
        "  '''.format(chr_interest, start_interest, stop_interest, start_interest, stop_interest)\n",
        "\n",
        "  genes_in_range = client.query(QUERY).result().to_dataframe()\n",
        "\n",
        "  display(genes_in_range)\n",
        "  #print(tabulate(genes_in_range, headers='keys', tablefmt='simple'))\n",
        "\n",
        "except:\n",
        "  print(\"Please enter a location in the appropriate format.\")\n"
      ],
      "execution_count": null,
      "outputs": [
        {
          "output_type": "stream",
          "text": [
            "Region of interest (must be in the format chr:start_basepair-stop_basepair): \n",
            "12:1-10000000\n"
          ],
          "name": "stdout"
        },
        {
          "output_type": "display_data",
          "data": {
            "text/html": [
              "<div>\n",
              "<style scoped>\n",
              "    .dataframe tbody tr th:only-of-type {\n",
              "        vertical-align: middle;\n",
              "    }\n",
              "\n",
              "    .dataframe tbody tr th {\n",
              "        vertical-align: top;\n",
              "    }\n",
              "\n",
              "    .dataframe thead th {\n",
              "        text-align: right;\n",
              "    }\n",
              "</style>\n",
              "<table border=\"1\" class=\"dataframe\">\n",
              "  <thead>\n",
              "    <tr style=\"text-align: right;\">\n",
              "      <th></th>\n",
              "      <th>Gene_Symbol</th>\n",
              "      <th>Genome_Loc_str</th>\n",
              "      <th>chr</th>\n",
              "      <th>start</th>\n",
              "      <th>stop</th>\n",
              "    </tr>\n",
              "  </thead>\n",
              "  <tbody>\n",
              "    <tr>\n",
              "      <th>0</th>\n",
              "      <td>CHD4</td>\n",
              "      <td>12:6570088-6607476</td>\n",
              "      <td>12</td>\n",
              "      <td>6570088</td>\n",
              "      <td>6607476</td>\n",
              "    </tr>\n",
              "    <tr>\n",
              "      <th>1</th>\n",
              "      <td>CCND2</td>\n",
              "      <td>12:4273772-4305350</td>\n",
              "      <td>12</td>\n",
              "      <td>4273772</td>\n",
              "      <td>4305350</td>\n",
              "    </tr>\n",
              "    <tr>\n",
              "      <th>2</th>\n",
              "      <td>ZNF384</td>\n",
              "      <td>12:6666648-6689510</td>\n",
              "      <td>12</td>\n",
              "      <td>6666648</td>\n",
              "      <td>6689510</td>\n",
              "    </tr>\n",
              "    <tr>\n",
              "      <th>3</th>\n",
              "      <td>KDM5A</td>\n",
              "      <td>12:280129-389454</td>\n",
              "      <td>12</td>\n",
              "      <td>280129</td>\n",
              "      <td>389454</td>\n",
              "    </tr>\n",
              "    <tr>\n",
              "      <th>4</th>\n",
              "      <td>PTPN6</td>\n",
              "      <td>12:6951271-6961316</td>\n",
              "      <td>12</td>\n",
              "      <td>6951271</td>\n",
              "      <td>6961316</td>\n",
              "    </tr>\n",
              "    <tr>\n",
              "      <th>5</th>\n",
              "      <td>ERC1</td>\n",
              "      <td>12:1027747-1495924</td>\n",
              "      <td>12</td>\n",
              "      <td>1027747</td>\n",
              "      <td>1495924</td>\n",
              "    </tr>\n",
              "  </tbody>\n",
              "</table>\n",
              "</div>"
            ],
            "text/plain": [
              "  Gene_Symbol      Genome_Loc_str chr    start     stop\n",
              "0        CHD4  12:6570088-6607476  12  6570088  6607476\n",
              "1       CCND2  12:4273772-4305350  12  4273772  4305350\n",
              "2      ZNF384  12:6666648-6689510  12  6666648  6689510\n",
              "3       KDM5A    12:280129-389454  12   280129   389454\n",
              "4       PTPN6  12:6951271-6961316  12  6951271  6961316\n",
              "5        ERC1  12:1027747-1495924  12  1027747  1495924"
            ]
          },
          "metadata": {
            "tags": []
          }
        }
      ]
    },
    {
      "cell_type": "markdown",
      "metadata": {
        "id": "atbRtJnukmYy",
        "colab_type": "text"
      },
      "source": [
        "### Making the gene-filtering process interactive"
      ]
    },
    {
      "cell_type": "markdown",
      "metadata": {
        "id": "zrJRFl3nLnBd",
        "colab_type": "text"
      },
      "source": [
        "Now we've successfully added user input! As a last extension, what if we wanted to make this user input continuous and fast? It would be nice, for example, to simply be able to select a chromosome from a drop-down list and have the script display all the genes from that chromosome. \n",
        "\n",
        "To add this level of interactivity, we can use an IPython feature called **widgets**. Widgets can be drop-downs, radio buttons, text boxes, and a whole other array of interactive features that can be linked to functions. Changing the value of a widget can change the output of a function, allowing users to create quick, interactive outputs. The widgets documentation can be found [here](https://ipywidgets.readthedocs.io/en/latest/index.html). \n",
        "\n",
        "Hence, we can create a drop-down widget for the value of the chromosome we're interested in, and link this widget to a function which performs the genomic coordinate filtering query using the chromsome value selected. \n",
        "\n",
        "In fact, we can make the genomic coordinate filter as interactive as we want! For example, if we want to take advantage of other information in the `Cancer_Gene_Census` table, we can create another widget linked to the filtering function which will apply a second criteria to the `WHERE` statement to select for only those genes that are *hallmark* (`Hallmark` value is 'Yes').   \n",
        "\n",
        "It might also be helpful to be able to view as few or as many rows as we want. We can create a third widget, this one a text box, which will allow us to set a row view number on the query result. This widget, also linked to the filtering function, would act on the Python code following the SQL query.\n",
        "\n",
        "Hence, the resulting script incorporating these widgets is:\n"
      ]
    },
    {
      "cell_type": "code",
      "metadata": {
        "id": "ZCGGfY0BBLQT",
        "colab_type": "code",
        "colab": {
          "base_uri": "https://localhost:8080/",
          "height": 447,
          "referenced_widgets": [
            "8b8d6533f8144fc4b3aa92d304bdc901",
            "82b4599d30984a83a894c7ce6bf46bf3",
            "094032a70040453d916eea81e59af5b2",
            "fd8f2e94e5694d96b02ce1b51c83d486",
            "0a028fab628f434dae4a8867b545b2ec",
            "2dc712afcac84328ab90a70b63c6a654",
            "fe531b5d99fb4df192ee7b6a1e451aea",
            "cd36f0eb3c21427fa046b5492836beba",
            "9748f8cd9210485baed4fe9d63ecae3b",
            "44873af9894c4e85901f9682a5066bc3",
            "9c504123f4dc4c2db1ec6b1efda3e7e0",
            "7461d9da6cd945f6aa691f1a32594fb7",
            "e085e4eb9421417ea1789e430cf83355"
          ]
        },
        "outputId": "40229e8a-7edc-4b7c-89a4-46055c98847a"
      },
      "source": [
        "import ipywidgets as widgets  # import the widgets library\n",
        "from ipywidgets import interact, interactive, interact_manual, fixed  # import certain widgets functions to use directly\n",
        "\n",
        "def get_genes(chr_of_interest, hallmark, view_num):\n",
        "  \"\"\"\n",
        "  This function is going to take a user-input chromosome via a dropdown widget and run \n",
        "  a modified version of the genomic coordinate-splitting SQL query which simply selects \n",
        "  all genes whose 'chr' values match that given chromosome (and thus, we omit the whole \n",
        "  start and stop comparison).\n",
        "  \"\"\"\n",
        "\n",
        "  QUERY = '''\n",
        "    with loc_split as(\n",
        "          SELECT \n",
        "            Gene_Symbol,  \n",
        "            Genome_Location,\n",
        "            Chr_Band,\n",
        "            Hallmark,\n",
        "            SUBSTR(Genome_Location, 1, STRPOS(Genome_Location, \":\")-1) as chr,\n",
        "            SUBSTR(Genome_Location, STRPOS(Genome_Location, \":\")+1, STRPOS(Genome_Location, \"-\")-STRPOS(Genome_Location, \":\")-1) as start,\n",
        "            SUBSTR(Genome_Location, STRPOS(Genome_Location, \"-\")+1, LENGTH(Genome_Location)-STRPOS(Genome_Location, \"-\")) as stop\n",
        "          FROM `isb-cgc.COSMIC_v91_grch38.Cancer_Gene_Census`\n",
        "        ),\n",
        "\n",
        "        loc_final as(\n",
        "          SELECT \n",
        "            Gene_Symbol,  \n",
        "            Genome_Location as Genome_Loc_str, \n",
        "            Chr_Band,\n",
        "            Hallmark,\n",
        "            chr,\n",
        "            SAFE_CAST(start as int64) as start, \n",
        "            SAFE_CAST(stop as int64) as stop \n",
        "          FROM loc_split \n",
        "          WHERE SAFE_CAST(start as int64) IS NOT NULL and SAFE_CAST(stop as int64) IS NOT NULL\n",
        "        )\n",
        "\n",
        "        SELECT Gene_Symbol, chr, start, stop, Genome_Loc_str, Chr_Band, Hallmark\n",
        "        FROM loc_final \n",
        "        WHERE (chr LIKE \"{}\") {}\n",
        "        ORDER BY start ASC;\n",
        "\n",
        "    '''\n",
        "  if hallmark == True:  # create the option to view just the hallmark genes\n",
        "    QUERY = QUERY.format(chr_of_interest, 'AND Hallmark LIKE \"Yes\"')\n",
        "  else:\n",
        "    QUERY = QUERY.format(chr_of_interest, '')\n",
        "\n",
        "\n",
        "  genes_in_chr = client.query(QUERY).result().to_dataframe()  \n",
        "\n",
        "  try:  # we display using try-except in case view_num happens to be NULL\n",
        "    display(genes_in_chr.head(int(view_num))) \n",
        "  except:\n",
        "    display(\"Please enter a number of rows to view\") # in case of an error, will tell user to define view_num\n",
        "\n",
        "style = {'description_width': 'initial'}  # so that the descriptions for each widget are fully displayed\n",
        "chr_chooser = widgets.Dropdown( # create the chromosome drop-down widget\n",
        "    options = ['1','2','3','4','5','6','7','8','9','10',\n",
        "              '11','12','13','14','15','16','17','18','19','20',\n",
        "              '21','22','X'], # our options are the 23 chromosomes in the Cancer Gene Census\n",
        "    \n",
        "    description = 'Chromosome:',\n",
        "    style = style \n",
        ")\n",
        "\n",
        "show_rows = widgets.Text( # create the row display text box widget\n",
        "    value='10', # program will auto-display 10 rows at the start, as default\n",
        "    placeholder='Enter number of rows', # text that shows when text box is empty\n",
        "    description='Show how many rows:', \n",
        "    style = style\n",
        ")\n",
        "\n",
        "hallmark_toggle = widgets.Dropdown( # create the hallmark option widget as a 2-option drop-down\n",
        "    options=[('Yes', True), ('No, show all', False)], # associate the Yes and No options with True and False values\n",
        "    # when 'Yes' selected, hallmark_toggle widget will input a True value into the filtering function\n",
        "    description='Select hallmark genes?',\n",
        "    style=style,\n",
        "    value=False # program will auto-display all rows at the start, as default\n",
        ")\n",
        "\n",
        "# interactive(f, args) is the command used to link the widgets to the function! \n",
        "# it will auto-initiate the widgets and run the function with the widgets' default values\n",
        "interactive(get_genes, chr_of_interest = chr_chooser, hallmark = hallmark_toggle, view_num = show_rows)\n"
      ],
      "execution_count": null,
      "outputs": [
        {
          "output_type": "display_data",
          "data": {
            "application/vnd.jupyter.widget-view+json": {
              "model_id": "8b8d6533f8144fc4b3aa92d304bdc901",
              "version_minor": 0,
              "version_major": 2
            },
            "text/plain": [
              "interactive(children=(Dropdown(description='Chromosome:', options=('1', '2', '3', '4', '5', '6', '7', '8', '9'…"
            ]
          },
          "metadata": {
            "tags": []
          }
        }
      ]
    },
    {
      "cell_type": "markdown",
      "metadata": {
        "id": "tCCpCqVtQUXJ",
        "colab_type": "text"
      },
      "source": [
        "We have now taken a static filtering query and made it much more interactive, creating a tool that can be used to browse the census genes much more freely. This technique can be very useful for future explorations of the COSMIC data!"
      ]
    },
    {
      "cell_type": "markdown",
      "metadata": {
        "id": "sdyQDSMRvvm8",
        "colab_type": "text"
      },
      "source": [
        "## Looking up HGNC ID's for census genes"
      ]
    },
    {
      "cell_type": "markdown",
      "metadata": {
        "id": "Z5od0zjKYFQb",
        "colab_type": "text"
      },
      "source": [
        "A last application of the Cancer Gene Census actually integrates another table, `HGNC`. Suppose we wanted to do further research into a cohort of genes we had assembled through a query, such as the one above querying for all the genes on a specific chromosome. It might be useful to know the genes' IDs in multiple databases, and COSMIC contains the table `HGNC` which stores the HUGO Gene Nomenclature Committee (HGNC) ID for every gene in COSMIC. \n",
        "\n",
        "How can we quickly match the HGNC IDs to the census genes in our query result? We can perform the SQL `JOIN` command, which joins the rows of two tables together based on a matching column between the two tables. If we can identify a column in the `Cancer_Gene_Census` table which matches a column in `HGNC`, then we can perform a join and bring in the `HGNC.HGNC_ID` column's info to the census genes. Luckily, `Cancer_Gene_Census` has a column called `Entrez_GeneId` which corresponds to the `Entrez_id` column in `HGNC`, so we can perform the join and match the appropriate HGNC rows to the census genes. The following is a script which demonstrates the `JOIN` between `HGNC` and the whole `Cancer_Gene_Census` table. In addition to bringing in the HGNC ID's, we also bring in a column from `HGNC` which contains whether a gene is a census gene or not, so that we can verify the `JOIN` is matching appropriately:"
      ]
    },
    {
      "cell_type": "code",
      "metadata": {
        "id": "iXU6KWZHvuvh",
        "colab_type": "code",
        "colab": {
          "base_uri": "https://localhost:8080/",
          "height": 419
        },
        "outputId": "b80f1e2e-3939-473e-9181-d1948004aaff"
      },
      "source": [
        "%%bigquery --project isb-cgc-02-0001\n",
        "\n",
        "SELECT t1.Gene_Symbol as Census_Gene, t1.Entrez_GeneId as Entrez_ID, t2.HGNC_ID, t2.Cancer_census \n",
        "FROM `isb-cgc.COSMIC_v91_grch38.Cancer_Gene_Census` as t1\n",
        "JOIN `isb-cgc.COSMIC_v91_grch38.HGNC` as t2\n",
        "ON t1.Entrez_GeneId = t2.Entrez_id;"
      ],
      "execution_count": null,
      "outputs": [
        {
          "output_type": "execute_result",
          "data": {
            "text/html": [
              "<div>\n",
              "<style scoped>\n",
              "    .dataframe tbody tr th:only-of-type {\n",
              "        vertical-align: middle;\n",
              "    }\n",
              "\n",
              "    .dataframe tbody tr th {\n",
              "        vertical-align: top;\n",
              "    }\n",
              "\n",
              "    .dataframe thead th {\n",
              "        text-align: right;\n",
              "    }\n",
              "</style>\n",
              "<table border=\"1\" class=\"dataframe\">\n",
              "  <thead>\n",
              "    <tr style=\"text-align: right;\">\n",
              "      <th></th>\n",
              "      <th>Census_Gene</th>\n",
              "      <th>Entrez_ID</th>\n",
              "      <th>HGNC_ID</th>\n",
              "      <th>Cancer_census</th>\n",
              "    </tr>\n",
              "  </thead>\n",
              "  <tbody>\n",
              "    <tr>\n",
              "      <th>0</th>\n",
              "      <td>ACVR2A</td>\n",
              "      <td>92</td>\n",
              "      <td>173</td>\n",
              "      <td>y</td>\n",
              "    </tr>\n",
              "    <tr>\n",
              "      <th>1</th>\n",
              "      <td>APC</td>\n",
              "      <td>324</td>\n",
              "      <td>583</td>\n",
              "      <td>y</td>\n",
              "    </tr>\n",
              "    <tr>\n",
              "      <th>2</th>\n",
              "      <td>ARID1B</td>\n",
              "      <td>57492</td>\n",
              "      <td>18040</td>\n",
              "      <td>y</td>\n",
              "    </tr>\n",
              "    <tr>\n",
              "      <th>3</th>\n",
              "      <td>ARID2</td>\n",
              "      <td>196528</td>\n",
              "      <td>18037</td>\n",
              "      <td>y</td>\n",
              "    </tr>\n",
              "    <tr>\n",
              "      <th>4</th>\n",
              "      <td>ASXL1</td>\n",
              "      <td>171023</td>\n",
              "      <td>18318</td>\n",
              "      <td>y</td>\n",
              "    </tr>\n",
              "    <tr>\n",
              "      <th>...</th>\n",
              "      <td>...</td>\n",
              "      <td>...</td>\n",
              "      <td>...</td>\n",
              "      <td>...</td>\n",
              "    </tr>\n",
              "    <tr>\n",
              "      <th>565</th>\n",
              "      <td>GOLGA5</td>\n",
              "      <td>9950</td>\n",
              "      <td>4428</td>\n",
              "      <td>y</td>\n",
              "    </tr>\n",
              "    <tr>\n",
              "      <th>566</th>\n",
              "      <td>NTRK1</td>\n",
              "      <td>4914</td>\n",
              "      <td>8031</td>\n",
              "      <td>y</td>\n",
              "    </tr>\n",
              "    <tr>\n",
              "      <th>567</th>\n",
              "      <td>ATP2B3</td>\n",
              "      <td>492</td>\n",
              "      <td>816</td>\n",
              "      <td>y</td>\n",
              "    </tr>\n",
              "    <tr>\n",
              "      <th>568</th>\n",
              "      <td>CACNA1D</td>\n",
              "      <td>776</td>\n",
              "      <td>1391</td>\n",
              "      <td>y</td>\n",
              "    </tr>\n",
              "    <tr>\n",
              "      <th>569</th>\n",
              "      <td>ATP1A1</td>\n",
              "      <td>476</td>\n",
              "      <td>799</td>\n",
              "      <td>y</td>\n",
              "    </tr>\n",
              "  </tbody>\n",
              "</table>\n",
              "<p>570 rows × 4 columns</p>\n",
              "</div>"
            ],
            "text/plain": [
              "    Census_Gene  Entrez_ID  HGNC_ID Cancer_census\n",
              "0        ACVR2A         92      173             y\n",
              "1           APC        324      583             y\n",
              "2        ARID1B      57492    18040             y\n",
              "3         ARID2     196528    18037             y\n",
              "4         ASXL1     171023    18318             y\n",
              "..          ...        ...      ...           ...\n",
              "565      GOLGA5       9950     4428             y\n",
              "566       NTRK1       4914     8031             y\n",
              "567      ATP2B3        492      816             y\n",
              "568     CACNA1D        776     1391             y\n",
              "569      ATP1A1        476      799             y\n",
              "\n",
              "[570 rows x 4 columns]"
            ]
          },
          "metadata": {
            "tags": []
          },
          "execution_count": 21
        }
      ]
    },
    {
      "cell_type": "markdown",
      "metadata": {
        "id": "5x5lRi08du1d",
        "colab_type": "text"
      },
      "source": [
        "As you can see, we now have an `HGNC_ID` column for each of the census genes in the table. In addition, we see that every visible row in the `Cancer_census` column displays \"y\", indicating that our `JOIN` performed correctly!\n"
      ]
    },
    {
      "cell_type": "markdown",
      "metadata": {
        "id": "ehomSM5fP-Vl",
        "colab_type": "text"
      },
      "source": [
        "## Where to Go Next\n",
        "\n",
        "Explore, Discover, and Analyze the Data provided by ISB-CGC along with side by side with your own :)\n",
        "\n",
        "More COSMIC Notebooks coming soon to ISB-CGC! [Check the Github repo for the latest notebooks.](https://isb-cancer-genomics-cloud.readthedocs.io/en/latest/sections/HowTos.html)\n",
        "\n",
        "ISB-CGC Links:\n",
        "\n",
        "* [ISB-CGC Landing Page](https://isb-cgc.appspot.com/)\n",
        "* [ISB-CGC Documentation](https://isb-cancer-genomics-cloud.readthedocs.io/en/latest/)\n",
        "* [How to Get Started on ISB-CGC](https://isb-cancer-genomics-cloud.readthedocs.io/en/latest/sections/HowToGetStartedonISB-CGC.html)\n",
        "* [How to access Google BigQuery](https://isb-cancer-genomics-cloud.readthedocs.io/en/latest/sections/progapi/bigqueryGUI/HowToAccessBigQueryFromTheGoogleCloudPlatform.html)\n",
        "* [Community Notebook Repository](https://isb-cancer-genomics-cloud.readthedocs.io/en/latest/sections/HowTos.html)\n",
        "* [Query of the Month](https://isb-cancer-genomics-cloud.readthedocs.io/en/latest/sections/QueryOfTheMonthClub.html)\n",
        "* [Quick Links](https://isb-cancer-genomics-cloud.readthedocs.io/en/latest/sections/QuicklinksOneTable.html)\n",
        "\n",
        "Google Tutorials:\n",
        "\n",
        "* [Google's What is BigQuery?](https://cloud.google.com/bigquery/what-is-bigquery)\n",
        "* [Google Cloud Client Library for Python](https://googleapis.github.io/google-cloud-python/latest/index.html)"
      ]
    }
  ]
}